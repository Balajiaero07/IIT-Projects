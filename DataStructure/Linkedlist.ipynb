{
 "cells": [
  {
   "cell_type": "code",
   "execution_count": 4,
   "metadata": {},
   "outputs": [],
   "source": [
    "class Node(object):\n",
    "\n",
    "    def __init__ (self, d, n = None):\n",
    "        self.data = d\n",
    "        self.next_node = n\n",
    "\n",
    "    def get_next (self):\n",
    "        return self.next_node\n",
    "\n",
    "    def set_next (self, n):\n",
    "        self.next_node = n\n",
    "\n",
    "    def get_data (self):\n",
    "        return self.data\n",
    "\n",
    "    def set_data (self, d):\n",
    "        self.data = d\n",
    "class LinkedList (object):\n",
    "    def __init__(self, r = None):\n",
    "        self.root = r\n",
    "        self.size = 0\n",
    "\n",
    "    def get_size (self):\n",
    "        return self.size\n",
    "\n",
    "    def add (self, d):\n",
    "        new_node = Node (d, self.root)\n",
    "        self.root = new_node\n",
    "        self.size += 1\n",
    "\n",
    "    def remove (self, d):\n",
    "        this_node = self.root\n",
    "        prev_node = None\n",
    "\n",
    "        while this_node:\n",
    "            if this_node.get_data() == d:\n",
    "                if prev_node:\n",
    "                    prev_node.set_next(this_node.get_next())\n",
    "                else:\n",
    "                    self.root = this_node.get_next()\n",
    "                self.size -= 1\n",
    "                return True\t\t# data removed\n",
    "            else:\n",
    "                prev_node = this_node\n",
    "                this_node = this_node.get_next()\n",
    "        return False  # data not found\n",
    "\n",
    "    def find (self, d):\n",
    "        this_node = self.root\n",
    "        while this_node:\n",
    "            if this_node.get_data() == d:\n",
    "                return d\n",
    "            else:\n",
    "                this_node = this_node.get_next()\n",
    "        return None"
   ]
  },
  {
   "cell_type": "code",
   "execution_count": 8,
   "metadata": {},
   "outputs": [
    {
     "name": "stdout",
     "output_type": "stream",
     "text": [
      "<__main__.LinkedList object at 0x7f9e0022db70>\n"
     ]
    }
   ],
   "source": [
    "myList = LinkedList()\n",
    "myList.add(5)\n",
    "myList.add(8)\n",
    "myList.add(12)\n",
    "myList.find(5)\n",
    "myList.remove(5)\n",
    "print(myList)"
   ]
  }
 ],
 "metadata": {
  "kernelspec": {
   "display_name": "Python 3",
   "language": "python",
   "name": "python3"
  },
  "language_info": {
   "codemirror_mode": {
    "name": "ipython",
    "version": 3
   },
   "file_extension": ".py",
   "mimetype": "text/x-python",
   "name": "python",
   "nbconvert_exporter": "python",
   "pygments_lexer": "ipython3",
   "version": "3.6.5"
  }
 },
 "nbformat": 4,
 "nbformat_minor": 2
}
