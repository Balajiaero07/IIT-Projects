{
 "cells": [
  {
   "cell_type": "code",
   "execution_count": 199,
   "metadata": {},
   "outputs": [
    {
     "name": "stdout",
     "output_type": "stream",
     "text": [
      "State: [(array([[1]]), array([[11]]), array([[17]]))] Action: [(2, 4)] Reward: [[-3]] Nextstate: [[array(4), array([[18]], dtype=int32), array([[17]])]]\n",
      "State: [(array([[9]]), array([[10]]), array([[3]]))] Action: [(8, 7)] Reward: [[2]] Nextstate: [[array(7), array([[20]], dtype=int32), array([[3]])]]\n",
      "State: [(array([[3]]), array([[2]]), array([[19]]))] Action: [(1, 2)] Reward: [[-3]] Nextstate: [[array(2), array([[19]], dtype=int32), array([[19]])]]\n",
      "State: [(array([[1]]), array([[3]]), array([[11]]))] Action: [(1, 6)] Reward: [[5]] Nextstate: [[array(6), array([[12]], dtype=int32), array([[11]])]]\n",
      "State: [(array([[8]]), array([[23]]), array([[17]]))] Action: [(9, 3)] Reward: [[0]] Nextstate: [[array(3), array([[19]], dtype=int32), array([[18]])]]\n",
      "State: [(array([[9]]), array([[4]]), array([[22]]))] Action: [(1, 2)] Reward: [[-4]] Nextstate: [[array(2), array([[12]], dtype=int32), array([[22]])]]\n",
      "State: [(array([[9]]), array([[11]]), array([[6]]))] Action: [(6, 7)] Reward: [[-7]] Nextstate: [[array(7), array([[0]], dtype=int32), array([[7]])]]\n",
      "State: [(array([[6]]), array([[12]]), array([[14]]))] Action: [(6, 9)] Reward: [[2]] Nextstate: [[array(9), array([[20]], dtype=int32), array([[14]])]]\n",
      "State: [(array([[3]]), array([[9]]), array([[27]]))] Action: [(7, 9)] Reward: [[6]] Nextstate: [[array(9), array([[17]], dtype=int32), array([[27]])]]\n",
      "State: [(array([[5]]), array([[15]]), array([[13]]))] Action: [(1, 4)] Reward: [[0]] Nextstate: [[array(4), array([[9]], dtype=int32), array([[14]])]]\n"
     ]
    }
   ],
   "source": [
    "import numpy as np\n",
    "import random\n",
    "import math\n",
    "\n",
    "m = 10 # number of locations\n",
    "t = 24 # number of hours\n",
    "d = 30 # number of days\n",
    "episode_length = 10\n",
    "Time_matrix = np.random.randint(1, 11,(m, m))\n",
    "for epi_len in range(episode_length):\n",
    "    # pick a random location\n",
    "    start_location=[(np.random.randint(1, m,(1, 1)),np.random.randint(1, t,(1, 1)),np.random.randint(1, d,(1, 1)))]\n",
    "    # pick a random action\n",
    "    action = [(np.random.randint(1, m), np.random.randint(1, m))]\n",
    "    reward =  Time_matrix[action[0][0]-1,action[0][1]-1] - Time_matrix[start_location[0][0]-1,action[0][0]-1]\n",
    "    current_state = start_location\n",
    "    i =  action[0][1]\n",
    "    j = (start_location[0][1]+Time_matrix[action[0][0]-1,action[0][1]-1] + Time_matrix[start_location[0][0]-1,action[0][0]-1])%t\n",
    "    l = start_location[0][2] + math.floor((start_location[0][1]+Time_matrix[action[0][0]-1,action[0][1]-1] + Time_matrix[start_location[0][0]-1,action[0][0]-1])/t)\n",
    "    if l > 30:\n",
    "        k = 1 + math.floor((start_location[0][1]+Time_matrix[action[0][0]-1,action[0][1]-1] + Time_matrix[start_location[0][0]-1,action[0][0]-1])/t)\n",
    "    else:\n",
    "        k = l \n",
    "    start_location = [[np.array(i),np.array(j),np.array(k)]]\n",
    "    print(\"State:\",current_state, \"Action:\", action, \"Reward:\", reward, \"Nextstate:\", start_location)"
   ]
  },
  {
   "cell_type": "code",
   "execution_count": 198,
   "metadata": {},
   "outputs": [
    {
     "data": {
      "text/plain": [
       "30"
      ]
     },
     "execution_count": 198,
     "metadata": {},
     "output_type": "execute_result"
    }
   ],
   "source": []
  }
 ],
 "metadata": {
  "kernelspec": {
   "display_name": "Python 3",
   "language": "python",
   "name": "python3"
  },
  "language_info": {
   "codemirror_mode": {
    "name": "ipython",
    "version": 3
   },
   "file_extension": ".py",
   "mimetype": "text/x-python",
   "name": "python",
   "nbconvert_exporter": "python",
   "pygments_lexer": "ipython3",
   "version": "3.5.5"
  }
 },
 "nbformat": 4,
 "nbformat_minor": 2
}
