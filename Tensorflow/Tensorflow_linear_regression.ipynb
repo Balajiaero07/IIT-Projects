{
 "cells": [
  {
   "cell_type": "code",
   "execution_count": 6,
   "metadata": {},
   "outputs": [
    {
     "name": "stdout",
     "output_type": "stream",
     "text": [
      "30\n"
     ]
    }
   ],
   "source": [
    "import tensorflow as tf\n",
    "\n",
    "x1 = tf.constant(5)\n",
    "x2 = tf.constant(6)\n",
    "\n",
    "result = tf.multiply(x1,x2)\n",
    "with tf.Session() as sess:\n",
    "    output = sess.run(result)\n",
    "    print(output)"
   ]
  },
  {
   "cell_type": "code",
   "execution_count": 7,
   "metadata": {},
   "outputs": [],
   "source": [
    "import numpy as np\n",
    "import tensorflow as tf\n",
    "import matplotlib.pyplot as plt\n"
   ]
  },
  {
   "cell_type": "code",
   "execution_count": 11,
   "metadata": {},
   "outputs": [],
   "source": [
    "\n",
    "# Training Data\n",
    "train_X = np.asarray([3.3,4.4,5.5,6.71,6.93,4.168,9.779,6.182,7.59,2.167,\n",
    "                         7.042,10.791,5.313,7.997,5.654,9.27,3.1])\n",
    "train_Y = np.asarray([1.7,2.76,2.09,3.19,1.694,1.573,3.366,2.596,2.53,1.221,\n",
    "                         2.827,3.465,1.65,2.904,2.42,2.94,1.3])\n",
    "n_samples = train_X.shape[0]\n",
    "\n",
    "# tf.placeholders for the input and output of the network. Placeholders are\n",
    "# variables which we need to fill in when we are ready to compute the graph.\n",
    "X = tf.placeholder(tf.float32)\n",
    "Y = tf.placeholder(tf.float32)\n",
    "W = tf.Variable(tf.random_normal([1]), name='weight')\n",
    "b = tf.Variable(tf.random_normal([1]), name='bias')"
   ]
  },
  {
   "cell_type": "code",
   "execution_count": 15,
   "metadata": {},
   "outputs": [],
   "source": [
    "\n",
    "pred = tf.add(tf.multiply(X, W), b)\n",
    "cost = tf.reduce_sum(tf.pow(pred-Y, 2))/(2*n_samples)\n",
    "learning_rate = 0.01\n",
    "\n",
    "# Gradient descent\n",
    "optimizer = tf.train.GradientDescentOptimizer(learning_rate).minimize(cost)\n",
    "# Initializing the variables\n",
    "init = tf.global_variables_initializer()"
   ]
  },
  {
   "cell_type": "code",
   "execution_count": 16,
   "metadata": {},
   "outputs": [
    {
     "name": "stdout",
     "output_type": "stream",
     "text": [
      "Epoch: 0050 cost= 0.123391867 W= [0.37012333] b= [-0.0656156]\n",
      "Epoch: 0100 cost= 0.118026540 W= [0.36295477] b= [-0.01404606]\n",
      "Epoch: 0150 cost= 0.113281034 W= [0.3562127] b= [0.03445636]\n",
      "Epoch: 0200 cost= 0.109083787 W= [0.3498715] b= [0.08007415]\n",
      "Epoch: 0250 cost= 0.105371512 W= [0.34390748] b= [0.12297869]\n",
      "Epoch: 0300 cost= 0.102088124 W= [0.3382982] b= [0.16333173]\n",
      "Epoch: 0350 cost= 0.099184170 W= [0.33302253] b= [0.2012848]\n",
      "Epoch: 0400 cost= 0.096615814 W= [0.3280606] b= [0.23698047]\n",
      "Epoch: 0450 cost= 0.094344303 W= [0.3233938] b= [0.27055302]\n",
      "Epoch: 0500 cost= 0.092335291 W= [0.31900442] b= [0.3021296]\n",
      "Epoch: 0550 cost= 0.090558566 W= [0.31487626] b= [0.3318274]\n",
      "Epoch: 0600 cost= 0.088987216 W= [0.31099358] b= [0.35975897]\n",
      "Epoch: 0650 cost= 0.087597512 W= [0.30734187] b= [0.38603026]\n",
      "Epoch: 0700 cost= 0.086368553 W= [0.30390713] b= [0.41073835]\n",
      "Epoch: 0750 cost= 0.085281722 W= [0.300677] b= [0.43397614]\n",
      "Epoch: 0800 cost= 0.084320582 W= [0.2976388] b= [0.45583272]\n",
      "Epoch: 0850 cost= 0.083470613 W= [0.29478124] b= [0.47638956]\n",
      "Epoch: 0900 cost= 0.082718976 W= [0.29209375] b= [0.49572352]\n",
      "Epoch: 0950 cost= 0.082054347 W= [0.28956604] b= [0.51390684]\n",
      "Epoch: 1000 cost= 0.081466630 W= [0.28718886] b= [0.53100884]\n",
      "Optimization Finished!\n",
      "Training cost= 0.08146663 W= [0.28718886] b= [0.53100884] \n",
      "\n"
     ]
    },
    {
     "data": {
      "image/png": "[encoded data removed]",
      "text/plain": [
       "<Figure size 432x288 with 1 Axes>"
      ]
     },
     "metadata": {},
     "output_type": "display_data"
    }
   ],
   "source": [
    "# %% We create a session to use the graph\n",
    "n_epochs = 1000\n",
    "display_step=50\n",
    "# Launch the graph\n",
    "with tf.Session() as sess:\n",
    "    sess.run(init)\n",
    "\n",
    "    # Fit all training data\n",
    "    for epoch in range(n_epochs):\n",
    "        for (x, y) in zip(train_X, train_Y):\n",
    "            sess.run(optimizer, feed_dict={X: x, Y: y})\n",
    "\n",
    "        #Display logs per epoch step\n",
    "        if (epoch+1) % display_step == 0:\n",
    "            c = sess.run(cost, feed_dict={X: train_X, Y:train_Y})\n",
    "            print (\"Epoch:\", '%04d' % (epoch+1), \"cost=\", \"{:.9f}\".format(c), \\\n",
    "                \"W=\", sess.run(W), \"b=\", sess.run(b))\n",
    "\n",
    "    print (\"Optimization Finished!\")\n",
    "    training_cost = sess.run(cost, feed_dict={X: train_X, Y: train_Y})\n",
    "    print (\"Training cost=\", training_cost, \"W=\", sess.run(W), \"b=\", sess.run(b), '\\n')\n",
    "\n",
    "    #Graphic display\n",
    "    plt.plot(train_X, train_Y, 'ro', label='Original data')\n",
    "    plt.plot(train_X, sess.run(W) * train_X + sess.run(b), label='Fitted line')\n",
    "    plt.legend()\n",
    "    plt.show()"
   ]
  }
 ],
 "metadata": {
  "kernelspec": {
   "display_name": "Python 3",
   "language": "python",
   "name": "python3"
  },
  "language_info": {
   "codemirror_mode": {
    "name": "ipython",
    "version": 3
   },
   "file_extension": ".py",
   "mimetype": "text/x-python",
   "name": "python",
   "nbconvert_exporter": "python",
   "pygments_lexer": "ipython3",
   "version": "3.5.5"
  }
 },
 "nbformat": 4,
 "nbformat_minor": 2
}
