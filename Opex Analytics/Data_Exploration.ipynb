{
 "cells": [
  {
   "cell_type": "code",
   "execution_count": 2,
   "metadata": {
    "collapsed": true
   },
   "outputs": [],
   "source": [
    "import pandas as pd\n",
    "import numpy as np\n",
    "import matplotlib.pyplot as plt\n",
    "import seaborn as sns\n",
    "import datetime as dt\n",
    "from scipy.stats import fisher_exact\n",
    "import scipy.stats as stats\n",
    "from scipy.stats import norm, skew"
   ]
  },
  {
   "cell_type": "markdown",
   "metadata": {},
   "source": [
    "##  Format\n",
    "* Convert the variables which specify datetime in to datetime format"
   ]
  },
  {
   "cell_type": "code",
   "execution_count": 4,
   "metadata": {
    "collapsed": true
   },
   "outputs": [],
   "source": [
    "data = pd.read_excel(\"CASE STUDY_DATA_LATE DELIVERY ROOT CAUSE.xlsx\")\n",
    "data[\"datetime_ordered\"] = pd.to_datetime(data[\"datetime_ordered\"])\n",
    "data[\"datetime_sourced\"] = pd.to_datetime(data[\"datetime_sourced\"])\n",
    "data[\"datetime_planned\"] = pd.to_datetime(data[\"datetime_planned\"])\n",
    "data[\"datetime_product_ready\"] = pd.to_datetime(data[\"datetime_product_ready\"])\n",
    "data[\"datetime_delivered\"] = pd.to_datetime(data[\"datetime_delivered\"])"
   ]
  },
  {
   "cell_type": "markdown",
   "metadata": {},
   "source": [
    "* Extract new features: Actual time taken for source, Actual time taken for make, Actual time taken for deliver\n"
   ]
  },
  {
   "cell_type": "code",
   "execution_count": 17,
   "metadata": {
    "collapsed": true
   },
   "outputs": [],
   "source": [
    "new_data = pd.DataFrame(columns=['source','make','deliver'])\n",
    "for i in range(len(data)):\n",
    "    new_data.loc[i,['source']]= pd.Timedelta(data.iloc[i,11]- data.iloc[i,10]).seconds + (pd.Timedelta(data.iloc[i,11]- data.iloc[i,10]).days)*86400\n",
    "    new_data.loc[i,['make']]= pd.Timedelta(data.iloc[i,12]- data.iloc[i,11]).seconds + (pd.Timedelta(data.iloc[i,12]- data.iloc[i,11]).days)*86400\n",
    "    new_data.loc[i,['deliver']] = pd.Timedelta(data.iloc[i,14].date()-data.iloc[i,12].date())\n",
    "new_data.source = new_data.source/60\n",
    "new_data.make =  new_data.make/3600\n",
    "data1 = pd.concat([data,new_data],axis=1)\n",
    "data1.to_csv('new_file.csv')"
   ]
  },
  {
   "cell_type": "markdown",
   "metadata": {
    "collapsed": true
   },
   "source": [
    "* Percentage of Fail to delivery is 10.5"
   ]
  },
  {
   "cell_type": "code",
   "execution_count": 6,
   "metadata": {
    "collapsed": true
   },
   "outputs": [],
   "source": [
    "sns.countplot('delivered_to_plan', data=data)\n",
    "plt.tight_layout()\n",
    "plt.savefig('Delivered.jpeg',dpi=300)"
   ]
  },
  {
   "cell_type": "code",
   "execution_count": 8,
   "metadata": {
    "collapsed": true
   },
   "outputs": [],
   "source": [
    "data = pd.read_csv('new_file7.csv')\n",
    "data.returned.fillna('N',inplace = True)\n",
    "data.backorder.fillna('N',inplace = True)\n",
    "country = pd.get_dummies(data['country'],prefix='country',drop_first=True)\n",
    "shipping_method = pd.get_dummies(data['shipping_method'],prefix='shipping',drop_first=True)\n",
    "product_category = pd.get_dummies(data['product_category'],prefix='product_category',drop_first=True)\n",
    "facility = pd.get_dummies(data['facility'],prefix='facility',drop_first=True)\n",
    "on_sale =  pd.get_dummies(data['on_sale'],prefix='onsale',drop_first=True)\n",
    "Returned =  pd.get_dummies(data['returned'],prefix='Returned',drop_first=True)\n",
    "Backorder = pd.get_dummies(data['backorder'],prefix='Returned',drop_first=True)\n",
    "data_new = pd.concat([country,shipping_method,facility,product_category,on_sale,Returned,Backorder,data['units_per_order'],\n",
    "          data['transit_days'],data['source'],data['make'],data['Exact_deliver_time'],data['delivered_to_plan'],data['Actual_timetaken'],data['Planned_days']],axis=1)\n"
   ]
  },
  {
   "cell_type": "code",
   "execution_count": 9,
   "metadata": {
    "collapsed": true
   },
   "outputs": [],
   "source": [
    "data_new1 = data_new.drop(['Returned_Y', 'source','make','Exact_deliver_time','delivered_to_plan','Planned_days'], axis=1)"
   ]
  },
  {
   "cell_type": "code",
   "execution_count": 18,
   "metadata": {
    "collapsed": true
   },
   "outputs": [],
   "source": [
    "plt.figure(figsize=(16,10))\n",
    "sns.heatmap(data_new1.corr(),annot=True, cmap='viridis')\n",
    "plt.tight_layout()\n",
    "plt.savefig('cor.jpeg',dpi=300)"
   ]
  },
  {
   "cell_type": "code",
   "execution_count": 23,
   "metadata": {
    "scrolled": true
   },
   "outputs": [
    {
     "data": {
      "text/html": [
       "<div>\n",
       "<style>\n",
       "    .dataframe thead tr:only-child th {\n",
       "        text-align: right;\n",
       "    }\n",
       "\n",
       "    .dataframe thead th {\n",
       "        text-align: left;\n",
       "    }\n",
       "\n",
       "    .dataframe tbody tr th {\n",
       "        vertical-align: top;\n",
       "    }\n",
       "</style>\n",
       "<table border=\"1\" class=\"dataframe\">\n",
       "  <thead>\n",
       "    <tr style=\"text-align: right;\">\n",
       "      <th></th>\n",
       "      <th>units_per_order</th>\n",
       "      <th>transit_days</th>\n",
       "      <th>deadline_source</th>\n",
       "      <th>deadline_make</th>\n",
       "      <th>deadline_deliver</th>\n",
       "      <th>source</th>\n",
       "      <th>make</th>\n",
       "      <th>Planned_days</th>\n",
       "      <th>Actual_timetaken</th>\n",
       "      <th>Allocated_deadline</th>\n",
       "      <th>Exact_deliver_time</th>\n",
       "    </tr>\n",
       "  </thead>\n",
       "  <tbody>\n",
       "    <tr>\n",
       "      <th>count</th>\n",
       "      <td>110114.000000</td>\n",
       "      <td>110114.000000</td>\n",
       "      <td>110114.000000</td>\n",
       "      <td>110114.000000</td>\n",
       "      <td>110114.000000</td>\n",
       "      <td>110114.000000</td>\n",
       "      <td>110114.000000</td>\n",
       "      <td>110114.000000</td>\n",
       "      <td>110114.000000</td>\n",
       "      <td>110114.000000</td>\n",
       "      <td>110114.000000</td>\n",
       "    </tr>\n",
       "    <tr>\n",
       "      <th>mean</th>\n",
       "      <td>1.042329</td>\n",
       "      <td>2.381305</td>\n",
       "      <td>1336.617297</td>\n",
       "      <td>40.581806</td>\n",
       "      <td>3.515829</td>\n",
       "      <td>322.997842</td>\n",
       "      <td>22.085806</td>\n",
       "      <td>4.456698</td>\n",
       "      <td>3.429708</td>\n",
       "      <td>6.134944</td>\n",
       "      <td>2.285162</td>\n",
       "    </tr>\n",
       "    <tr>\n",
       "      <th>std</th>\n",
       "      <td>0.496093</td>\n",
       "      <td>1.113712</td>\n",
       "      <td>1105.341513</td>\n",
       "      <td>25.320339</td>\n",
       "      <td>1.741056</td>\n",
       "      <td>1206.938771</td>\n",
       "      <td>16.359120</td>\n",
       "      <td>2.307207</td>\n",
       "      <td>2.170577</td>\n",
       "      <td>2.412693</td>\n",
       "      <td>1.985657</td>\n",
       "    </tr>\n",
       "    <tr>\n",
       "      <th>min</th>\n",
       "      <td>1.000000</td>\n",
       "      <td>1.000000</td>\n",
       "      <td>1.000000</td>\n",
       "      <td>1.000000</td>\n",
       "      <td>1.000000</td>\n",
       "      <td>34.400000</td>\n",
       "      <td>0.004444</td>\n",
       "      <td>-0.833889</td>\n",
       "      <td>-0.091991</td>\n",
       "      <td>1.150000</td>\n",
       "      <td>-0.942222</td>\n",
       "    </tr>\n",
       "    <tr>\n",
       "      <th>25%</th>\n",
       "      <td>1.000000</td>\n",
       "      <td>2.000000</td>\n",
       "      <td>479.000000</td>\n",
       "      <td>23.000000</td>\n",
       "      <td>2.000000</td>\n",
       "      <td>59.083333</td>\n",
       "      <td>11.251389</td>\n",
       "      <td>2.843137</td>\n",
       "      <td>1.887057</td>\n",
       "      <td>4.305035</td>\n",
       "      <td>0.647616</td>\n",
       "    </tr>\n",
       "    <tr>\n",
       "      <th>50%</th>\n",
       "      <td>1.000000</td>\n",
       "      <td>2.000000</td>\n",
       "      <td>1104.000000</td>\n",
       "      <td>32.000000</td>\n",
       "      <td>3.000000</td>\n",
       "      <td>82.933333</td>\n",
       "      <td>18.122917</td>\n",
       "      <td>4.290000</td>\n",
       "      <td>3.181910</td>\n",
       "      <td>6.034028</td>\n",
       "      <td>1.913437</td>\n",
       "    </tr>\n",
       "    <tr>\n",
       "      <th>75%</th>\n",
       "      <td>1.000000</td>\n",
       "      <td>3.000000</td>\n",
       "      <td>1566.000000</td>\n",
       "      <td>52.000000</td>\n",
       "      <td>5.000000</td>\n",
       "      <td>165.866667</td>\n",
       "      <td>27.228125</td>\n",
       "      <td>5.794219</td>\n",
       "      <td>4.664549</td>\n",
       "      <td>7.746528</td>\n",
       "      <td>3.602254</td>\n",
       "    </tr>\n",
       "    <tr>\n",
       "      <th>max</th>\n",
       "      <td>50.000000</td>\n",
       "      <td>8.000000</td>\n",
       "      <td>6392.000000</td>\n",
       "      <td>168.000000</td>\n",
       "      <td>14.000000</td>\n",
       "      <td>66040.450000</td>\n",
       "      <td>494.641111</td>\n",
       "      <td>52.905139</td>\n",
       "      <td>47.905139</td>\n",
       "      <td>18.931250</td>\n",
       "      <td>45.660544</td>\n",
       "    </tr>\n",
       "  </tbody>\n",
       "</table>\n",
       "</div>"
      ],
      "text/plain": [
       "       units_per_order   transit_days  deadline_source  deadline_make  \\\n",
       "count    110114.000000  110114.000000    110114.000000  110114.000000   \n",
       "mean          1.042329       2.381305      1336.617297      40.581806   \n",
       "std           0.496093       1.113712      1105.341513      25.320339   \n",
       "min           1.000000       1.000000         1.000000       1.000000   \n",
       "25%           1.000000       2.000000       479.000000      23.000000   \n",
       "50%           1.000000       2.000000      1104.000000      32.000000   \n",
       "75%           1.000000       3.000000      1566.000000      52.000000   \n",
       "max          50.000000       8.000000      6392.000000     168.000000   \n",
       "\n",
       "       deadline_deliver         source           make   Planned_days  \\\n",
       "count     110114.000000  110114.000000  110114.000000  110114.000000   \n",
       "mean           3.515829     322.997842      22.085806       4.456698   \n",
       "std            1.741056    1206.938771      16.359120       2.307207   \n",
       "min            1.000000      34.400000       0.004444      -0.833889   \n",
       "25%            2.000000      59.083333      11.251389       2.843137   \n",
       "50%            3.000000      82.933333      18.122917       4.290000   \n",
       "75%            5.000000     165.866667      27.228125       5.794219   \n",
       "max           14.000000   66040.450000     494.641111      52.905139   \n",
       "\n",
       "       Actual_timetaken  Allocated_deadline  Exact_deliver_time  \n",
       "count     110114.000000       110114.000000       110114.000000  \n",
       "mean           3.429708            6.134944            2.285162  \n",
       "std            2.170577            2.412693            1.985657  \n",
       "min           -0.091991            1.150000           -0.942222  \n",
       "25%            1.887057            4.305035            0.647616  \n",
       "50%            3.181910            6.034028            1.913437  \n",
       "75%            4.664549            7.746528            3.602254  \n",
       "max           47.905139           18.931250           45.660544  "
      ]
     },
     "execution_count": 23,
     "metadata": {},
     "output_type": "execute_result"
    }
   ],
   "source": [
    "data.describe()"
   ]
  },
  {
   "cell_type": "markdown",
   "metadata": {},
   "source": [
    "## Feature Importances through Random Forest"
   ]
  },
  {
   "cell_type": "code",
   "execution_count": 24,
   "metadata": {
    "collapsed": true
   },
   "outputs": [],
   "source": [
    "from sklearn.ensemble import RandomForestRegressor\n",
    "rnd_clf = RandomForestRegressor(n_estimators=100, n_jobs=-1, random_state=42)\n",
    "rnd_clf.fit(data_new1.iloc[:,:-1], data_new1.Actual_timetaken)\n",
    "importances = rnd_clf.feature_importances_\n",
    "indices = np.argsort(importances)\n",
    "features = data_new1.iloc[:,:-1].columns\n",
    "plt.figure(1)\n",
    "plt.title('Feature Importances')\n",
    "plt.barh(range(len(indices)), importances[indices], color='b', align='center')\n",
    "plt.yticks(range(len(indices)), features[indices])\n",
    "plt.xlabel('Relative Importance')\n",
    "plt.tight_layout()\n",
    "plt.savefig('feature.jpeg',dpi=300)"
   ]
  },
  {
   "cell_type": "code",
   "execution_count": 15,
   "metadata": {
    "collapsed": true
   },
   "outputs": [],
   "source": [
    "data1 = pd.concat([data_new1.Actual_timetaken,data_new1.transit_days], axis=1)\n",
    "f, ax = plt.subplots(figsize=(8, 6))\n",
    "fig = sns.boxplot(x='transit_days', y=\"Actual_timetaken\", data=data1)\n",
    "f.savefig('boxplot.jpeg', bbox_inches='tight')"
   ]
  },
  {
   "cell_type": "code",
   "execution_count": 52,
   "metadata": {},
   "outputs": [
    {
     "data": {
      "image/png": "[encoded data removed]",
      "text/plain": [
       "<matplotlib.figure.Figure at 0x22db35dd3c8>"
      ]
     },
     "metadata": {},
     "output_type": "display_data"
    },
    {
     "data": {
      "image/png": "[encoded data removed]",
      "text/plain": [
       "<matplotlib.figure.Figure at 0x22db35dd0b8>"
      ]
     },
     "metadata": {},
     "output_type": "display_data"
    }
   ],
   "source": [
    "sns.distplot(data.source, fit=norm);\n",
    "fig = plt.figure()\n",
    "res = stats.probplot(data.source, plot=plt)\n",
    "plt.show()"
   ]
  },
  {
   "cell_type": "markdown",
   "metadata": {},
   "source": [
    "## Planning stage\n",
    "***\n",
    "- More than 98 percentage of delivery fails happen due to poor planning\n",
    "- More than 98.14 percentage of time the product achieved the individual steps deadline, but still fails to deliver the product"
   ]
  },
  {
   "cell_type": "code",
   "execution_count": 122,
   "metadata": {},
   "outputs": [
    {
     "data": {
      "text/plain": [
       "98.14511258735226"
      ]
     },
     "execution_count": 122,
     "metadata": {},
     "output_type": "execute_result"
    }
   ],
   "source": [
    "Failure_due_plan = (len(new_data[(new_data['source'] == True) & (new_data['make'] == True ) & (new_data['deliver'] == True ) & (new_data['Actual_deliver'] == False )])/len(new_data[(new_data['Actual_deliver'] == False)]))*100\n",
    "Failure_due_plan"
   ]
  },
  {
   "cell_type": "code",
   "execution_count": 56,
   "metadata": {},
   "outputs": [
    {
     "data": {
      "image/png": "[encoded data removed]",
      "text/plain": [
       "<matplotlib.figure.Figure at 0x2dde9201fd0>"
      ]
     },
     "metadata": {},
     "output_type": "display_data"
    }
   ],
   "source": [
    "sns.distplot(data2['source'])\n",
    "plt.show()"
   ]
  },
  {
   "cell_type": "markdown",
   "metadata": {},
   "source": [
    "* If the product is not delivered as per the plan (datetime_planned), the output variable (delivered_to_plan) denote that deliver as \"FAIL\"\n",
    "* Below table support the above statement"
   ]
  },
  {
   "cell_type": "code",
   "execution_count": 122,
   "metadata": {},
   "outputs": [
    {
     "data": {
      "text/html": [
       "<div>\n",
       "<style>\n",
       "    .dataframe thead tr:only-child th {\n",
       "        text-align: right;\n",
       "    }\n",
       "\n",
       "    .dataframe thead th {\n",
       "        text-align: left;\n",
       "    }\n",
       "\n",
       "    .dataframe tbody tr th {\n",
       "        vertical-align: top;\n",
       "    }\n",
       "</style>\n",
       "<table border=\"1\" class=\"dataframe\">\n",
       "  <thead>\n",
       "    <tr style=\"text-align: right;\">\n",
       "      <th>delivered_to_plan</th>\n",
       "      <th>FAIL</th>\n",
       "      <th>PASS</th>\n",
       "    </tr>\n",
       "    <tr>\n",
       "      <th>row_0</th>\n",
       "      <th></th>\n",
       "      <th></th>\n",
       "    </tr>\n",
       "  </thead>\n",
       "  <tbody>\n",
       "    <tr>\n",
       "      <th>False</th>\n",
       "      <td>11591</td>\n",
       "      <td>0</td>\n",
       "    </tr>\n",
       "    <tr>\n",
       "      <th>True</th>\n",
       "      <td>0</td>\n",
       "      <td>98523</td>\n",
       "    </tr>\n",
       "  </tbody>\n",
       "</table>\n",
       "</div>"
      ],
      "text/plain": [
       "delivered_to_plan   FAIL   PASS\n",
       "row_0                          \n",
       "False              11591      0\n",
       "True                   0  98523"
      ]
     },
     "execution_count": 122,
     "metadata": {},
     "output_type": "execute_result"
    }
   ],
   "source": [
    "data2 = pd.read_csv('new_file1.csv')\n",
    "data = pd.read_csv('new_file.csv')\n",
    "data[\"datetime_ordered\"] = pd.to_datetime(data[\"datetime_ordered\"])\n",
    "data[\"datetime_delivered\"] = pd.to_datetime(data[\"datetime_delivered\"])\n",
    "data[\"datetime_planned\"] = pd.to_datetime(data[\"datetime_planned\"])\n",
    "check_date = (data[\"datetime_planned\"] - data[\"datetime_delivered\"]).dt.days >= 0\n",
    "tab = pd.crosstab(check_date,data.delivered_to_plan)\n",
    "tab"
   ]
  },
  {
   "cell_type": "markdown",
   "metadata": {},
   "source": [
    "## Chi-square test of independence\n",
    "* The late delivery (delivered_to_plan = FAIL) is not affecting the products return\n",
    "* Chi square test and the percentage of fail to deliver (percentage_fail) results support the above statement"
   ]
  },
  {
   "cell_type": "code",
   "execution_count": 51,
   "metadata": {},
   "outputs": [
    {
     "name": "stdout",
     "output_type": "stream",
     "text": [
      "0.117731141576\n",
      "delivered_to_plan  FAIL   PASS\n",
      "returned                      \n",
      "N                  9779  84944\n",
      "Y                  1812  13579\n",
      "(0.86272291403410506, 8.5916796590609461e-08)\n"
     ]
    }
   ],
   "source": [
    "percentage_fail = sum(data[data.returned == 'Y'].delivered_to_plan == 'FAIL')/len(data[data.returned == 'Y'].returned)\n",
    "print(percentage_fail)print(tab)\n",
    "print(fisher_exact(tab))"
   ]
  },
  {
   "cell_type": "markdown",
   "metadata": {},
   "source": [
    "* The backorders and the late deliveries are indepedent. Backorder is not causing the late deliveries\n",
    "* Chi square test and the percentage of fail to deliver (percentage_fail) results support the above statement"
   ]
  },
  {
   "cell_type": "code",
   "execution_count": 57,
   "metadata": {},
   "outputs": [
    {
     "name": "stdout",
     "output_type": "stream",
     "text": [
      "0.178447563997\n",
      "delivered_to_plan  FAIL   PASS\n",
      "backorder                     \n",
      "N                  9430  88574\n",
      "Y                  2161   9949\n",
      "(0.49015123232774921, 7.8497228698822166e-148)\n"
     ]
    }
   ],
   "source": [
    "percentage_fail = sum(data[data.backorder == 'Y'].delivered_to_plan == 'FAIL')/len(data[data.backorder == 'Y'].backorder)\n",
    "print(percentage_fail)\n",
    "tab = pd.crosstab(data.backorder.fillna('N'),data.delivered_to_plan)\n",
    "print(tab)\n",
    "print(fisher_exact(tab))"
   ]
  },
  {
   "cell_type": "code",
   "execution_count": 2,
   "metadata": {
    "collapsed": true
   },
   "outputs": [],
   "source": [
    "data = pd.read_csv('new_file7.csv')"
   ]
  },
  {
   "cell_type": "markdown",
   "metadata": {},
   "source": [
    "\n",
    "* The product categories and the late deliveries are independent.\n",
    "* The shipping method and the late deliveries are independent\n",
    "* The facility and the late deliveries are independent\n",
    "* There is a significant relationship between on sale method and late deliveries (p<0.1)\n"
   ]
  },
  {
   "cell_type": "code",
   "execution_count": 16,
   "metadata": {},
   "outputs": [
    {
     "name": "stdout",
     "output_type": "stream",
     "text": [
      "delivered_to_plan  FAIL   PASS\n",
      "product_category              \n",
      "ACCESSORIES         708   6976\n",
      "JACKETS & VESTS    7356  59983\n",
      "TOPS               3527  31564\n",
      "3.54767496283e-08\n"
     ]
    }
   ],
   "source": [
    "tab = pd.crosstab(data.product_category,data.delivered_to_plan)\n",
    "print(tab)\n",
    "g, p, dof, expctd = stats.chi2_contingency(tab, lambda_=\"log-likelihood\")\n",
    "print(p)"
   ]
  },
  {
   "cell_type": "code",
   "execution_count": 15,
   "metadata": {},
   "outputs": [
    {
     "name": "stdout",
     "output_type": "stream",
     "text": [
      "delivered_to_plan  FAIL   PASS\n",
      "shipping_method               \n",
      "2-Day               663   2529\n",
      "3-Day              1780  13695\n",
      "Ground             6993  69828\n",
      "Next Day           2155  12471\n",
      "4.17085599917e-156\n"
     ]
    }
   ],
   "source": [
    "tab = pd.crosstab(data.shipping_method,data.delivered_to_plan)\n",
    "print(tab)\n",
    "g, p, dof, expctd = stats.chi2_contingency(tab, lambda_=\"log-likelihood\")\n",
    "print(p)"
   ]
  },
  {
   "cell_type": "code",
   "execution_count": 18,
   "metadata": {},
   "outputs": [
    {
     "name": "stdout",
     "output_type": "stream",
     "text": [
      "delivered_to_plan  FAIL   PASS\n",
      "facility                      \n",
      "ANTWERP            1082   9171\n",
      "AUGSBURG           2592  23574\n",
      "EINDHOVEN          2412  16125\n",
      "HANOVER            1809  15730\n",
      "MANCHESTER         1467  14529\n",
      "OXFORD             2229  19394\n",
      "1.37951118882e-32\n"
     ]
    }
   ],
   "source": [
    "tab = pd.crosstab(data.facility,data.delivered_to_plan)\n",
    "print(tab)\n",
    "g, p, dof, expctd = stats.chi2_contingency(tab, lambda_=\"log-likelihood\")\n",
    "print(p)"
   ]
  },
  {
   "cell_type": "code",
   "execution_count": 19,
   "metadata": {},
   "outputs": [
    {
     "name": "stdout",
     "output_type": "stream",
     "text": [
      "delivered_to_plan  FAIL   PASS\n",
      "on_sale                       \n",
      "N                  5713  47658\n",
      "Y                  5878  50865\n",
      "0.0634492154027\n"
     ]
    }
   ],
   "source": [
    "tab = pd.crosstab(data.on_sale,data.delivered_to_plan)\n",
    "print(tab)\n",
    "g, p, dof, expctd = stats.chi2_contingency(tab, lambda_=\"log-likelihood\")\n",
    "print(p)"
   ]
  },
  {
   "cell_type": "markdown",
   "metadata": {},
   "source": [
    "* If the actual time taken is greater than planned number of days, it will fail to reach the customer before the promised deadline as we expected. The below table support this argument.\n",
    "* 66% ((7674)/(7674+3917)) of delivery fails happened due to poor planning\n",
    "* The sum of internal deadlines is mostly higher than the dealine given for the customer (87.9)\n"
   ]
  },
  {
   "cell_type": "code",
   "execution_count": 18,
   "metadata": {
    "collapsed": true
   },
   "outputs": [],
   "source": [
    "data = pd.read_csv('new_file.csv')\n",
    "new_data = pd.DataFrame(columns=['Planned_days','Actual_diff'])\n",
    "for i in range(len(data)):\n",
    "    new_data.loc[i,['Actual_diff']] = int(data.loc[i,'deliver'].strip()[0])\n",
    "Actual_diff = ((data.source/1440) + (data.make/24) + new_data['Actual_diff'])\n",
    "new_data['Actual_diff'] = Actual_diff\n",
    "data[\"datetime_planned\"] = pd.to_datetime(data[\"datetime_planned\"])\n",
    "data[\"datetime_ordered\"] = pd.to_datetime(data[\"datetime_ordered\"])\n",
    "data['temp']  = data['datetime_planned'] - data['datetime_ordered']"
   ]
  },
  {
   "cell_type": "code",
   "execution_count": 19,
   "metadata": {
    "collapsed": true
   },
   "outputs": [],
   "source": [
    "for i in range(len(data)):\n",
    "    new_data.loc[i,['Planned_days']] = int(data.loc[i,'temp'].days) + ((data.loc[i,'datetime_planned'] - data.loc[i,'datetime_ordered']).seconds)/86400\n",
    "Allocated_deadline = (data['deadline_source']/1440) + (data['deadline_make']/24) + data['deadline_deliver']\n",
    "data3 = pd.concat([data,new_data,Allocated_deadline],axis=1)\n",
    "data3.rename(columns={0: 'Allocated_deadline','Actual_diff': 'Actual_timetaken'}, inplace = True)"
   ]
  },
  {
   "cell_type": "code",
   "execution_count": 20,
   "metadata": {
    "collapsed": true
   },
   "outputs": [],
   "source": [
    "data3[\"datetime_product_ready\"] = pd.to_datetime(data3[\"datetime_product_ready\"])\n",
    "data3[\"datetime_delivered\"] = pd.to_datetime(data3[\"datetime_delivered\"])\n",
    "data3['temp1']  = data3[\"datetime_delivered\"] - data3[\"datetime_product_ready\"]\n",
    "new_data1 = pd.DataFrame(columns=['Exact_deliver_time'])\n",
    "for i in range(len(data3)):\n",
    "    new_data1.loc[i,['Exact_deliver_time']] = int(data3.loc[i,'temp1'].days) + ((data3.loc[i,'datetime_delivered'] - data3.loc[i,'datetime_product_ready']).seconds)/86400\n",
    "Actual_diff = ((data3.source/1440) + (data3.make/24) + new_data1['Exact_deliver_time'])\n",
    "data3['Actual_timetaken'] = Actual_diff"
   ]
  },
  {
   "cell_type": "code",
   "execution_count": 21,
   "metadata": {},
   "outputs": [
    {
     "name": "stdout",
     "output_type": "stream",
     "text": [
      "delivered_to_plan   FAIL   PASS\n",
      "row_0                          \n",
      "False              11591      0\n",
      "True                   0  98523\n"
     ]
    }
   ],
   "source": [
    "temp =(data3.Planned_days - data3.Actual_timetaken)\n",
    "temp1 = temp.apply(lambda x: round(x,2))\n",
    "tab = pd.crosstab(temp1>=0,data3.delivered_to_plan)\n",
    "print(tab)"
   ]
  },
  {
   "cell_type": "code",
   "execution_count": 23,
   "metadata": {},
   "outputs": [
    {
     "name": "stdout",
     "output_type": "stream",
     "text": [
      "The number of delivery fails due to deliver stage failure is: 0\n",
      "The number of delivery fails due to make stage failure is: 0\n",
      "The number of delivery fails due to source stage failure is: 0\n"
     ]
    }
   ],
   "source": [
    "data2 = pd.read_csv('new_file1.csv')\n",
    "new_data = pd.DataFrame(columns=['source','make','deliver','Actual_deliver'])\n",
    "new_data['source'] = data2.source>=0\n",
    "new_data['make'] = data2.make>=0\n",
    "new_data['deliver'] = data2.deliver>=0\n",
    "Fail_due_deliver_stage = len(data3[(new_data['deliver'] == False) &(data3.delivered_to_plan == 'FAIL')])\n",
    "Fail_due_make_stage = len(data3[(new_data['make'] == False) &(data3.delivered_to_plan == 'FAIL')])\n",
    "Fail_due_make_source = len(data3[(new_data['source'] == False) &(data3.delivered_to_plan == 'FAIL')])\n",
    "print('The number of delivery fails due to deliver stage failure is:',Fail_due_deliver_stage)\n",
    "print('The number of delivery fails due to make stage failure is:',Fail_due_make_stage)\n",
    "print('The number of delivery fails due to source stage failure is:',Fail_due_make_source)\n"
   ]
  },
  {
   "cell_type": "code",
   "execution_count": 24,
   "metadata": {},
   "outputs": [
    {
     "data": {
      "text/plain": [
       "0.87909802568247453"
      ]
     },
     "execution_count": 24,
     "metadata": {},
     "output_type": "execute_result"
    }
   ],
   "source": [
    "sum(data3.Allocated_deadline- data3.Planned_days>0)/len(data3)"
   ]
  },
  {
   "cell_type": "code",
   "execution_count": 4,
   "metadata": {
    "collapsed": true
   },
   "outputs": [],
   "source": [
    "data3 = pd.read_csv('new_file7.csv')"
   ]
  },
  {
   "cell_type": "markdown",
   "metadata": {},
   "source": [
    "## Master Table"
   ]
  },
  {
   "cell_type": "code",
   "execution_count": 8,
   "metadata": {
    "collapsed": true
   },
   "outputs": [],
   "source": [
    "temp0 = data3.Planned_days - data3.Actual_timetaken\n",
    "temp7 = temp0.apply(lambda x: round(x,2))\n"
   ]
  },
  {
   "cell_type": "code",
   "execution_count": 9,
   "metadata": {},
   "outputs": [
    {
     "data": {
      "image/png": "[encoded data removed]",
      "text/plain": [
       "<matplotlib.figure.Figure at 0x1c92ff7bc50>"
      ]
     },
     "metadata": {},
     "output_type": "display_data"
    }
   ],
   "source": [
    "temp1 =data3.Allocated_deadline - data3.Actual_timetaken\n",
    "temp2 = temp1.apply(lambda x: round(x,2))\n",
    "\n",
    "plt.hist(temp2, bins='auto')\n",
    "plt.show()"
   ]
  },
  {
   "cell_type": "code",
   "execution_count": 10,
   "metadata": {},
   "outputs": [
    {
     "data": {
      "image/png": "[encoded data removed]",
      "text/plain": [
       "<matplotlib.figure.Figure at 0x1c931df6be0>"
      ]
     },
     "metadata": {},
     "output_type": "display_data"
    }
   ],
   "source": [
    "temp3 = data3.Planned_days - data3.Allocated_deadline \n",
    "temp4 = temp3.apply(lambda x: round(x,2))\n",
    "plt.hist(temp4, bins='auto')\n",
    "plt.show()"
   ]
  },
  {
   "cell_type": "code",
   "execution_count": 11,
   "metadata": {
    "collapsed": true
   },
   "outputs": [],
   "source": [
    "Delivered_by_plan = temp7 >= 0\n",
    "Finished_bef_internal_deadline = temp2>=0\n",
    "Allocated_reasonable_deadline = temp4 >=0\n",
    "dataframe = pd.concat([Delivered_by_plan,Finished_bef_internal_deadline,Allocated_reasonable_deadline,data3.delivered_to_plan],axis=1)\n",
    "dataframe.columns = ['Delivered_by_plan','Finished_bef_internal_deadline','Allocated_reasonable_deadline','delivered_to_plan']\n",
    "unique_rows = dataframe.drop_duplicates()\n"
   ]
  },
  {
   "cell_type": "code",
   "execution_count": 12,
   "metadata": {
    "collapsed": true
   },
   "outputs": [],
   "source": [
    "count = pd.DataFrame(columns = ['Count'])\n",
    "for i in range(len(unique_rows)):\n",
    "    count.loc[i,['Count']] = sum((dataframe.iloc[:,0] == unique_rows.iloc[i,0]) & (dataframe.iloc[:,1] == unique_rows.iloc[i,1]) & (dataframe.iloc[:,2] == unique_rows.iloc[i,2]) & (dataframe.iloc[:,3] == unique_rows.iloc[i,3]))\n",
    "unique_rows.reset_index(drop=True, inplace=True)\n",
    "count.reset_index(drop=True, inplace=True)"
   ]
  },
  {
   "cell_type": "code",
   "execution_count": 13,
   "metadata": {},
   "outputs": [
    {
     "data": {
      "text/html": [
       "<div>\n",
       "<style>\n",
       "    .dataframe thead tr:only-child th {\n",
       "        text-align: right;\n",
       "    }\n",
       "\n",
       "    .dataframe thead th {\n",
       "        text-align: left;\n",
       "    }\n",
       "\n",
       "    .dataframe tbody tr th {\n",
       "        vertical-align: top;\n",
       "    }\n",
       "</style>\n",
       "<table border=\"1\" class=\"dataframe\">\n",
       "  <thead>\n",
       "    <tr style=\"text-align: right;\">\n",
       "      <th></th>\n",
       "      <th>Delivered_by_plan</th>\n",
       "      <th>Finished_bef_internal_deadline</th>\n",
       "      <th>Allocated_reasonable_deadline</th>\n",
       "      <th>delivered_to_plan</th>\n",
       "      <th>Count</th>\n",
       "    </tr>\n",
       "  </thead>\n",
       "  <tbody>\n",
       "    <tr>\n",
       "      <th>0</th>\n",
       "      <td>True</td>\n",
       "      <td>True</td>\n",
       "      <td>False</td>\n",
       "      <td>PASS</td>\n",
       "      <td>85744</td>\n",
       "    </tr>\n",
       "    <tr>\n",
       "      <th>1</th>\n",
       "      <td>True</td>\n",
       "      <td>False</td>\n",
       "      <td>True</td>\n",
       "      <td>PASS</td>\n",
       "      <td>2066</td>\n",
       "    </tr>\n",
       "    <tr>\n",
       "      <th>2</th>\n",
       "      <td>True</td>\n",
       "      <td>True</td>\n",
       "      <td>True</td>\n",
       "      <td>PASS</td>\n",
       "      <td>10713</td>\n",
       "    </tr>\n",
       "    <tr>\n",
       "      <th>3</th>\n",
       "      <td>False</td>\n",
       "      <td>True</td>\n",
       "      <td>False</td>\n",
       "      <td>FAIL</td>\n",
       "      <td>8560</td>\n",
       "    </tr>\n",
       "    <tr>\n",
       "      <th>4</th>\n",
       "      <td>False</td>\n",
       "      <td>False</td>\n",
       "      <td>False</td>\n",
       "      <td>FAIL</td>\n",
       "      <td>2497</td>\n",
       "    </tr>\n",
       "    <tr>\n",
       "      <th>5</th>\n",
       "      <td>False</td>\n",
       "      <td>False</td>\n",
       "      <td>True</td>\n",
       "      <td>FAIL</td>\n",
       "      <td>534</td>\n",
       "    </tr>\n",
       "  </tbody>\n",
       "</table>\n",
       "</div>"
      ],
      "text/plain": [
       "   Delivered_by_plan  Finished_bef_internal_deadline  \\\n",
       "0               True                            True   \n",
       "1               True                           False   \n",
       "2               True                            True   \n",
       "3              False                            True   \n",
       "4              False                           False   \n",
       "5              False                           False   \n",
       "\n",
       "   Allocated_reasonable_deadline delivered_to_plan  Count  \n",
       "0                          False              PASS  85744  \n",
       "1                           True              PASS   2066  \n",
       "2                           True              PASS  10713  \n",
       "3                          False              FAIL   8560  \n",
       "4                          False              FAIL   2497  \n",
       "5                           True              FAIL    534  "
      ]
     },
     "execution_count": 13,
     "metadata": {},
     "output_type": "execute_result"
    }
   ],
   "source": [
    "df1 = pd.concat( [unique_rows, count], axis=1) \n",
    "df1"
   ]
  },
  {
   "cell_type": "markdown",
   "metadata": {},
   "source": [
    "* The percentage of late delivery is approximately 10.5 (11591 FAILS)\n",
    "* Out of 11591 fails, 11057 fails happened due to poor planning (Internal deadlines for \n",
    "the processes are greater than customer delivery time). \n",
    "* The planning stage didn't considers internal deadlines before calculating customer delivery dates. Out of 110114 delivers, 96801 products (approximately 87.9%) internal deadline periods are greater than customer delivery periods\n",
    "\n",
    "\n"
   ]
  },
  {
   "cell_type": "code",
   "execution_count": 14,
   "metadata": {},
   "outputs": [
    {
     "data": {
      "text/html": [
       "<div>\n",
       "<style>\n",
       "    .dataframe thead tr:only-child th {\n",
       "        text-align: right;\n",
       "    }\n",
       "\n",
       "    .dataframe thead th {\n",
       "        text-align: left;\n",
       "    }\n",
       "\n",
       "    .dataframe tbody tr th {\n",
       "        vertical-align: top;\n",
       "    }\n",
       "</style>\n",
       "<table border=\"1\" class=\"dataframe\">\n",
       "  <thead>\n",
       "    <tr style=\"text-align: right;\">\n",
       "      <th></th>\n",
       "      <th>Delivered_by_plan</th>\n",
       "      <th>Finished_bef_internal_deadline</th>\n",
       "      <th>Allocated_reasonable_deadline</th>\n",
       "      <th>delivered_to_plan</th>\n",
       "      <th>Count</th>\n",
       "    </tr>\n",
       "  </thead>\n",
       "  <tbody>\n",
       "    <tr>\n",
       "      <th>3</th>\n",
       "      <td>False</td>\n",
       "      <td>True</td>\n",
       "      <td>False</td>\n",
       "      <td>FAIL</td>\n",
       "      <td>8560</td>\n",
       "    </tr>\n",
       "    <tr>\n",
       "      <th>4</th>\n",
       "      <td>False</td>\n",
       "      <td>False</td>\n",
       "      <td>False</td>\n",
       "      <td>FAIL</td>\n",
       "      <td>2497</td>\n",
       "    </tr>\n",
       "    <tr>\n",
       "      <th>5</th>\n",
       "      <td>False</td>\n",
       "      <td>False</td>\n",
       "      <td>True</td>\n",
       "      <td>FAIL</td>\n",
       "      <td>534</td>\n",
       "    </tr>\n",
       "  </tbody>\n",
       "</table>\n",
       "</div>"
      ],
      "text/plain": [
       "   Delivered_by_plan  Finished_bef_internal_deadline  \\\n",
       "3              False                            True   \n",
       "4              False                           False   \n",
       "5              False                           False   \n",
       "\n",
       "   Allocated_reasonable_deadline delivered_to_plan Count  \n",
       "3                          False              FAIL  8560  \n",
       "4                          False              FAIL  2497  \n",
       "5                           True              FAIL   534  "
      ]
     },
     "execution_count": 14,
     "metadata": {},
     "output_type": "execute_result"
    }
   ],
   "source": [
    "df1[df1.delivered_to_plan == 'FAIL']"
   ]
  },
  {
   "cell_type": "code",
   "execution_count": 46,
   "metadata": {},
   "outputs": [
    {
     "name": "stdout",
     "output_type": "stream",
     "text": [
      "The percentage of late delivery: 0.10526363586828197\n"
     ]
    },
    {
     "data": {
      "text/plain": [
       "11591"
      ]
     },
     "execution_count": 46,
     "metadata": {},
     "output_type": "execute_result"
    }
   ],
   "source": [
    "print('The percentage of late delivery:',sum(df1[df1.delivered_to_plan == 'FAIL'].Count)/len(data3))\n",
    "sum(df1[df1.delivered_to_plan == 'FAIL'].Count)"
   ]
  },
  {
   "cell_type": "code",
   "execution_count": 33,
   "metadata": {
    "collapsed": true
   },
   "outputs": [],
   "source": [
    "data4 = pd.concat([data3,new_data1],axis=1)\n",
    "data4.to_csv('new_file7.csv')"
   ]
  },
  {
   "cell_type": "code",
   "execution_count": 57,
   "metadata": {
    "collapsed": true
   },
   "outputs": [],
   "source": [
    "new_data2 = pd.DataFrame(columns=['source_fail','make_fail','deliver_fail'])\n",
    "temp = pd.DataFrame(columns=['temp'])\n",
    "new_data2.source_fail = (check5.deadline_source - check5.source)<0\n",
    "new_data2.make_fail = (check5.deadline_make - check5.make)<0\n",
    "for i in range(len(check5)):\n",
    "    temp.loc[i,'temp'] = pd.Timedelta(check5.deliver.iloc[i]).days\n",
    "new_data2.deliver_fail = (check5.deadline_deliver -  temp.temp)<0   "
   ]
  },
  {
   "cell_type": "markdown",
   "metadata": {},
   "source": [
    "* 534 delivery fails happened due to internal deadline failure. The major contribution comes from make step."
   ]
  },
  {
   "cell_type": "code",
   "execution_count": 63,
   "metadata": {},
   "outputs": [
    {
     "data": {
      "text/plain": [
       "source_fail     140\n",
       "make_fail       266\n",
       "deliver_fail      2\n",
       "dtype: int64"
      ]
     },
     "execution_count": 63,
     "metadata": {},
     "output_type": "execute_result"
    }
   ],
   "source": [
    "np.sum(new_data2)"
   ]
  },
  {
   "cell_type": "code",
   "execution_count": 37,
   "metadata": {},
   "outputs": [
    {
     "data": {
      "image/png": "[encoded data removed]",
      "text/plain": [
       "<matplotlib.figure.Figure at 0x15b16ae6048>"
      ]
     },
     "metadata": {},
     "output_type": "display_data"
    }
   ],
   "source": [
    "check5 = data3[(dataframe.Delivered_by_plan == False) & (dataframe.Finished_bef_internal_deadline == False) &\n",
    "         (dataframe.Allocated_reasonable_deadline == True) & (dataframe.delivered_to_plan == 'FAIL')]\n",
    "plt.hist(check5.Planned_days - check5.Allocated_deadline, bins='auto')\n",
    "plt.show()"
   ]
  }
 ],
 "metadata": {
  "kernelspec": {
   "display_name": "Python 3",
   "language": "python",
   "name": "python3"
  },
  "language_info": {
   "codemirror_mode": {
    "name": "ipython",
    "version": 3
   },
   "file_extension": ".py",
   "mimetype": "text/x-python",
   "name": "python",
   "nbconvert_exporter": "python",
   "pygments_lexer": "ipython3",
   "version": "3.5.5"
  }
 },
 "nbformat": 4,
 "nbformat_minor": 2
}
