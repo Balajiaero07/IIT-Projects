{
 "cells": [
  {
   "cell_type": "code",
   "execution_count": 1,
   "metadata": {
    "collapsed": true
   },
   "outputs": [],
   "source": [
    "import pandas as pd\n",
    "import numpy as np\n",
    "import matplotlib.pyplot as plt\n",
    "import seaborn as sns\n",
    "import datetime as dt\n",
    "from scipy.stats import fisher_exact\n",
    "from sklearn.model_selection import train_test_split\n",
    "from sklearn.linear_model import LinearRegression\n",
    "from random import randint\n",
    "import pandas as pd\n",
    "import numpy as np\n",
    "import random\n",
    "from sklearn import datasets, linear_model\n",
    "from __future__ import division\n",
    "from sklearn.preprocessing import PolynomialFeatures\n",
    "from sklearn.pipeline import make_pipeline\n",
    "from sklearn.tree import DecisionTreeRegressor\n",
    "from sklearn.tree import export_graphviz\n",
    "import pydotplus\n",
    "from IPython.display import Image\n",
    "import pydot\n",
    "from sklearn.ensemble import RandomForestRegressor\n",
    "from sklearn.ensemble import GradientBoostingRegressor"
   ]
  },
  {
   "cell_type": "code",
   "execution_count": 2,
   "metadata": {
    "collapsed": true
   },
   "outputs": [],
   "source": [
    "data = pd.read_csv('new_file7.csv')"
   ]
  },
  {
   "cell_type": "markdown",
   "metadata": {},
   "source": [
    "* Actual time taken is a proxy variable for delivered to plan variable\n",
    "* So, the problem becomes regression problem instead of classification problem"
   ]
  },
  {
   "cell_type": "code",
   "execution_count": 119,
   "metadata": {},
   "outputs": [
    {
     "name": "stdout",
     "output_type": "stream",
     "text": [
      "delivered_to_plan   FAIL   PASS\n",
      "row_0                          \n",
      "False              11591      0\n",
      "True                   0  98523\n"
     ]
    }
   ],
   "source": [
    "temp =(data.Planned_days - data.Actual_timetaken)\n",
    "temp1 = temp.apply(lambda x: round(x,2))\n",
    "tab = pd.crosstab(temp1>=0,data.delivered_to_plan)\n",
    "print(tab)"
   ]
  },
  {
   "cell_type": "markdown",
   "metadata": {},
   "source": [
    "* The number of late deliveries are 11591"
   ]
  },
  {
   "cell_type": "markdown",
   "metadata": {},
   "source": [
    "* Two types of Performance measure: 1. Number of delivery fails 2. How much time saved by new method \n",
    "* Change the delivery date of the customer based on this model"
   ]
  },
  {
   "cell_type": "code",
   "execution_count": 3,
   "metadata": {
    "collapsed": true
   },
   "outputs": [],
   "source": [
    "data.returned.fillna('N',inplace = True)\n",
    "data.backorder.fillna('N',inplace = True)\n",
    "country = pd.get_dummies(data['country'],prefix='country',drop_first=True)\n",
    "shipping_method = pd.get_dummies(data['shipping_method'],prefix='shipping',drop_first=True)\n",
    "product_category = pd.get_dummies(data['product_category'],prefix='product_category',drop_first=True)\n",
    "facility = pd.get_dummies(data['facility'],prefix='facility',drop_first=True)\n",
    "on_sale =  pd.get_dummies(data['on_sale'],prefix='onsale',drop_first=True)\n",
    "Returned =  pd.get_dummies(data['returned'],prefix='Returned',drop_first=True)\n",
    "Backorder = pd.get_dummies(data['backorder'],prefix='Returned',drop_first=True)"
   ]
  },
  {
   "cell_type": "markdown",
   "metadata": {},
   "source": [
    "* One hot encoding for all categorical variables"
   ]
  },
  {
   "cell_type": "code",
   "execution_count": 4,
   "metadata": {
    "collapsed": true
   },
   "outputs": [],
   "source": [
    "data_new = pd.concat([country,shipping_method,facility,product_category,on_sale,Returned,Backorder,data['units_per_order'],\n",
    "          data['transit_days'],data['source'],data['make'],data['Exact_deliver_time'],data['delivered_to_plan'],data['Actual_timetaken'],data['Planned_days']],axis=1)\n",
    "data_F = data_new[data_new.delivered_to_plan == 'FAIL']\n",
    "data_P = data_new[data_new.delivered_to_plan == 'PASS']"
   ]
  },
  {
   "cell_type": "markdown",
   "metadata": {},
   "source": [
    "* Traditional train test split doesn't work because of two reasons: 1. Created user defined performance measure to evaluate all the models 2. It is imbalanced dataset (The number of late deliveries are less compared to the normal deliveries)"
   ]
  },
  {
   "cell_type": "code",
   "execution_count": 5,
   "metadata": {
    "collapsed": true
   },
   "outputs": [],
   "source": [
    "temp_test = random.sample(range(len(data_F)), round(len(data_F)*0.15))\n",
    "temp_train = list(set(np.arange(len(data_F))) - set(random.sample(range(len(data_F)), round(len(data_F)*0.15))))\n",
    "test= data_F.iloc[temp_test,:]\n",
    "train = data_F.iloc[temp_train,:]\n",
    "\n",
    "temp_test1 = random.sample(range(len(data_P)), round(len(data_P)*0.15))\n",
    "temp_train1 = list(set(np.arange(len(data_P))) - set(random.sample(range(len(data_P)), round(len(data_P)*0.15))))\n",
    "test1= data_P.iloc[temp_test1,:]\n",
    "train1 = data_P.iloc[temp_train1,:]\n",
    "\n",
    "test_data = pd.concat([test,test1],axis=0)\n",
    "train_data = pd.concat([train,train1],axis=0)"
   ]
  },
  {
   "cell_type": "code",
   "execution_count": 6,
   "metadata": {
    "collapsed": true
   },
   "outputs": [],
   "source": [
    "X = train_data.iloc[:,:-6]\n",
    "y_s = train_data.source\n",
    "y_m = train_data.make\n",
    "y_d = train_data.Exact_deliver_time\n",
    "\n",
    "X_test = test_data.iloc[:,:-6]\n",
    "y_test_s = test_data.source\n",
    "y_test_m = test_data.make\n",
    "y_test_d = test_data.Exact_deliver_time"
   ]
  },
  {
   "cell_type": "markdown",
   "metadata": {},
   "source": [
    "* Performance measure to capture: Tardy/Late deliveries PM\n",
    "* TL Performance measure for the heuristics used by the company is 23985 days"
   ]
  },
  {
   "cell_type": "code",
   "execution_count": 9,
   "metadata": {},
   "outputs": [
    {
     "name": "stdout",
     "output_type": "stream",
     "text": [
      "23985.0\n",
      "(38333.0, 6202)\n"
     ]
    }
   ],
   "source": [
    "print(sum(abs(test_data.Planned_days - test_data.Actual_timetaken)))\n",
    "print(performance_measure(test_data.Actual_timetaken,test_data.Planned_days))"
   ]
  },
  {
   "cell_type": "markdown",
   "metadata": {},
   "source": [
    "* Defined a new performance measure because the over estimation of the predicted time doesn't lead to the late delivery, but underestimation does.\n",
    "* The number of times fail to complete the source task before the deadline given by simple linear regression is 3347\n",
    "* The number of times fail to complete the make task before the deadline given by simple linear regression is 3277\n",
    "* The number of times fail to complete the deliver task before the deadline given by simple linear regression is 6488\n",
    "* The number of times fail to deliver before the deadline given by simple linear regression is 10202 "
   ]
  },
  {
   "cell_type": "code",
   "execution_count": 7,
   "metadata": {
    "collapsed": true
   },
   "outputs": [],
   "source": [
    "def performance_measure(y_test,prediction):\n",
    "    temp = y_test - prediction \n",
    "    temp1 = temp.apply(lambda x: round(x,2))\n",
    "    Ind = temp1 >= 0\n",
    "    error = 5*(sum(abs(y_test[Ind] - prediction[Ind]))) + sum(abs(y_test[~Ind] - prediction[~Ind]))\n",
    "    num_fails = sum(Ind) \n",
    "    return error,num_fails"
   ]
  },
  {
   "cell_type": "markdown",
   "metadata": {},
   "source": [
    "## Linear Regression"
   ]
  },
  {
   "cell_type": "code",
   "execution_count": 17,
   "metadata": {},
   "outputs": [
    {
     "name": "stdout",
     "output_type": "stream",
     "text": [
      "(16129572.418489572, 3262)\n"
     ]
    }
   ],
   "source": [
    "regressor1 = LinearRegression()\n",
    "regressor1.fit(X, y_s)\n",
    "prediction1 = regressor1.predict(X_test)\n",
    "print(performance_measure(y_test_s,prediction1))"
   ]
  },
  {
   "cell_type": "code",
   "execution_count": 18,
   "metadata": {},
   "outputs": [
    {
     "data": {
      "text/plain": [
       "(528928.09926459671, 6613)"
      ]
     },
     "execution_count": 18,
     "metadata": {},
     "output_type": "execute_result"
    }
   ],
   "source": [
    "regressor2 = LinearRegression()\n",
    "regressor2.fit(X, y_m)\n",
    "prediction2 = regressor2.predict(X_test)\n",
    "performance_measure(y_test_m,prediction2)"
   ]
  },
  {
   "cell_type": "code",
   "execution_count": 19,
   "metadata": {},
   "outputs": [
    {
     "data": {
      "text/plain": [
       "(52455.129440782322, 6755)"
      ]
     },
     "execution_count": 19,
     "metadata": {},
     "output_type": "execute_result"
    }
   ],
   "source": [
    "regressor3 = LinearRegression()\n",
    "regressor3.fit(X, y_d)\n",
    "prediction3 = regressor3.predict(X_test)\n",
    "performance_measure(y_test_d,prediction3)"
   ]
  },
  {
   "cell_type": "code",
   "execution_count": 22,
   "metadata": {},
   "outputs": [
    {
     "name": "stdout",
     "output_type": "stream",
     "text": [
      "(57888.56077902345, 7164)\n",
      "22860.2813852\n"
     ]
    }
   ],
   "source": [
    "Actual_timetaken = (y_test_s/1440) + (y_test_m/24) + y_test_d\n",
    "prediction_actual_timetaken = (prediction1/1440) + (prediction2/24) + prediction3\n",
    "print(performance_measure(Actual_timetaken,prediction_actual_timetaken))\n",
    "print(sum(abs(test_data.Planned_days - prediction_actual_timetaken)))"
   ]
  },
  {
   "cell_type": "code",
   "execution_count": 23,
   "metadata": {},
   "outputs": [
    {
     "name": "stdout",
     "output_type": "stream",
     "text": [
      "[  2.17539141e+13   1.26413867e+03   1.78619455e+14   1.78619455e+14\n",
      "   1.78619455e+14   1.21039062e+02   1.09460938e+02   6.06406250e+01\n",
      "   2.17539141e+13   2.17539141e+13   2.17539141e+13  -1.56865541e+14\n",
      "  -1.56865541e+14   1.66054688e+01   7.17968750e+00   5.29765625e+01\n",
      "  -1.13725586e+01   1.22309375e+03   2.69921875e+00   6.25000000e+00]\n",
      "[  3.86542885e+11  -3.64166260e+00  -9.08621933e+12  -9.08621933e+12\n",
      "  -9.08621933e+12  -1.42211914e-02   2.09075928e-01  -5.05859375e+00\n",
      "   3.86542885e+11   3.86542885e+11   3.86542885e+11   9.47276221e+12\n",
      "   9.47276221e+12  -5.48339844e-01  -1.92138672e-01  -3.75976562e-02\n",
      "   2.99255371e-01  -2.52783203e+00  -3.49121094e-02  -8.39843750e-02]\n",
      "[ -2.23407334e+11  -1.22833252e-01  -1.75801966e+12  -1.75801966e+12\n",
      "  -1.75801966e+12   1.13119507e+00   6.22070312e-01   1.44195557e-02\n",
      "  -2.23407334e+11  -2.23407334e+11  -2.23407334e+11   1.53461232e+12\n",
      "   1.53461232e+12   1.12915039e-02   2.27355957e-02  -3.40576172e-02\n",
      "   8.07533264e-02  -1.29882812e-01   5.49316406e-04   7.32910156e-01]\n"
     ]
    }
   ],
   "source": [
    "print(regressor1.coef_)\n",
    "print(regressor2.coef_)\n",
    "print(regressor3.coef_)"
   ]
  },
  {
   "cell_type": "markdown",
   "metadata": {},
   "source": [
    "* Polynomial features: Included only interaction terms since most of the features are binary features\n",
    "* The number of times fail to complete the source task before the deadline given by simple linear regression is 3062\n",
    "* The number of times fail to complete the make task before the deadline given by simple linear regression is 6620\n",
    "* The number of times fail to complete the deliver task before the deadline given by simple linear regression is 6483\n",
    "* The number of times fail to deliver before the deadline given by simple linear regression is 7163 "
   ]
  },
  {
   "cell_type": "markdown",
   "metadata": {},
   "source": [
    "## Polynomial regression"
   ]
  },
  {
   "cell_type": "code",
   "execution_count": 24,
   "metadata": {},
   "outputs": [
    {
     "data": {
      "text/plain": [
       "(15963091.608333306, 2927)"
      ]
     },
     "execution_count": 24,
     "metadata": {},
     "output_type": "execute_result"
    }
   ],
   "source": [
    "poly_model1 = make_pipeline(PolynomialFeatures(interaction_only=True),\n",
    "                           LinearRegression())\n",
    "poly_model1.fit(X, y_s)\n",
    "prediction1 = poly_model1.predict(X_test)\n",
    "performance_measure(y_test_s,prediction1)"
   ]
  },
  {
   "cell_type": "code",
   "execution_count": 25,
   "metadata": {},
   "outputs": [
    {
     "data": {
      "text/plain": [
       "(527231.04736111325, 6598)"
      ]
     },
     "execution_count": 25,
     "metadata": {},
     "output_type": "execute_result"
    }
   ],
   "source": [
    "poly_model2 = make_pipeline(PolynomialFeatures(interaction_only=True),\n",
    "                           LinearRegression())\n",
    "poly_model2.fit(X, y_m)\n",
    "prediction2 = poly_model2.predict(X_test)\n",
    "performance_measure(y_test_m,prediction2)"
   ]
  },
  {
   "cell_type": "code",
   "execution_count": 26,
   "metadata": {},
   "outputs": [
    {
     "data": {
      "text/plain": [
       "(51259.996035156233, 6498)"
      ]
     },
     "execution_count": 26,
     "metadata": {},
     "output_type": "execute_result"
    }
   ],
   "source": [
    "poly_model3 = make_pipeline(PolynomialFeatures(interaction_only=True),\n",
    "                           LinearRegression())\n",
    "poly_model3.fit(X, y_d)\n",
    "prediction3 = poly_model3.predict(X_test)\n",
    "performance_measure(y_test_d,prediction3)"
   ]
  },
  {
   "cell_type": "code",
   "execution_count": 30,
   "metadata": {},
   "outputs": [
    {
     "name": "stdout",
     "output_type": "stream",
     "text": [
      "(56770.228630642261, 7160)\n",
      "22802.9557321\n"
     ]
    }
   ],
   "source": [
    "prediction_actual_timetaken = (prediction1/1440) + (prediction2/24) + prediction3\n",
    "print(performance_measure(Actual_timetaken,prediction_actual_timetaken))\n",
    "print(sum(abs(test_data.Planned_days - prediction_actual_timetaken)))"
   ]
  },
  {
   "cell_type": "markdown",
   "metadata": {},
   "source": [
    "* Coefficients of polynomial regression"
   ]
  },
  {
   "cell_type": "code",
   "execution_count": 28,
   "metadata": {},
   "outputs": [
    {
     "data": {
      "text/plain": [
       "array([  4.97393967e+10,  -1.11464563e+15,  -2.73347957e+15,\n",
       "        -4.38326510e+15,   2.31105177e+15,  -5.59914670e+15,\n",
       "         2.42371405e+14,   3.15683493e+14,  -7.35441349e+14,\n",
       "        -1.36470453e+14,  -1.07624896e+15,  -9.61690227e+12,\n",
       "         5.03289071e+14,   1.34545880e+15,   2.30798876e+13,\n",
       "        -9.55033003e+14,  -3.45739309e+14,   5.78140234e+13,\n",
       "        -1.26852688e+14,   3.75744258e+13,  -7.38424784e+14,\n",
       "        -7.82302250e+12,   6.48422645e+13,   8.88897819e+13,\n",
       "         4.24619966e+13,   4.06725581e+12,   1.36888053e+14,\n",
       "        -1.00814410e+15,   2.47576885e+12,  -1.35853114e+14,\n",
       "        -2.77014946e+13,  -2.22642792e+14,  -2.70363461e+14,\n",
       "        -2.30798876e+13,   9.55033003e+14,   3.45739309e+14,\n",
       "        -5.78140234e+13,   1.26852688e+14,  -3.75744258e+13,\n",
       "         1.70731124e+15,   5.51954403e+12,  -4.42809296e+13,\n",
       "        -6.95522120e+13,   1.69331995e+15,   1.52359804e+15,\n",
       "         3.33821086e+14,   2.70103028e+14,   1.20988154e+15,\n",
       "         1.43249477e+14,  -4.58257115e+12,   8.28357977e+12,\n",
       "         4.20000000e+02,   3.02375000e+02,   1.39000000e+02,\n",
       "        -1.34000000e+02,   1.26081250e+03,  -4.52500000e+01,\n",
       "         5.80000000e+01,   2.19439963e+13,   1.19410340e+14,\n",
       "        -7.01948730e+13,   1.51491523e+15,   5.38602898e+13,\n",
       "         8.62443454e+13,   9.98377026e+13,   2.12727538e+13,\n",
       "         1.46606202e+15,  -1.13726613e+14,  -3.48964572e+14,\n",
       "         3.62882248e+14,  -1.50305947e+13,   7.64932711e+13,\n",
       "         2.33501898e+14,  -2.33430828e+14,   8.10082412e+14,\n",
       "        -2.85476007e+13,   1.33156278e+14,  -2.50215138e+15,\n",
       "         4.22237570e+13,  -5.49257570e+13,   8.78591667e+13,\n",
       "         5.42560471e+13,  -1.21118823e+15,  -2.05335796e+15,\n",
       "        -3.48964572e+14,   3.62882248e+14,  -1.50305947e+13,\n",
       "         7.64932711e+13,   2.33501898e+14,  -2.33430828e+14,\n",
       "         8.10082412e+14,  -2.43638059e+13,   1.70084822e+15,\n",
       "         2.39793277e+14,  -7.18458121e+13,  -7.68865890e+13,\n",
       "         1.74092579e+13,   2.49601063e+15,   1.65384090e+15,\n",
       "        -3.48964572e+14,   3.62882248e+14,  -1.50305947e+13,\n",
       "         7.64932711e+13,   2.33501898e+14,  -2.33430828e+14,\n",
       "         8.10082412e+14,   2.27520412e+13,   5.90269228e+13,\n",
       "        -4.12768533e+14,  -4.12768533e+14,  -4.12768533e+14,\n",
       "         2.77796034e+13,  -3.72458871e+12,   2.61406250e+01,\n",
       "        -5.11406250e+01,   5.83750000e+01,  -6.27812500e+01,\n",
       "         6.27500000e+02,   6.25000000e+00,  -8.30603094e+14,\n",
       "        -9.29992670e+12,   9.84913853e+13,   9.84913853e+13,\n",
       "         9.84913853e+13,  -7.87588011e+13,  -7.87588011e+13,\n",
       "         2.27500000e+01,  -2.54062500e+01,   6.07500000e+01,\n",
       "        -2.16562500e+01,   4.99250000e+02,   7.25000000e+00,\n",
       "        -9.68886457e+14,   1.43236176e+14,   1.43236176e+14,\n",
       "         1.43236176e+14,   2.37263985e+14,   2.37263985e+14,\n",
       "        -3.63125000e+01,  -6.06250000e+01,   5.51250000e+01,\n",
       "        -2.57246094e+01,   4.20664062e+01,  -1.06187500e+02,\n",
       "         1.22727054e+15,   0.00000000e+00,   0.00000000e+00,\n",
       "         0.00000000e+00,   0.00000000e+00,  -2.30798876e+13,\n",
       "         9.55033003e+14,   3.45739309e+14,  -5.78140234e+13,\n",
       "         1.26852688e+14,  -3.75744258e+13,   1.70731124e+15,\n",
       "         0.00000000e+00,   0.00000000e+00,   0.00000000e+00,\n",
       "        -2.30798876e+13,   9.55033003e+14,   3.45739309e+14,\n",
       "        -5.78140234e+13,   1.26852688e+14,  -3.75744258e+13,\n",
       "         1.70731124e+15,   0.00000000e+00,   0.00000000e+00,\n",
       "        -2.30798876e+13,   9.55033003e+14,   3.45739309e+14,\n",
       "        -5.78140234e+13,   1.26852688e+14,  -3.75744258e+13,\n",
       "         1.70731124e+15,   0.00000000e+00,   3.25884684e+14,\n",
       "         5.92150755e+14,   3.60769904e+14,  -1.34307295e+14,\n",
       "        -1.06649209e+14,   1.95856402e+14,   8.97228829e+14,\n",
       "         3.25884684e+14,   5.92150755e+14,   3.60769904e+14,\n",
       "        -1.34307295e+14,  -1.06649209e+14,   1.95856402e+14,\n",
       "         8.97228829e+14,   0.00000000e+00,   3.87500000e+01,\n",
       "        -1.04546875e+02,   3.29656250e+02,  -5.01250000e+01,\n",
       "         1.85000000e+01,  -3.90000000e+01,  -1.02031250e+02,\n",
       "         1.95781250e+02,  -1.05000000e+01,   3.65000000e+01,\n",
       "         1.92187500e+01,   1.39921875e+02,   4.09375000e+01,\n",
       "        -1.01250000e+01,  -1.93937500e+02,   6.55000000e+01,\n",
       "        -2.12500000e+01,  -7.35000000e+01,   6.42500000e+01,\n",
       "        -4.87500000e+01])"
      ]
     },
     "execution_count": 28,
     "metadata": {},
     "output_type": "execute_result"
    }
   ],
   "source": [
    "poly_model1.steps[1][1].coef_"
   ]
  },
  {
   "cell_type": "markdown",
   "metadata": {},
   "source": [
    "## Linear Regression using Prediction Interval\n",
    "* t_value is a hyperparameter\n",
    "* The number of times fail to complete the source task before the deadline given by simple linear regression is 1526\n",
    "* The number of times fail to complete the make task before the deadline given by simple linear regression is 5255\n",
    "* The number of times fail to complete the deliver task before the deadline given by simple linear regression is 5237\n",
    "* The number of times fail to deliver before the deadline given by simple linear regression is 4868 "
   ]
  },
  {
   "cell_type": "code",
   "execution_count": 94,
   "metadata": {
    "collapsed": true
   },
   "outputs": [],
   "source": [
    "class LRPI:\n",
    "    def __init__(self, normalize=False, n_jobs=1):\n",
    "        self.normalize = normalize\n",
    "        self.n_jobs = n_jobs\n",
    "        self.LR = linear_model.LinearRegression(normalize=self.normalize, n_jobs= self.n_jobs)\n",
    "        \n",
    "    def fit(self, X_train, y_train):\n",
    "        self.X_train = pd.DataFrame(X_train.values)\n",
    "        self.y_train = pd.DataFrame(y_train.values)\n",
    "        \n",
    "        self.LR.fit(self.X_train, self.y_train)\n",
    "        X_train_fit = self.LR.predict(self.X_train)\n",
    "        self.MSE = np.power(self.y_train.subtract(X_train_fit), 2).sum(axis=0) / (self.X_train.shape[0] - self.X_train.shape[1] - 1)\n",
    "        self.X_train.loc[:, 'const_one'] = 1\n",
    "        self.XTX_inv = np.linalg.inv(np.dot(np.transpose(self.X_train.values) , self.X_train.values))\n",
    "        \n",
    "    def predict(self, X_test,t_value=0.2):\n",
    "        self.t_value = t_value\n",
    "        self.X_test = pd.DataFrame(X_test.values)\n",
    "        self.pred = self.LR.predict(self.X_test)\n",
    "        self.X_test.loc[: , 'const_one'] =1\n",
    "        SE = [np.dot(np.transpose(self.X_test.values[i]) , np.dot(self.XTX_inv, self.X_test.values[i]) ) for i in range(len(self.X_test)) ]\n",
    "        results = pd.DataFrame(self.pred , columns=['Pred'])\n",
    "        \n",
    "        results.loc[:,\"lower\"] = results['Pred'].subtract((self.t_value)* (np.sqrt(self.MSE.values + np.multiply(SE,self.MSE.values) )),  axis=0)\n",
    "        results.loc[:,\"upper\"] = results['Pred'].add((self.t_value)* (np.sqrt(self.MSE.values + np.multiply(SE,self.MSE.values) )),  axis=0)\n",
    "        \n",
    "        return results"
   ]
  },
  {
   "cell_type": "code",
   "execution_count": 32,
   "metadata": {
    "collapsed": true
   },
   "outputs": [],
   "source": [
    "model1 = LRPI()\n",
    "model1.fit(X, y_s)\n",
    "results1 = model1.predict(X_test,0.2)\n",
    "y_test_s.reset_index(drop = True, inplace = True)"
   ]
  },
  {
   "cell_type": "code",
   "execution_count": 33,
   "metadata": {},
   "outputs": [
    {
     "data": {
      "text/plain": [
       "(17140074.128086239, 1517)"
      ]
     },
     "execution_count": 33,
     "metadata": {},
     "output_type": "execute_result"
    }
   ],
   "source": [
    "performance_measure(y_test_s,results1.upper)"
   ]
  },
  {
   "cell_type": "code",
   "execution_count": 34,
   "metadata": {},
   "outputs": [
    {
     "data": {
      "text/plain": [
       "(472587.74420984735, 5215)"
      ]
     },
     "execution_count": 34,
     "metadata": {},
     "output_type": "execute_result"
    }
   ],
   "source": [
    "model2 = LRPI()\n",
    "model2.fit(X, y_m)\n",
    "results2 = model2.predict(X_test,0.2)\n",
    "y_test_m.reset_index(drop = True, inplace = True)\n",
    "performance_measure(y_test_m,results2.upper)"
   ]
  },
  {
   "cell_type": "code",
   "execution_count": 35,
   "metadata": {},
   "outputs": [
    {
     "data": {
      "text/plain": [
       "(46537.72863496044, 5244)"
      ]
     },
     "execution_count": 35,
     "metadata": {},
     "output_type": "execute_result"
    }
   ],
   "source": [
    "model3 = LRPI()\n",
    "model3.fit(X, y_d)\n",
    "results3 = model3.predict(X_test,0.2)\n",
    "y_test_d.reset_index(drop = True, inplace = True)\n",
    "performance_measure(y_test_d,results3.upper)"
   ]
  },
  {
   "cell_type": "code",
   "execution_count": 54,
   "metadata": {},
   "outputs": [
    {
     "name": "stdout",
     "output_type": "stream",
     "text": [
      "(46106.702398473062, 4868)\n",
      "19654.6087016\n"
     ]
    }
   ],
   "source": [
    "prediction_actual_timetaken = (results1.upper/1440) + (results2.upper/24) + results3.upper\n",
    "Actual_timetaken.reset_index(drop = True, inplace = True)\n",
    "print(performance_measure(Actual_timetaken,prediction_actual_timetaken))\n",
    "test_planned = test_data.Planned_days\n",
    "test_planned.reset_index(drop = True, inplace = True)\n",
    "print(sum(abs(test_planned - prediction_actual_timetaken)))"
   ]
  },
  {
   "cell_type": "markdown",
   "metadata": {},
   "source": [
    "## Cross-Validation"
   ]
  },
  {
   "cell_type": "code",
   "execution_count": 105,
   "metadata": {
    "collapsed": true
   },
   "outputs": [],
   "source": [
    "t_values = [0.05,0.1,0.15,0.2,0.25,0.3,0.35,0.4,0.45,0.5,0.55,0.6,0.65,0.7,0.75,0.8,0.85,0.9,0.95,0.99]\n",
    "Actual_timetaken = (y_test_s/1440) + (y_test_m/24) + y_test_d\n",
    "y_test_s.reset_index(drop = True, inplace = True)\n",
    "y_test_m.reset_index(drop = True, inplace = True)\n",
    "y_test_d.reset_index(drop = True, inplace = True)\n",
    "Actual_timetaken.reset_index(drop = True, inplace = True)\n",
    "model1 = LRPI()\n",
    "time_vec = []\n",
    "fails_vec = []\n",
    "for i in range(len(t_values)):\n",
    "    model1.fit(X, y_s)\n",
    "    results1 = model1.predict(X_test,t_values[i])\n",
    "    time_s, fails_s = performance_measure(y_test_s,results1.upper)\n",
    "    model1.fit(X, y_m)\n",
    "    results2 = model1.predict(X_test,t_values[i])\n",
    "    time_m, fails_m = performance_measure(y_test_m,results2.upper)\n",
    "    model1.fit(X, y_d)\n",
    "    results3 = model1.predict(X_test,t_values[i])\n",
    "    time_d, fails_d = performance_measure(y_test_d,results3.upper)\n",
    "    prediction_actual_timetaken = (results1.upper/1440) + (results2.upper/24) + results3.upper\n",
    "    time, fails = performance_measure(Actual_timetaken,prediction_actual_timetaken)\n",
    "    time_vec.append(time)\n",
    "    fails_vec.append(fails)"
   ]
  },
  {
   "cell_type": "code",
   "execution_count": 108,
   "metadata": {
    "collapsed": true
   },
   "outputs": [],
   "source": [
    "plt.plot(t_values,time_vec)\n",
    "plt.xlabel('t-values')\n",
    "plt.ylabel('Performance measure')\n",
    "plt.title('LRPI')\n",
    "plt.savefig('lrpi.jpeg',dpi=300)"
   ]
  },
  {
   "cell_type": "code",
   "execution_count": 97,
   "metadata": {},
   "outputs": [
    {
     "name": "stdout",
     "output_type": "stream",
     "text": [
      "2639\n",
      "43057.6772404\n",
      "35953.3007746\n"
     ]
    }
   ],
   "source": [
    "test_planned = test_data.Planned_days\n",
    "test_planned.reset_index(drop = True, inplace = True)\n",
    "index_min = np.argmin(time_vec)\n",
    "print(fails_vec[index_min])\n",
    "print(min(time_vec))\n",
    "print(sum(abs(test_planned - prediction_actual_timetaken)))"
   ]
  },
  {
   "cell_type": "markdown",
   "metadata": {},
   "source": [
    "## Random Forest"
   ]
  },
  {
   "cell_type": "code",
   "execution_count": 100,
   "metadata": {
    "collapsed": true
   },
   "outputs": [
    {
     "name": "stdout",
     "output_type": "stream",
     "text": [
      "0\n",
      "1\n",
      "2\n",
      "3\n",
      "4\n",
      "5\n",
      "6\n",
      "7\n",
      "8\n",
      "9\n",
      "10\n",
      "11\n",
      "12\n"
     ]
    }
   ],
   "source": [
    "num_estimators = [50,100,150,200,250,300,350,400,450,500,550,600,650]\n",
    "Actual_timetaken = (y_test_s/1440) + (y_test_m/24) + y_test_d\n",
    "y_test_s.reset_index(drop = True, inplace = True)\n",
    "y_test_m.reset_index(drop = True, inplace = True)\n",
    "y_test_d.reset_index(drop = True, inplace = True)\n",
    "Actual_timetaken.reset_index(drop = True, inplace = True)\n",
    "time_vec = []\n",
    "fails_vec = []\n",
    "for i in range(len(num_estimators)):\n",
    "    model1 = RandomForestRegressor(n_estimators = num_estimators[i], n_jobs=-1, random_state=42)\n",
    "    print(i)\n",
    "    model1.fit(X, y_s)\n",
    "    results1 = model1.predict(X_test)\n",
    "    time_s, fails_s = performance_measure(y_test_s,results1)\n",
    "    model1.fit(X, y_m)\n",
    "    results2 = model1.predict(X_test)\n",
    "    time_m, fails_m = performance_measure(y_test_m,results2)\n",
    "    model1.fit(X, y_d)\n",
    "    results3 = model1.predict(X_test)\n",
    "    time_d, fails_d = performance_measure(y_test_d,results3)\n",
    "    prediction_actual_timetaken = (results1/1440) + (results2/24) + results3\n",
    "    time, fails = performance_measure(Actual_timetaken,prediction_actual_timetaken)\n",
    "    time_vec.append(time)\n",
    "    fails_vec.append(fails)"
   ]
  },
  {
   "cell_type": "code",
   "execution_count": 103,
   "metadata": {
    "collapsed": true
   },
   "outputs": [],
   "source": [
    "plt.plot(num_estimators,time_vec)\n",
    "plt.xlabel('n_estimators')\n",
    "plt.ylabel('Performance measure')\n",
    "plt.title('Random Forest')\n",
    "plt.savefig('randomforest.jpeg',dpi=300)"
   ]
  },
  {
   "cell_type": "code",
   "execution_count": 27,
   "metadata": {},
   "outputs": [
    {
     "name": "stdout",
     "output_type": "stream",
     "text": [
      "7160\n",
      "55909.3696949\n",
      "22972.769238\n"
     ]
    }
   ],
   "source": [
    "test_planned = test_data.Planned_days\n",
    "test_planned.reset_index(drop = True, inplace = True)\n",
    "index_min = np.argmin(time_vec)\n",
    "print(fails_vec[index_min])\n",
    "print(min(time_vec))\n",
    "print(sum(abs(test_planned - prediction_actual_timetaken)))"
   ]
  },
  {
   "cell_type": "code",
   "execution_count": 69,
   "metadata": {
    "collapsed": true
   },
   "outputs": [
    {
     "name": "stdout",
     "output_type": "stream",
     "text": [
      "0\n",
      "1\n",
      "2\n",
      "3\n",
      "4\n",
      "5\n",
      "6\n",
      "7\n",
      "8\n",
      "9\n",
      "10\n",
      "11\n",
      "12\n",
      "13\n",
      "14\n",
      "15\n"
     ]
    }
   ],
   "source": [
    "num_estimators = [100,200,300,400,500,600,700,800,900,1000,1500,2000,2500,3000,3500,4000]\n",
    "Actual_timetaken = (y_test_s/1440) + (y_test_m/24) + y_test_d\n",
    "y_test_s.reset_index(drop = True, inplace = True)\n",
    "y_test_m.reset_index(drop = True, inplace = True)\n",
    "y_test_d.reset_index(drop = True, inplace = True)\n",
    "Actual_timetaken.reset_index(drop = True, inplace = True)\n",
    "time_vec = []\n",
    "fails_vec = []\n",
    "for i in range(len(num_estimators)):\n",
    "    model1 = GradientBoostingRegressor(max_depth=2, n_estimators=num_estimators[i], learning_rate=0.1, random_state=42)\n",
    "    print(i)\n",
    "    model1.fit(X, y_s)\n",
    "    results1 = model1.predict(X_test)\n",
    "    time_s, fails_s = performance_measure(y_test_s,results1)\n",
    "    model1.fit(X, y_m)\n",
    "    results2 = model1.predict(X_test)\n",
    "    time_m, fails_m = performance_measure(y_test_m,results2)\n",
    "    model1.fit(X, y_d)\n",
    "    results3 = model1.predict(X_test)\n",
    "    time_d, fails_d = performance_measure(y_test_d,results3)\n",
    "    prediction_actual_timetaken = (results1/1440) + (results2/24) + results3\n",
    "    time, fails = performance_measure(Actual_timetaken,prediction_actual_timetaken)\n",
    "    time_vec.append(time)\n",
    "    fails_vec.append(fails)"
   ]
  },
  {
   "cell_type": "code",
   "execution_count": 89,
   "metadata": {
    "collapsed": true
   },
   "outputs": [],
   "source": [
    "plt.plot(num_estimators,time_vec)\n",
    "plt.xlabel('n_estimators')\n",
    "plt.ylabel('Performance measure')\n",
    "plt.title('Gradient Boosting')\n",
    "plt.savefig('gradient.jpeg',dpi=300)"
   ]
  },
  {
   "cell_type": "code",
   "execution_count": 71,
   "metadata": {},
   "outputs": [
    {
     "name": "stdout",
     "output_type": "stream",
     "text": [
      "7126\n",
      "56523.3887251\n",
      "22782.5800618\n"
     ]
    }
   ],
   "source": [
    "index_min = np.argmin(time_vec)\n",
    "print(fails_vec[index_min])\n",
    "print(min(time_vec))\n",
    "print(sum(abs(test_planned - prediction_actual_timetaken)))"
   ]
  }
 ],
 "metadata": {
  "kernelspec": {
   "display_name": "Python 3",
   "language": "python",
   "name": "python3"
  },
  "language_info": {
   "codemirror_mode": {
    "name": "ipython",
    "version": 3
   },
   "file_extension": ".py",
   "mimetype": "text/x-python",
   "name": "python",
   "nbconvert_exporter": "python",
   "pygments_lexer": "ipython3",
   "version": "3.6.2"
  }
 },
 "nbformat": 4,
 "nbformat_minor": 2
}
