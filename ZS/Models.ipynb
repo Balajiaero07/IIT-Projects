{
 "cells": [
  {
   "cell_type": "code",
   "execution_count": 134,
   "metadata": {},
   "outputs": [],
   "source": [
    "import os\n",
    "import pandas as pd\n",
    "import numpy as np\n",
    "import csv\n",
    "from pandas import DataFrame\n",
    "from sklearn.model_selection import train_test_split, GridSearchCV\n",
    "from sklearn.metrics import f1_score, make_scorer\n",
    "from xgboost import XGBClassifier\n",
    "from imblearn.over_sampling import RandomOverSampler\n",
    "from sklearn.model_selection import train_test_split, GridSearchCV\n",
    "from keras import layers\n",
    "from keras.layers import Dense, Activation, Flatten\n",
    "from keras.optimizers import Adam\n",
    "from keras.models import Sequential\n",
    "from keras.layers import Dense\n",
    "from keras.layers import Dropout\n",
    "from keras.wrappers.scikit_learn import KerasClassifier\n",
    "from keras.utils import np_utils\n",
    "from sklearn.model_selection import cross_val_score\n",
    "from sklearn.model_selection import KFold\n",
    "from sklearn.preprocessing import LabelEncoder\n",
    "from sklearn.pipeline import Pipeline\n",
    "from sklearn import preprocessing\n",
    "from sklearn import svm   \n",
    "from imblearn.under_sampling import RandomUnderSampler\n"
   ]
  },
  {
   "cell_type": "code",
   "execution_count": 126,
   "metadata": {},
   "outputs": [],
   "source": [
    "data = pd.read_csv(\"train_file.csv\")\n",
    "data1 = pd.read_csv(\"test_file.csv\")\n",
    "Train_features = pd.read_csv(\"Training.csv\")\n",
    "Test_features = pd.read_csv(\"Test.csv\")\n",
    "ros = RandomOverSampler(random_state=9)\n",
    "X_sample_0, y_sample_0 = ros.fit_sample(Train_features, data['Category'])\n",
    "X_train_O,X_test_O,y_train_O,y_test_O = train_test_split(X_sample_0,y_sample_0,test_size = 0.3)"
   ]
  },
  {
   "cell_type": "code",
   "execution_count": 144,
   "metadata": {},
   "outputs": [],
   "source": [
    "rus = RandomUnderSampler(random_state=8)\n",
    "X_sample_u, y_sample_u =  rus.fit_sample(Train_features, data['Category'])\n",
    "X_train_u,X_test_u,y_train_u,y_test_u = train_test_split(X_sample_u,y_sample_u,test_size = 0.3)    "
   ]
  },
  {
   "cell_type": "code",
   "execution_count": 146,
   "metadata": {},
   "outputs": [],
   "source": [
    "def svc_param_selection(X, y, nfolds):\n",
    "    Cs = [0.001, 0.01, 0.1, 1, 10]\n",
    "    gammas = [0.001, 0.01, 0.1, 1]\n",
    "    param_grid = {'C': Cs, 'gamma' : gammas}\n",
    "    grid_search = GridSearchCV(svm.SVC(kernel='rbf'), param_grid, cv=nfolds)\n",
    "    grid_search.fit(X, y)\n",
    "    grid_search.best_params_\n",
    "    return grid_search.best_params_"
   ]
  },
  {
   "cell_type": "code",
   "execution_count": 147,
   "metadata": {},
   "outputs": [
    {
     "data": {
      "text/plain": [
       "{'C': 10, 'gamma': 0.01}"
      ]
     },
     "execution_count": 147,
     "metadata": {},
     "output_type": "execute_result"
    }
   ],
   "source": [
    "svc_param_selection(X_train_u, y_train_u, 2)"
   ]
  },
  {
   "cell_type": "code",
   "execution_count": 151,
   "metadata": {},
   "outputs": [
    {
     "name": "stderr",
     "output_type": "stream",
     "text": [
      "c:\\users\\venkatachalam s\\appdata\\local\\conda\\conda\\envs\\tensorflow\\lib\\site-packages\\sklearn\\metrics\\classification.py:1143: UndefinedMetricWarning: F-score is ill-defined and being set to 0.0 in labels with no predicted samples.\n",
      "  'precision', 'predicted', average, warn_for)\n"
     ]
    },
    {
     "data": {
      "text/plain": [
       "0.06506217244561886"
      ]
     },
     "execution_count": 151,
     "metadata": {},
     "output_type": "execute_result"
    }
   ],
   "source": [
    "rbf = svm.SVC(kernel='rbf', gamma=0.01, C=0.01).fit(X_train_O, y_train_O)\n",
    "y_pred = rbf.predict(X_test_O)\n",
    "f1_score(y_test_O, y_pred, average='weighted')"
   ]
  },
  {
   "cell_type": "code",
   "execution_count": 133,
   "metadata": {},
   "outputs": [],
   "source": [
    "svm =  rbf.predict(Test_features.as_matrix())\n",
    "svm_prediction = pd.concat([data1['Application/Permit Number'],pd.DataFrame({'Category':svm})],axis=1)\n",
    "svm_prediction.to_csv('prediction12.csv', sep=',',index = False)"
   ]
  },
  {
   "cell_type": "code",
   "execution_count": 127,
   "metadata": {},
   "outputs": [
    {
     "data": {
      "text/plain": [
       "0.9650336997589892"
      ]
     },
     "execution_count": 127,
     "metadata": {},
     "output_type": "execute_result"
    }
   ],
   "source": [
    "model = XGBClassifier(n_estimators=15000,n_jobs=-1)\n",
    "model.fit(X_train_O, y_train_O)\n",
    "y_pred = model.predict(X_test_O)\n",
    "f1_score(y_test_O, y_pred, average='weighted')"
   ]
  },
  {
   "cell_type": "code",
   "execution_count": 128,
   "metadata": {},
   "outputs": [],
   "source": [
    "Boosting =  model.predict(Test_features.as_matrix())\n",
    "Boosting_prediction = pd.concat([data1['Application/Permit Number'],pd.DataFrame({'Category':Boosting})],axis=1)\n",
    "Boosting_prediction.to_csv('prediction12.csv', sep=',',index = False)"
   ]
  },
  {
   "cell_type": "code",
   "execution_count": 44,
   "metadata": {},
   "outputs": [],
   "source": [
    "# Deep learning model\n",
    "def keras_model():\n",
    "    model1 = Sequential()\n",
    "    model1.add(Dense(250, input_dim = np.int(X_train_O.shape[1]),activation ='relu'))\n",
    "    model1.add(Dense(250,activation ='relu'))\n",
    "    model1.add(Dropout(0.5))\n",
    "    model1.add(Dense(250,activation ='relu'))\n",
    "    model1.add(Dropout(0.5))\n",
    "    model1.add(Dense(250,activation ='relu'))\n",
    "    model1.add(Dense(5,activation='softmax'))\n",
    "    model1.compile(loss='categorical_crossentropy', optimizer='adam', metrics=['accuracy'])\n",
    "    return model1\n",
    "encoder = LabelEncoder()\n",
    "encoder.fit(y_sample_0)\n",
    "encoded_Y = encoder.transform(y_sample_0)\n",
    "dummy_y = np_utils.to_categorical(encoded_Y)\n",
    "estimator = KerasClassifier(build_fn=keras_model, epochs=1, batch_size=5, verbose=0)\n",
    "kfold = KFold(n_splits=3, shuffle=True, random_state=50)\n",
    "results = cross_val_score(estimator, X_sample_0, dummy_y, cv=kfold)\n",
    "print(\"Baseline: %.2f%% (%.2f%%)\" % (results.mean()*100, results.std()*100))"
   ]
  },
  {
   "cell_type": "code",
   "execution_count": 129,
   "metadata": {},
   "outputs": [],
   "source": [
    "pred1 = pd.read_csv(\"prediction1.csv\")\n",
    "pred2 = pd.read_csv(\"prediction2.csv\")\n",
    "pred3 = pd.read_csv(\"prediction3.csv\")\n",
    "pred4 = pd.read_csv(\"prediction4.csv\")\n",
    "pred5 = pd.read_csv(\"prediction5.csv\")\n",
    "pred6 = pd.read_csv(\"prediction10.csv\")\n",
    "pred7 = pd.read_csv(\"prediction7.csv\")\n",
    "final_pred = pd.concat([pred2['Category'],\n",
    "                       pred2['Category'],\n",
    "                       pred3['Category'],\n",
    "                       pred4['Category'],\n",
    "                       pred5['Category'],\n",
    "                       pred6['Category'],\n",
    "                       pred7['Category']],axis=1)\n",
    "labels = []\n",
    "for i in range(len(final_pred)):\n",
    "    labels.append(Counter(final_pred.loc[i]).most_common(1)[0][0])"
   ]
  },
  {
   "cell_type": "code",
   "execution_count": 120,
   "metadata": {},
   "outputs": [
    {
     "data": {
      "text/plain": [
       "SINGLE FAMILY / DUPLEX    12010\n",
       "COMMERCIAL                 6004\n",
       "MULTIFAMILY                3114\n",
       "INSTITUTIONAL               740\n",
       "INDUSTRIAL                  492\n",
       "Name: Category, dtype: int64"
      ]
     },
     "execution_count": 120,
     "metadata": {},
     "output_type": "execute_result"
    }
   ],
   "source": [
    "Max_prediction['Category'].value_counts()"
   ]
  },
  {
   "cell_type": "code",
   "execution_count": 130,
   "metadata": {},
   "outputs": [],
   "source": [
    "Max_prediction = pd.concat([data1['Application/Permit Number'],pd.DataFrame({'Category':labels})],axis=1)\n",
    "Max_prediction.to_csv('prediction11.csv', sep=',',index = False)\n"
   ]
  }
 ],
 "metadata": {
  "kernelspec": {
   "display_name": "Python 3",
   "language": "python",
   "name": "python3"
  },
  "language_info": {
   "codemirror_mode": {
    "name": "ipython",
    "version": 3
   },
   "file_extension": ".py",
   "mimetype": "text/x-python",
   "name": "python",
   "nbconvert_exporter": "python",
   "pygments_lexer": "ipython3",
   "version": "3.5.5"
  }
 },
 "nbformat": 4,
 "nbformat_minor": 2
}
