{
 "cells": [
  {
   "cell_type": "code",
   "execution_count": 13,
   "metadata": {},
   "outputs": [],
   "source": [
    "import pandas as pd\n",
    "import numpy as np\n",
    "import matplotlib.pyplot as plt\n",
    "import seaborn as sns\n",
    "import datetime as dt\n",
    "import warnings\n",
    "warnings.filterwarnings(\"ignore\")\n",
    "from scipy.stats import fisher_exact\n",
    "import scipy.stats as stats\n",
    "from scipy.stats import norm, skew\n",
    "from sklearn.cluster import KMeans\n",
    "from sklearn.mixture import GaussianMixture\n",
    "from sklearn.preprocessing import StandardScaler\n",
    "from imblearn.over_sampling import RandomOverSampler\n",
    "from imblearn.over_sampling import SMOTE\n",
    "from imblearn.under_sampling import RandomUnderSampler\n",
    "from sklearn.model_selection import train_test_split, GridSearchCV\n",
    "from sklearn.ensemble import RandomForestClassifier \n",
    "from sklearn.metrics import f1_score, make_scorer\n",
    "import pickle\n",
    "from xgboost import XGBClassifier\n"
   ]
  },
  {
   "cell_type": "code",
   "execution_count": 187,
   "metadata": {},
   "outputs": [],
   "source": [
    "data = pd.read_csv(\"train_file.csv\")\n",
    "data1 = pd.read_csv(\"test_file.csv\")\n",
    "Topic_features  = pd.read_csv(\"Topic_distribution.csv\")"
   ]
  },
  {
   "cell_type": "code",
   "execution_count": 7,
   "metadata": {},
   "outputs": [
    {
     "data": {
      "text/plain": [
       "SINGLE FAMILY / DUPLEX    18342\n",
       "COMMERCIAL                 9778\n",
       "MULTIFAMILY                4102\n",
       "INSTITUTIONAL               926\n",
       "INDUSTRIAL                  391\n",
       "Name: Category, dtype: int64"
      ]
     },
     "execution_count": 7,
     "metadata": {},
     "output_type": "execute_result"
    }
   ],
   "source": [
    "data.iloc[:,-1].value_counts()"
   ]
  },
  {
   "cell_type": "code",
   "execution_count": 12,
   "metadata": {},
   "outputs": [
    {
     "data": {
      "text/plain": [
       "Application/Permit Number            int64\n",
       "Permit Type                         object\n",
       "Address                             object\n",
       "Description                         object\n",
       "Action Type                         object\n",
       "Work Type                           object\n",
       "Applicant Name                      object\n",
       "Application Date                    object\n",
       "Issue Date                          object\n",
       "Final Date                          object\n",
       "Expiration Date                     object\n",
       "Status                              object\n",
       "Contractor                          object\n",
       "Permit and Complaint Status URL     object\n",
       "Master Use Permit                  float64\n",
       "Latitude                           float64\n",
       "Longitude                          float64\n",
       "Location                            object\n",
       "Category                            object\n",
       "dtype: object"
      ]
     },
     "execution_count": 12,
     "metadata": {},
     "output_type": "execute_result"
    }
   ],
   "source": [
    "data.dtypes"
   ]
  },
  {
   "cell_type": "code",
   "execution_count": 3,
   "metadata": {},
   "outputs": [],
   "source": [
    "def dummies_Encoding(data):\n",
    "    Permit = pd.get_dummies(data['Permit Type'],prefix='Permit Type',drop_first=True)\n",
    "    Action = pd.get_dummies(data['Action Type'],prefix='Action Type',drop_first=True)\n",
    "    Work = pd.get_dummies(data['Work Type'],prefix='Work Type',drop_first=True)\n",
    "    Statu = pd.get_dummies(data['Status'],prefix='Status',drop_first=True)\n",
    "    dummy_encode =  pd.concat([Permit,Action,Work,Statu],axis=1)\n",
    "    return dummy_encode"
   ]
  },
  {
   "cell_type": "code",
   "execution_count": 4,
   "metadata": {},
   "outputs": [],
   "source": [
    "def date_features(data):\n",
    "    completed_Submission = ~data['Application Date'].isna()\n",
    "    Issue_data = ~data['Issue Date'].isna()\n",
    "    Under_review = (completed_Submission == True) & (Issue_data == False)\n",
    "    Final_Date = ~data['Final Date'].isna()\n",
    "    Under_inspection  = (Issue_data == True) & (Final_Date == False)\n",
    "    not_issued = data['Expiration Date'].isna()\n",
    "    total_date = (pd.to_datetime(data['Expiration Date']) - pd.to_datetime(data['Application Date'])).astype('timedelta64[D]') \n",
    "    total_date[total_date.isna()] =  max(total_date)*2\n",
    "    date_variables = pd.concat([completed_Submission,Issue_data,Under_review,Final_Date,Under_inspection,not_issued,total_date],axis=1)\n",
    "    return date_variables"
   ]
  },
  {
   "cell_type": "code",
   "execution_count": 40,
   "metadata": {},
   "outputs": [],
   "source": [
    "def cluster_labels(data,c1,c2):\n",
    "    X1 = data['Longitude'].fillna(0)\n",
    "    X2 = data['Latitude'].fillna(0)\n",
    "    X = pd.concat([X1,X2],axis=1)\n",
    "    kmeanModel = KMeans(n_clusters=c1)\n",
    "    kmeanModel.fit(X)\n",
    "    gmm = GaussianMixture(n_components=c2)\n",
    "    gmm.fit(X)\n",
    "    return kmeanModel,gmm"
   ]
  },
  {
   "cell_type": "code",
   "execution_count": 6,
   "metadata": {},
   "outputs": [],
   "source": [
    "def contractor_freq(data):\n",
    "    Freq = data['Contractor'].fillna(0)\n",
    "    Freq[Freq == 'SEATTLE HOUSING AUTH GENERAL'] = 1\n",
    "    Freq[Freq == 'SEATTLE SCHOOL DISTRICT (A&S)'] = 2\n",
    "    Freq[Freq == 'U OF W BUILDING PERMIT'] = 3\n",
    "    Freq[Freq == 'SEATTLE PARKS DEPT'] = 4\n",
    "    Freq[(Freq == 'BURGESS DESIGN, INC') | (Freq == 'CITY OF SEA F&FD') | \n",
    "        (Freq == 'SAGE HOMES NORTHWEST, LLC')| (Freq == 'IA/INTERIOR ARCHITECTS')  |(Freq == 'SOUND SEISMIC')| (Freq == 'AMAZON.COM')] = 5\n",
    "    Freq[(Freq == 'PORT OF SEATTLE ENGINEERING') | (Freq == 'BLANKET: BANK OF AMERICA TOWER') | \n",
    "        (Freq == 'CITY INVESTORS')| (Freq == 'GREEN CANOPY HOMES')  |(Freq == 'POLYGON WLH LLC')] = 6\n",
    "    Freq[~((Freq == 1) | (Freq == 2) | (Freq == 3) | (Freq == 0) | (Freq == 4) | (Freq == 5) | (Freq == 6))]= 7 \n",
    "    return Freq"
   ]
  },
  {
   "cell_type": "code",
   "execution_count": 30,
   "metadata": {},
   "outputs": [],
   "source": [
    "def scaling(data):\n",
    "    scaler = StandardScaler()\n",
    "    scaled=data['Master Use Permit'].fillna(0)\n",
    "    scaler.fit(scaled.reshape(-1,1))\n",
    "    return scaler"
   ]
  },
  {
   "cell_type": "code",
   "execution_count": 99,
   "metadata": {},
   "outputs": [],
   "source": [
    "def processed_data(data):\n",
    "    date_variables = date_features(data)\n",
    "    Freq = pd.DataFrame({'Frequ': contractor_freq(data)})\n",
    "    Processed_data = pd.concat([date_variables,Freq],axis=1)\n",
    "    return Processed_data"
   ]
  },
  {
   "cell_type": "code",
   "execution_count": 136,
   "metadata": {},
   "outputs": [],
   "source": [
    "Train_topic = Topic_features[0:len(data2)]\n",
    "Test_topic = Topic_features[len(data2):len(data2)+len(data1)]\n",
    "Train_topic.drop(Train_topic.columns[0],axis=1,inplace=True)\n",
    "Test_topic.drop(Test_topic.columns[0],axis=1,inplace=True)\n",
    "Test_topic.reset_index(inplace=True)\n",
    "kmeanModel, gmm = cluster_labels(data,3,5)\n",
    "X1 = data['Longitude'].fillna(0)\n",
    "X2 = data['Latitude'].fillna(0)\n",
    "X = pd.concat([X1,X2],axis=1)\n",
    "Cluster_L1 = kmeanModel.predict(X)\n",
    "Cluster_L2 = gmm.predict(X)\n",
    "clusters_features = pd.concat([pd.DataFrame({'KNN': Cluster_L1}),pd.DataFrame({'EM':Cluster_L2}),X],axis=1)\n",
    "scaler = scaling(data)\n",
    "data2 = data.drop('Category', axis=1) \n",
    "data_temp = pd.concat([data2,data1],axis=0)\n",
    "dummy_encode_train = dummies_Encoding(data_temp)\n",
    "dummy_encode = dummy_encode_train.iloc[0:len(data2)]\n",
    "dummy_encode_test = dummy_encode_train.iloc[len(data2):len(data2)+len(data1)]\n",
    "scaled_Mast = scaler.transform(data['Master Use Permit'].fillna(0).reshape(-1,1))\n",
    "scaled_Mast = pd.DataFrame(scaled_Mast)\n",
    "\n",
    "\n",
    "ros = RandomOverSampler(random_state=9)\n",
    "rus = RandomUnderSampler(random_state=8)\n",
    "smote = SMOTE(random_state=9, kind=\"borderline2\")\n",
    "Processed_data1 = pd.concat([dummy_encode,processed_data(data),clusters_features,scaled_Mast,Train_topic],axis=1)\n",
    "#undersampling and over sampling\n",
    "\n",
    "X_sample_0, y_sample_0 = ros.fit_sample(Processed_data1, data['Category'])\n",
    "X_sample_s, y_sample_s = smote.fit_sample(Processed_data1, data['Category'])\n",
    "X_sample_u, y_sample_u =  rus.fit_sample(Processed_data1, data['Category'])\n",
    "X_train_O,X_test_O,y_train_O,y_test_O = train_test_split(X_sample_0,y_sample_0,test_size = 0.3)\n",
    "X_train_s,X_test_s,y_train_s,y_test_s = train_test_split(X_sample_s,y_sample_s,test_size = 0.3)\n",
    "X_train_u,X_test_u,y_train_u,y_test_u = train_test_split(X_sample_u,y_sample_u,test_size = 0.3)    "
   ]
  },
  {
   "cell_type": "code",
   "execution_count": 216,
   "metadata": {},
   "outputs": [
    {
     "data": {
      "image/png": "[encoded data removed]",
      "text/plain": [
       "<Figure size 720x432 with 1 Axes>"
      ]
     },
     "metadata": {},
     "output_type": "display_data"
    }
   ],
   "source": [
    "#Random Forest Classifier \n",
    "def gridfunc(classifier, parameter, X_train, y_train):\n",
    "    clf = classifier\n",
    "    np.random.seed(9)\n",
    "    parameters = parameter\n",
    "    f1_scorer = make_scorer(f1_score,average='weighted')\n",
    "    # Run the grid search\n",
    "    grid_obj = GridSearchCV(clf, parameters, scoring=f1_scorer)\n",
    "    grid_obj = grid_obj.fit(X_train, y_train) \n",
    "    return grid_obj          \n",
    "def hp_cv_scores(grid_obj):\n",
    "    grid_obj.cv_results_\n",
    "    mean_test_scores = grid_obj.cv_results_['mean_test_score']\n",
    "    mean_train_scores = grid_obj.cv_results_['mean_train_score']\n",
    "    plt.figure(figsize=(10,6)) \n",
    "    param_values =[str(x) for x in list(grid_obj.param_grid.items())[0][1]]\n",
    "    x = np.arange(1, len(param_values)+1)\n",
    "    plt.plot(x,mean_train_scores, c='r', label='Train set')\n",
    "    plt.xticks(x,param_values)\n",
    "    plt.plot(x,mean_test_scores,c='g', label='Test set')\n",
    "    plt.xlabel(list(grid_obj.param_grid.items())[0][1])\n",
    "    plt.ylabel('mean scores')\n",
    "    plt.legend()\n",
    "    plt.show()\n",
    "classifier = RandomForestClassifier(random_state=9)\n",
    "grid = gridfunc(classifier, {'n_estimators': [10, 40, 60]} , X_sample_0, y_sample_0)\n",
    "hp_cv_scores(grid)"
   ]
  },
  {
   "cell_type": "code",
   "execution_count": 225,
   "metadata": {},
   "outputs": [],
   "source": [
    "#Test data preparation\n",
    "scaled_Mast1 = scaler.transform(data1['Master Use Permit'].fillna(0).reshape(-1,1))\n",
    "scaled_Mast1 = pd.DataFrame(scaled_Mast1)\n",
    "X1_t = data1['Longitude'].fillna(0)\n",
    "X2_t = data1['Latitude'].fillna(0)\n",
    "X_t = pd.concat([X1_t,X2_t],axis=1)\n",
    "Cluster_L1_t = kmeanModel.predict(X_t)\n",
    "Cluster_L2_t = gmm.predict(X_t)\n",
    "clusters_features_t = pd.concat([pd.DataFrame({'KNN': Cluster_L1_t}),pd.DataFrame({'EM':Cluster_L2_t}),X_t],axis=1)\n",
    "test_processed = pd.concat([dummy_encode_test,processed_data(data1),clusters_features_t,scaled_Mast1,Test_topic],axis=1)\n",
    "test_processed.drop(['index'], axis=1,inplace = True)\n"
   ]
  },
  {
   "cell_type": "code",
   "execution_count": 260,
   "metadata": {},
   "outputs": [],
   "source": [
    "Processed_data1.to_csv('Training.csv')\n",
    "test_processed.to_csv('Test.csv')"
   ]
  },
  {
   "cell_type": "code",
   "execution_count": 259,
   "metadata": {},
   "outputs": [],
   "source": [
    "#Prediction for test data\n",
    "random_forest =  grid.predict(test_processed)\n",
    "RF_prediction = pd.concat([data1['Application/Permit Number'],pd.DataFrame({'Category':random_forest})],axis=1)\n",
    "RF_prediction.to_csv('prediction4.csv', sep=',',index = False)"
   ]
  },
  {
   "cell_type": "code",
   "execution_count": 162,
   "metadata": {},
   "outputs": [
    {
     "data": {
      "text/plain": [
       "0.7836092726477303"
      ]
     },
     "execution_count": 162,
     "metadata": {},
     "output_type": "execute_result"
    }
   ],
   "source": [
    "#Boosting technique\n",
    "model = XGBClassifier(n_estimators=1000)\n",
    "model.fit(X_train_O, y_train_O)\n",
    "y_pred = model.predict(X_test_O)\n",
    "f1_score(y_test_O, y_pred, average='weighted')\n",
    "Boosting =  model.predict(test_processed.as_matrix())\n",
    "Boosting_prediction = pd.concat([data1['Application/Permit Number'],pd.DataFrame({'Category':Boosting})],axis=1)\n",
    "Boosting_prediction.to_csv('prediction2.csv', sep=',',index = False)"
   ]
  }
 ],
 "metadata": {
  "kernelspec": {
   "display_name": "Python 3",
   "language": "python",
   "name": "python3"
  },
  "language_info": {
   "codemirror_mode": {
    "name": "ipython",
    "version": 3
   },
   "file_extension": ".py",
   "mimetype": "text/x-python",
   "name": "python",
   "nbconvert_exporter": "python",
   "pygments_lexer": "ipython3",
   "version": "3.5.5"
  }
 },
 "nbformat": 4,
 "nbformat_minor": 2
}
