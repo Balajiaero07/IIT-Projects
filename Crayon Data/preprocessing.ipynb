{
 "cells": [
  {
   "cell_type": "code",
   "execution_count": 11,
   "metadata": {
    "collapsed": true
   },
   "outputs": [],
   "source": [
    "import os\n",
    "import pandas as pd\n",
    "import numpy as np\n",
    "import csv\n",
    "from pandas import DataFrame\n"
   ]
  },
  {
   "cell_type": "code",
   "execution_count": 12,
   "metadata": {},
   "outputs": [],
   "source": [
    "df = DataFrame.from_csv(\"100K_Restaurants_reviews.tsv\", sep=\"\\t\")"
   ]
  },
  {
   "cell_type": "code",
   "execution_count": 21,
   "metadata": {},
   "outputs": [
    {
     "data": {
      "text/plain": [
       "(99999, 9)"
      ]
     },
     "execution_count": 21,
     "metadata": {},
     "output_type": "execute_result"
    }
   ],
   "source": [
    "df.shape"
   ]
  },
  {
   "cell_type": "code",
   "execution_count": 24,
   "metadata": {},
   "outputs": [
    {
     "data": {
      "text/plain": [
       "['RestaurantName',\n",
       " 'RestaurantId',\n",
       " 'City',\n",
       " 'Rating',\n",
       " 'UserName',\n",
       " 'UserId',\n",
       " 'DateTime',\n",
       " 'UserLink',\n",
       " 'ReviewTxt']"
      ]
     },
     "execution_count": 24,
     "metadata": {},
     "output_type": "execute_result"
    }
   ],
   "source": [
    "list(df.columns.values)"
   ]
  },
  {
   "cell_type": "code",
   "execution_count": 39,
   "metadata": {},
   "outputs": [
    {
     "data": {
      "text/plain": [
       "array(['Bangalore', 'Ahmedabad', 'Bhopal', 'Bhubaneswar', 'Chandigarh',\n",
       "       'Allahabad', 'Amritsar', 'Aurangabad', 'Agra'], dtype=object)"
      ]
     },
     "execution_count": 39,
     "metadata": {},
     "output_type": "execute_result"
    }
   ],
   "source": [
    "df['City'].unique()"
   ]
  },
  {
   "cell_type": "code",
   "execution_count": 34,
   "metadata": {},
   "outputs": [
    {
     "data": {
      "text/plain": [
       "ReviewId\n",
       "7063897                     https://www.zomato.com/iamfoodman\n",
       "7059469     https://www.zomato.com/users/vinoth-velu-20216230\n",
       "7050151      https://www.zomato.com/users/ipshita-deb-2023120\n",
       "7049203     https://www.zomato.com/users/kavita-kumar-2019...\n",
       "7046773     https://www.zomato.com/users/pooja-patil-20187610\n",
       "7042579                     https://www.zomato.com/Ajaigonner\n",
       "7038796     https://www.zomato.com/users/gayatri-nair-2016...\n",
       "7035571     https://www.zomato.com/users/padmini-pillai-20...\n",
       "7033660     https://www.zomato.com/users/nivedita-basu-dey...\n",
       "7033201                      https://www.zomato.com/varun8796\n",
       "7028761                         https://www.zomato.com/buntym\n",
       "7025191     https://www.zomato.com/users/shefali-bansal-49...\n",
       "7025020     https://www.zomato.com/users/lovena-gonsalves-...\n",
       "7020520     https://www.zomato.com/users/rahul-vakharia-23...\n",
       "7018783     https://www.zomato.com/users/alpana-shah-16792570\n",
       "7013965                         https://www.zomato.com/khanaa\n",
       "7010554     https://www.zomato.com/users/meenakshi-shetty-...\n",
       "7005082     https://www.zomato.com/users/dhriti-bhattachar...\n",
       "6995641     https://www.zomato.com/users/parimita-choubey-...\n",
       "6994894     https://www.zomato.com/users/sunita-mahajan-16...\n",
       "6989350     https://www.zomato.com/users/megha-shetti-1397...\n",
       "6985024                      https://www.zomato.com/rajatadri\n",
       "6984580     https://www.zomato.com/users/pulkit-goenka-328904\n",
       "6961057     https://www.zomato.com/users/ritesh-subudhi-11...\n",
       "6958525     https://www.zomato.com/users/soumya-ranjan-166...\n",
       "6945193                  https://www.zomato.com/rrajendrabhat\n",
       "6940162     https://www.zomato.com/users/navneet-kaushal-1...\n",
       "6931936        https://www.zomato.com/users/gayathri-16592296\n",
       "6925444     https://www.zomato.com/users/priyanka-choudhur...\n",
       "6908413        https://www.zomato.com/users/manideepa-3129856\n",
       "                                  ...                        \n",
       "130223      https://www.zomato.com/users/suhas-thotada-r-8...\n",
       "23563559    https://www.zomato.com/users/prema-george-2918...\n",
       "7614064                         https://www.zomato.com/hriday\n",
       "7101508                    https://www.zomato.com/reverurjour\n",
       "7026025                   https://www.zomato.com/shrutisuresh\n",
       "6794749      https://www.zomato.com/users/easwaran-s-16247614\n",
       "6786951     https://www.zomato.com/users/chirag-bharadwaj-...\n",
       "6766809                   https://www.zomato.com/Sir_eatsalot\n",
       "6738841                    https://www.zomato.com/sameeparora\n",
       "6444732      https://www.zomato.com/users/ananth-kumar-100159\n",
       "5171171     https://www.zomato.com/users/mahesh-alanthat-7...\n",
       "3794951                https://www.zomato.com/HimanshuSuvarna\n",
       "3691071     https://www.zomato.com/users/srivathsa-krishna...\n",
       "3078651     https://www.zomato.com/users/raghav-ahujha-606...\n",
       "2620521            https://www.zomato.com/users/snehal-397062\n",
       "2480591                           https://www.zomato.com/fudi\n",
       "1919891             https://www.zomato.com/users/amit-3534001\n",
       "1031205                         https://www.zomato.com/rhlchd\n",
       "980322      https://www.zomato.com/users/prabhakaran-balas...\n",
       "869176      https://www.zomato.com/users/ayush-agarwal-225...\n",
       "669654                      https://www.zomato.com/gluttonNo1\n",
       "663422          https://www.zomato.com/users/medha-rao-351669\n",
       "466514      https://www.zomato.com/users/sinjana-jana-1649709\n",
       "386094          https://www.zomato.com/users/harshitha-366588\n",
       "306165                       https://www.zomato.com/NetBramha\n",
       "265061      https://www.zomato.com/users/veronika-peter-10...\n",
       "157958                       https://www.zomato.com/anushajay\n",
       "155847      https://www.zomato.com/users/pradeep-venkatesh...\n",
       "138789                         https://www.zomato.com/pritham\n",
       "23542279                         https://www.zomato.com/hasna\n",
       "Name: UserLink, Length: 99999, dtype: object"
      ]
     },
     "execution_count": 34,
     "metadata": {},
     "output_type": "execute_result"
    }
   ],
   "source": [
    "df['UserLink']"
   ]
  },
  {
   "cell_type": "code",
   "execution_count": 35,
   "metadata": {},
   "outputs": [
    {
     "data": {
      "text/plain": [
       "60"
      ]
     },
     "execution_count": 35,
     "metadata": {},
     "output_type": "execute_result"
    }
   ],
   "source": [
    "sum(df['RestaurantName'].value_counts()>500)"
   ]
  },
  {
   "cell_type": "code",
   "execution_count": 37,
   "metadata": {},
   "outputs": [
    {
     "data": {
      "text/plain": [
       "1668"
      ]
     },
     "execution_count": 37,
     "metadata": {},
     "output_type": "execute_result"
    }
   ],
   "source": [
    "len(df['RestaurantName'].unique())"
   ]
  },
  {
   "cell_type": "code",
   "execution_count": 32,
   "metadata": {},
   "outputs": [
    {
     "data": {
      "text/plain": [
       "897165      113\n",
       "1893828      91\n",
       "786242       85\n",
       "407847       84\n",
       "716805       80\n",
       "453899       73\n",
       "334993       66\n",
       "256478       66\n",
       "317705       62\n",
       "119437       59\n",
       "814771       58\n",
       "1614255      58\n",
       "724910       57\n",
       "1161085      57\n",
       "94962        57\n",
       "477713       54\n",
       "1542223      53\n",
       "192551       51\n",
       "802048       51\n",
       "2377606      50\n",
       "748487       50\n",
       "475762       49\n",
       "570985       48\n",
       "311741       48\n",
       "1023645      47\n",
       "383427       47\n",
       "240936       47\n",
       "1183858      47\n",
       "1571989      47\n",
       "111177       46\n",
       "           ... \n",
       "330818        1\n",
       "4916291       1\n",
       "2309188       1\n",
       "4416591       1\n",
       "1969250       1\n",
       "930917        1\n",
       "267938        1\n",
       "1473516       1\n",
       "1199082       1\n",
       "2139318       1\n",
       "1612720       1\n",
       "226125        1\n",
       "414569        1\n",
       "680815        1\n",
       "1887904       1\n",
       "14504841      1\n",
       "238487        1\n",
       "2100130       1\n",
       "15618985      1\n",
       "15780794      1\n",
       "5493721       1\n",
       "3235005       1\n",
       "326588        1\n",
       "1907648       1\n",
       "838143        1\n",
       "1786827       1\n",
       "233369        1\n",
       "11776981      1\n",
       "500695        1\n",
       "925276        1\n",
       "Name: UserId, Length: 35196, dtype: int64"
      ]
     },
     "execution_count": 32,
     "metadata": {},
     "output_type": "execute_result"
    }
   ],
   "source": [
    "df['UserId'].value_counts()"
   ]
  }
 ],
 "metadata": {
  "kernelspec": {
   "display_name": "Python 3",
   "language": "python",
   "name": "python3"
  },
  "language_info": {
   "codemirror_mode": {
    "name": "ipython",
    "version": 3
   },
   "file_extension": ".py",
   "mimetype": "text/x-python",
   "name": "python",
   "nbconvert_exporter": "python",
   "pygments_lexer": "ipython3",
   "version": "3.6.2"
  }
 },
 "nbformat": 4,
 "nbformat_minor": 2
}
