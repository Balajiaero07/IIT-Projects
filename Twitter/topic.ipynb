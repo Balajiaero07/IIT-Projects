{
 "cells": [
  {
   "cell_type": "code",
   "execution_count": null,
   "metadata": {
    "collapsed": true
   },
   "outputs": [],
   "source": [
    "positive[1] = positive[1].str.replace('http\\S+|www.\\S+', '', case=False)\n",
    "negative[1] = negative[1].str.replace('http\\S+|www.\\S+', '', case=False)\n",
    "positive['POS'] = pos_tag_sents(positive[1].apply(word_tokenize).tolist())\n",
    "negative['NEG'] = pos_tag_sents(negative[1].apply(word_tokenize).tolist())\n",
    "positive['noun_words'] = np.nan\n",
    "positive = positive.astype('object')\n",
    "for j in range(len(positive)):\n",
    "    tagged = positive.iloc[j,2]\n",
    "    noun_words = []\n",
    "    for item in tagged:\n",
    "        if item[1] == 'N' or item[1] == 'NN' or item[1] == 'NNP' or item[1] == 'NNS' or item[1] == 'NNPS':\n",
    "            noun_words.append(item[0])\n",
    "    positive.iloc[j,3] = noun_words\n",
    "negative['noun_words'] = np.nan\n",
    "negative = negative.astype('object')\n",
    "for j in range(len(negative)):\n",
    "    tagged = negative.iloc[j,2]\n",
    "    noun_words = []\n",
    "    for item in tagged:\n",
    "        if item[1] == 'N' or item[1] == 'NN' or item[1] == 'NNP' or item[1] == 'NNS' or item[1] == 'NNPS':\n",
    "            noun_words.append(item[0])\n",
    "    negative.iloc[j,3] = noun_words"
   ]
  }
 ],
 "metadata": {
  "kernelspec": {
   "display_name": "Python 3",
   "language": "python",
   "name": "python3"
  },
  "language_info": {
   "codemirror_mode": {
    "name": "ipython",
    "version": 3
   },
   "file_extension": ".py",
   "mimetype": "text/x-python",
   "name": "python",
   "nbconvert_exporter": "python",
   "pygments_lexer": "ipython3",
   "version": "3.6.2"
  }
 },
 "nbformat": 4,
 "nbformat_minor": 2
}
