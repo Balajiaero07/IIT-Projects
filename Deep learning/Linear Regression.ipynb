{
 "cells": [
  {
   "cell_type": "code",
   "execution_count": null,
   "metadata": {
    "slideshow": {
     "slide_type": "-"
    }
   },
   "outputs": [],
   "source": [
    "# Nodes: Nodes perform computation and have zero or more inputs and outputs. \n",
    "## Data that moves between nodes are known as tensors, which are multi-dimensional arrays of real values.\n",
    "# Edges: The graph defines the flow of data, branching, looping and updates to state. \n",
    "## Special edges can be used to synchronize behavior within the graph, for example waiting for computation on a number of inputs to complete.\n",
    "# Operation: An operation is a named abstract computation which can take input attributes and produce output attributes. \n",
    "## For example, you could define an add or multiply operation."
   ]
  },
  {
   "cell_type": "code",
   "execution_count": 12,
   "metadata": {},
   "outputs": [
    {
     "name": "stdout",
     "output_type": "stream",
     "text": [
      "42\n",
      "320\n"
     ]
    }
   ],
   "source": [
    "import tensorflow as tf\n",
    "sess = tf.Session()\n",
    "a = tf.constant(10)\n",
    "b = tf.constant(32)\n",
    "result = tf.multiply(a,b)\n",
    "print(sess.run(a+b))\n",
    "print(sess.run(result))\n",
    "sess.close()\n",
    "#It is neccessary to close the session once you use it. Otherwise use with to use the session"
   ]
  },
  {
   "cell_type": "code",
   "execution_count": 17,
   "metadata": {},
   "outputs": [
    {
     "name": "stdout",
     "output_type": "stream",
     "text": [
      "320\n"
     ]
    }
   ],
   "source": [
    "sess = tf.Session()\n",
    "a = tf.constant(10)\n",
    "b = tf.constant(32)\n",
    "result = tf.multiply(a,b)\n",
    "with tf.Session() as sess:\n",
    "    output = sess.run(result)\n",
    "    print(output)"
   ]
  },
  {
   "cell_type": "code",
   "execution_count": 13,
   "metadata": {},
   "outputs": [
    {
     "name": "stdout",
     "output_type": "stream",
     "text": [
      "[0.5094952] [0.10899154]\n"
     ]
    }
   ],
   "source": [
    "import numpy as np\n",
    "\n",
    "# Create 100 phony x, y data points in NumPy, y = x * 0.1 + 0.3\n",
    "x_data = np.random.rand(100).astype(np.float32)\n",
    "y_data = x_data * 0.1 + 0.3\n",
    "\n",
    "W = tf.Variable(tf.random_uniform([1], -1.0, 1.0))\n",
    "b = tf.Variable(tf.zeros([1]))\n",
    "y = W * x_data + b\n",
    "\n",
    "loss = tf.reduce_mean(tf.square(y - y_data))\n",
    "optimizer = tf.train.GradientDescentOptimizer(0.5)\n",
    "train = optimizer.minimize(loss)\n",
    "init = tf.initialize_all_variables()\n",
    "\n",
    "# Launch the graph.\n",
    "sess = tf.Session()\n",
    "sess.run(init)\n",
    "sess.run(train)\n",
    "print(sess.run(W), sess.run(b))\n",
    "sess.close()"
   ]
  },
  {
   "cell_type": "code",
   "execution_count": 16,
   "metadata": {},
   "outputs": [
    {
     "name": "stdout",
     "output_type": "stream",
     "text": [
      "0 [-0.0431776] [0.3419404]\n",
      "20 [0.05860741] [0.32192895]\n",
      "40 [0.08673358] [0.3070283]\n",
      "60 [0.09574808] [0.3022526]\n",
      "80 [0.09863726] [0.30072197]\n",
      "100 [0.09956323] [0.3002314]\n",
      "120 [0.09986001] [0.3000742]\n",
      "140 [0.09995513] [0.3000238]\n",
      "160 [0.09998564] [0.3000076]\n",
      "180 [0.09999539] [0.30000246]\n",
      "200 [0.09999853] [0.3000008]\n"
     ]
    }
   ],
   "source": [
    "# Launch the graph.\n",
    "sess = tf.Session()\n",
    "sess.run(init)\n",
    "sess.run(train)\n",
    "# Fit the line.\n",
    "for step in range(201):\n",
    "    sess.run(train)\n",
    "    if step % 20 == 0:\n",
    "        print(step, sess.run(W), sess.run(b))\n",
    "sess.close()"
   ]
  }
 ],
 "metadata": {
  "celltoolbar": "Slideshow",
  "kernelspec": {
   "display_name": "Python 3",
   "language": "python",
   "name": "python3"
  },
  "language_info": {
   "codemirror_mode": {
    "name": "ipython",
    "version": 3
   },
   "file_extension": ".py",
   "mimetype": "text/x-python",
   "name": "python",
   "nbconvert_exporter": "python",
   "pygments_lexer": "ipython3",
   "version": "3.5.5"
  }
 },
 "nbformat": 4,
 "nbformat_minor": 2
}
