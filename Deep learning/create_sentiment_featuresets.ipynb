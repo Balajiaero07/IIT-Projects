{
 "cells": [
  {
   "cell_type": "code",
   "execution_count": 6,
   "metadata": {},
   "outputs": [],
   "source": [
    "import nltk\n",
    "from nltk.tokenize import word_tokenize\n",
    "import numpy as np\n",
    "import random\n",
    "import pickle\n",
    "from collections import Counter\n",
    "from nltk.stem import WordNetLemmatizer\n",
    "import tensorflow as tf\n",
    "import pickle\n",
    "import numpy as np\n",
    "\n",
    "lemmatizer = WordNetLemmatizer()\n",
    "hm_lines = 100000\n"
   ]
  },
  {
   "cell_type": "code",
   "execution_count": 2,
   "metadata": {},
   "outputs": [],
   "source": [
    "def create_lexicon(pos,neg):\n",
    "\n",
    "\tlexicon = []\n",
    "\twith open(pos,'r') as f:\n",
    "\t\tcontents = f.readlines()\n",
    "\t\tfor l in contents[:hm_lines]:\n",
    "\t\t\tall_words = word_tokenize(l)\n",
    "\t\t\tlexicon += list(all_words)\n",
    "\n",
    "\twith open(neg,'r') as f:\n",
    "\t\tcontents = f.readlines()\n",
    "\t\tfor l in contents[:hm_lines]:\n",
    "\t\t\tall_words = word_tokenize(l)\n",
    "\t\t\tlexicon += list(all_words)\n",
    "\n",
    "\tlexicon = [lemmatizer.lemmatize(i) for i in lexicon]\n",
    "\tw_counts = Counter(lexicon)\n",
    "\tl2 = []\n",
    "\tfor w in w_counts:\n",
    "\t\t#print(w_counts[w])\n",
    "\t\tif 1000 > w_counts[w] > 50:\n",
    "\t\t\tl2.append(w)\n",
    "\tprint(len(l2))\n",
    "\treturn l2\n"
   ]
  },
  {
   "cell_type": "code",
   "execution_count": 3,
   "metadata": {},
   "outputs": [],
   "source": [
    "#Create feature set with ones where the lexicon word present and zero at the remaining place for the given sample\n",
    "def sample_handling(sample,lexicon,classification):\n",
    "\n",
    "\tfeatureset = []\n",
    "\n",
    "\twith open(sample,'r') as f:\n",
    "\t\tcontents = f.readlines()\n",
    "\t\tfor l in contents[:hm_lines]:\n",
    "\t\t\tcurrent_words = word_tokenize(l.lower())\n",
    "\t\t\tcurrent_words = [lemmatizer.lemmatize(i) for i in current_words]\n",
    "\t\t\tfeatures = np.zeros(len(lexicon))\n",
    "\t\t\tfor word in current_words:\n",
    "\t\t\t\tif word.lower() in lexicon:\n",
    "\t\t\t\t\tindex_value = lexicon.index(word.lower())\n",
    "\t\t\t\t\tfeatures[index_value] += 1\n",
    "\n",
    "\t\t\tfeatures = list(features)\n",
    "\t\t\tfeatureset.append([features,classification])\n",
    "\n",
    "\treturn featureset"
   ]
  },
  {
   "cell_type": "code",
   "execution_count": 4,
   "metadata": {},
   "outputs": [],
   "source": [
    "def create_feature_sets_and_labels(pos,neg,test_size = 0.1):\n",
    "\tlexicon = create_lexicon(pos,neg)\n",
    "\tfeatures = []\n",
    "\tfeatures += sample_handling('pos.txt',lexicon,[1,0])\n",
    "\tfeatures += sample_handling('neg.txt',lexicon,[0,1])\n",
    "\trandom.shuffle(features)\n",
    "\tfeatures = np.array(features)\n",
    "\n",
    "\ttesting_size = int(test_size*len(features))\n",
    "\n",
    "\ttrain_x = list(features[:,0][:-testing_size])\n",
    "\ttrain_y = list(features[:,1][:-testing_size])\n",
    "\ttest_x = list(features[:,0][-testing_size:])\n",
    "\ttest_y = list(features[:,1][-testing_size:])\n",
    "\n",
    "\treturn train_x,train_y,test_x,test_y"
   ]
  },
  {
   "cell_type": "code",
   "execution_count": 5,
   "metadata": {},
   "outputs": [
    {
     "name": "stdout",
     "output_type": "stream",
     "text": [
      "423\n"
     ]
    }
   ],
   "source": [
    "if __name__ == '__main__':\n",
    "\ttrain_x,train_y,test_x,test_y = create_feature_sets_and_labels('pos.txt','neg.txt')"
   ]
  },
  {
   "cell_type": "code",
   "execution_count": 8,
   "metadata": {},
   "outputs": [],
   "source": [
    "n_nodes_hl1 = 1500\n",
    "n_nodes_hl2 = 1500\n",
    "n_nodes_hl3 = 1500\n",
    "\n",
    "n_classes = 2\n",
    "batch_size = 100\n",
    "hm_epochs = 10\n",
    "\n",
    "x = tf.placeholder('float')\n",
    "y = tf.placeholder('float')\n",
    "\n",
    "hidden_1_layer = {'f_fum':n_nodes_hl1,\n",
    "                  'weight':tf.Variable(tf.random_normal([len(train_x[0]), n_nodes_hl1])),\n",
    "                  'bias':tf.Variable(tf.random_normal([n_nodes_hl1]))}\n",
    "\n",
    "hidden_2_layer = {'f_fum':n_nodes_hl2,\n",
    "                  'weight':tf.Variable(tf.random_normal([n_nodes_hl1, n_nodes_hl2])),\n",
    "                  'bias':tf.Variable(tf.random_normal([n_nodes_hl2]))}\n",
    "\n",
    "hidden_3_layer = {'f_fum':n_nodes_hl3,\n",
    "                  'weight':tf.Variable(tf.random_normal([n_nodes_hl2, n_nodes_hl3])),\n",
    "                  'bias':tf.Variable(tf.random_normal([n_nodes_hl3]))}\n",
    "\n",
    "output_layer = {'f_fum':None,\n",
    "                'weight':tf.Variable(tf.random_normal([n_nodes_hl3, n_classes])),\n",
    "                'bias':tf.Variable(tf.random_normal([n_classes])),}\n"
   ]
  },
  {
   "cell_type": "code",
   "execution_count": 9,
   "metadata": {},
   "outputs": [],
   "source": [
    "# Nothing changes\n",
    "def neural_network_model(data):\n",
    "\n",
    "    l1 = tf.add(tf.matmul(data,hidden_1_layer['weight']), hidden_1_layer['bias'])\n",
    "    l1 = tf.nn.relu(l1)\n",
    "\n",
    "    l2 = tf.add(tf.matmul(l1,hidden_2_layer['weight']), hidden_2_layer['bias'])\n",
    "    l2 = tf.nn.relu(l2)\n",
    "\n",
    "    l3 = tf.add(tf.matmul(l2,hidden_3_layer['weight']), hidden_3_layer['bias'])\n",
    "    l3 = tf.nn.relu(l3)\n",
    "\n",
    "    output = tf.matmul(l3,output_layer['weight']) + output_layer['bias']\n",
    "\n",
    "    return output\n"
   ]
  },
  {
   "cell_type": "code",
   "execution_count": 12,
   "metadata": {},
   "outputs": [
    {
     "name": "stdout",
     "output_type": "stream",
     "text": [
      "WARNING:tensorflow:From c:\\users\\venkatachalam s\\appdata\\local\\conda\\conda\\envs\\tensorflow\\lib\\site-packages\\tensorflow\\python\\util\\tf_should_use.py:118: initialize_all_variables (from tensorflow.python.ops.variables) is deprecated and will be removed after 2017-03-02.\n",
      "Instructions for updating:\n",
      "Use `tf.global_variables_initializer` instead.\n",
      "Epoch 1 completed out of 10 loss: 1221518.9672851562\n",
      "Epoch 2 completed out of 10 loss: 455312.775390625\n",
      "Epoch 3 completed out of 10 loss: 396896.0333251953\n",
      "Epoch 4 completed out of 10 loss: 315127.06146240234\n",
      "Epoch 5 completed out of 10 loss: 241638.43145751953\n",
      "Epoch 6 completed out of 10 loss: 101151.43251037598\n",
      "Epoch 7 completed out of 10 loss: 71239.98784637451\n",
      "Epoch 8 completed out of 10 loss: 57431.94043016434\n",
      "Epoch 9 completed out of 10 loss: 21628.75814628601\n",
      "Epoch 10 completed out of 10 loss: 8935.38293299079\n",
      "Accuracy: 0.60600376\n"
     ]
    }
   ],
   "source": [
    "def train_neural_network(x):\n",
    "\tprediction = neural_network_model(x)\n",
    "\tcost = tf.reduce_mean(tf.nn.softmax_cross_entropy_with_logits(logits = prediction,labels = y))\n",
    "\toptimizer = tf.train.AdamOptimizer(learning_rate=0.001).minimize(cost)\n",
    "\n",
    "\twith tf.Session() as sess:\n",
    "\t\tsess.run(tf.initialize_all_variables())\n",
    "\t    \n",
    "\t\tfor epoch in range(hm_epochs):\n",
    "\t\t\tepoch_loss = 0\n",
    "\t\t\ti=0\n",
    "\t\t\twhile i < len(train_x):\n",
    "\t\t\t\tstart = i\n",
    "\t\t\t\tend = i+batch_size\n",
    "\t\t\t\tbatch_x = np.array(train_x[start:end])\n",
    "\t\t\t\tbatch_y = np.array(train_y[start:end])\n",
    "\n",
    "\t\t\t\t_, c = sess.run([optimizer, cost], feed_dict={x: batch_x,\n",
    "\t\t\t\t                                              y: batch_y})\n",
    "\t\t\t\tepoch_loss += c\n",
    "\t\t\t\ti+=batch_size\n",
    "\t\t\t\t\n",
    "\t\t\tprint('Epoch', epoch+1, 'completed out of',hm_epochs,'loss:',epoch_loss)\n",
    "\t\tcorrect = tf.equal(tf.argmax(prediction, 1), tf.argmax(y, 1))\n",
    "\t\taccuracy = tf.reduce_mean(tf.cast(correct, 'float'))\n",
    "\n",
    "\t\tprint('Accuracy:',accuracy.eval({x:test_x, y:test_y}))\n",
    "\n",
    "\t    \n",
    "train_neural_network(x)"
   ]
  }
 ],
 "metadata": {
  "kernelspec": {
   "display_name": "Python 3",
   "language": "python",
   "name": "python3"
  },
  "language_info": {
   "codemirror_mode": {
    "name": "ipython",
    "version": 3
   },
   "file_extension": ".py",
   "mimetype": "text/x-python",
   "name": "python",
   "nbconvert_exporter": "python",
   "pygments_lexer": "ipython3",
   "version": "3.5.5"
  }
 },
 "nbformat": 4,
 "nbformat_minor": 2
}
