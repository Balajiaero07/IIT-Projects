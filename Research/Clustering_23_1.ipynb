{
 "cells": [
  {
   "cell_type": "code",
   "execution_count": 1,
   "metadata": {
    "collapsed": true
   },
   "outputs": [],
   "source": [
    "import csv, json, sys\n",
    "import numpy as np\n",
    "import pandas as pd\n",
    "from sklearn.cluster import KMeans, AffinityPropagation, MeanShift, SpectralClustering, AgglomerativeClustering, DBSCAN\n",
    "from sklearn import preprocessing\n",
    "from statistics import mode\n",
    "import collections\n",
    "import pickle\n",
    "from sklearn import tree, svm\n",
    "from sklearn.decomposition import PCA\n",
    "import sklearn\n",
    "from sklearn import mixture\n",
    "from sklearn import metrics"
   ]
  },
  {
   "cell_type": "code",
   "execution_count": 2,
   "metadata": {
    "collapsed": true
   },
   "outputs": [],
   "source": [
    "with open('anomaly_scores_23_1', 'rb') as handle:\n",
    "    Anomaly_scores_DEA = pickle.load(handle)"
   ]
  },
  {
   "cell_type": "code",
   "execution_count": 3,
   "metadata": {
    "collapsed": true
   },
   "outputs": [],
   "source": [
    "with open('Labels_23_1.pickle', 'rb') as handle:\n",
    "    targets = pickle.load(handle)"
   ]
  },
  {
   "cell_type": "code",
   "execution_count": 4,
   "metadata": {
    "collapsed": true
   },
   "outputs": [],
   "source": [
    "Feature_matrix=Anomaly_scores_DEA.reshape(12500,44)"
   ]
  },
  {
   "cell_type": "code",
   "execution_count": 5,
   "metadata": {
    "collapsed": true
   },
   "outputs": [],
   "source": [
    "Labels_true=np.zeros(12500)\n",
    "for i,j in enumerate(targets):\n",
    "    if j =='normal':\n",
    "        Labels_true[i]=0\n",
    "    elif (targets[i]['anomaly']=='DuplicateSequence'):\n",
    "        Labels_true[i]=1\n",
    "    elif (targets[i]['anomaly']=='IncorrectLongTermDependency'):\n",
    "        Labels_true[i]=2\n",
    "    elif (targets[i]['anomaly']=='SkipSequence'):\n",
    "        Labels_true[i]=3\n",
    "    elif (targets[i]['anomaly']=='SwitchEvents'):\n",
    "        Labels_true[i]=4\n",
    "    elif (targets[i]['anomaly']=='IncorrectAttribute'):\n",
    "        Labels_true[i]=5"
   ]
  },
  {
   "cell_type": "code",
   "execution_count": 6,
   "metadata": {},
   "outputs": [
    {
     "data": {
      "text/plain": [
       "(array([0, 1, 2, 3, 4, 5]),\n",
       " array([11896,   138,   154,    89,   134,    89], dtype=int64))"
      ]
     },
     "execution_count": 6,
     "metadata": {},
     "output_type": "execute_result"
    }
   ],
   "source": [
    "kmeans = KMeans(n_clusters=6, random_state=0).fit(Feature_matrix)\n",
    "np.unique(kmeans.labels_,return_counts=True)"
   ]
  },
  {
   "cell_type": "code",
   "execution_count": null,
   "metadata": {},
   "outputs": [
    {
     "name": "stdout",
     "output_type": "stream",
     "text": [
      "K-MEANS\n",
      "Adj rand score: 0.594935240845\n",
      "Adj mutual score: 0.288075915477\n",
      "Adj homogenity score: 0.289395533248\n",
      "Adj complteness score: 0.506042391258\n",
      "Adj v_measure score: 0.368215804533\n",
      "Adj silhout score: 0.901841917369\n",
      "Adj calinski score: 1804.48304617\n"
     ]
    }
   ],
   "source": [
    "print(\"K-MEANS\")\n",
    "print(\"Adj rand score:\",metrics.adjusted_rand_score(Labels_true, kmeans.labels_))\n",
    "print(\"Adj mutual score:\", metrics.adjusted_mutual_info_score(Labels_true, kmeans.labels_))\n",
    "print(\"Adj homogenity score:\", metrics.homogeneity_score(Labels_true, kmeans.labels_))\n",
    "print(\"Adj complteness score:\", metrics.completeness_score(Labels_true, kmeans.labels_))\n",
    "print(\"Adj v_measure score:\", metrics.v_measure_score(Labels_true, kmeans.labels_))\n",
    "print(\"Adj silhout score:\", metrics.silhouette_score(Feature_matrix, kmeans.labels_))\n",
    "print(\"Adj calinski score:\", metrics.calinski_harabaz_score(Feature_matrix, kmeans.labels_))  "
   ]
  },
  {
   "cell_type": "code",
   "execution_count": null,
   "metadata": {},
   "outputs": [
    {
     "data": {
      "text/plain": [
       "(array([0, 1, 2, 3, 4, 5]),\n",
       " array([11836,   107,    98,   192,   112,   155], dtype=int64))"
      ]
     },
     "execution_count": 8,
     "metadata": {},
     "output_type": "execute_result"
    }
   ],
   "source": [
    "Spectral=SpectralClustering(n_clusters=6).fit(Feature_matrix)\n",
    "np.unique(Spectral.labels_,return_counts=True)"
   ]
  },
  {
   "cell_type": "code",
   "execution_count": null,
   "metadata": {},
   "outputs": [
    {
     "name": "stdout",
     "output_type": "stream",
     "text": [
      "Spectral\n",
      "Adj rand score: 0.638349292351\n",
      "Adj mutual score: 0.32178585616\n",
      "Adj homogenity score: 0.323033422975\n",
      "Adj complteness score: 0.523770450394\n",
      "Adj v_measure score: 0.399609323398\n",
      "Adj silhout score: 0.899660529151\n",
      "Adj calinski score: 1773.47097878\n"
     ]
    }
   ],
   "source": [
    "print(\"Spectral\")\n",
    "print(\"Adj rand score:\", metrics.adjusted_rand_score(Labels_true, Spectral.labels_))\n",
    "print(\"Adj mutual score:\", metrics.adjusted_mutual_info_score(Labels_true, Spectral.labels_))\n",
    "print(\"Adj homogenity score:\", metrics.homogeneity_score(Labels_true, Spectral.labels_))\n",
    "print(\"Adj complteness score:\", metrics.completeness_score(Labels_true, Spectral.labels_))\n",
    "print(\"Adj v_measure score:\", metrics.v_measure_score(Labels_true, Spectral.labels_))\n",
    "print(\"Adj silhout score:\", metrics.silhouette_score(Feature_matrix, Spectral.labels_))\n",
    "print(\"Adj calinski score:\", metrics.calinski_harabaz_score(Feature_matrix, Spectral.labels_))  "
   ]
  },
  {
   "cell_type": "code",
   "execution_count": null,
   "metadata": {},
   "outputs": [
    {
     "data": {
      "text/plain": [
       "(array([0, 1, 2, 3, 4, 5], dtype=int64),\n",
       " array([  270,   128,   137, 11760,   119,    86], dtype=int64))"
      ]
     },
     "execution_count": 10,
     "metadata": {},
     "output_type": "execute_result"
    }
   ],
   "source": [
    "Hierarichial= AgglomerativeClustering(n_clusters=6,linkage='ward').fit(Feature_matrix)\n",
    "np.unique(Hierarichial.labels_,return_counts=True)"
   ]
  },
  {
   "cell_type": "code",
   "execution_count": null,
   "metadata": {},
   "outputs": [
    {
     "name": "stdout",
     "output_type": "stream",
     "text": [
      "Hierarichial-Ward\n",
      "Adj rand score: 0.690002679623\n",
      "Adj mutual score: 0.354483736399\n",
      "Adj homogenity score: 0.355667149369\n",
      "Adj complteness score: 0.532911611017\n",
      "Adj v_measure score: 0.426611938088\n",
      "Adj silhout score: 0.898744434245\n",
      "Adj calinski score: 1577.63964774\n"
     ]
    }
   ],
   "source": [
    "print(\"Hierarichial-Ward\")\n",
    "print(\"Adj rand score:\",metrics.adjusted_rand_score(Labels_true, Hierarichial.labels_))\n",
    "print(\"Adj mutual score:\", metrics.adjusted_mutual_info_score(Labels_true, Hierarichial.labels_))\n",
    "print(\"Adj homogenity score:\", metrics.homogeneity_score(Labels_true, Hierarichial.labels_))\n",
    "print(\"Adj complteness score:\", metrics.completeness_score(Labels_true, Hierarichial.labels_))\n",
    "print(\"Adj v_measure score:\", metrics.v_measure_score(Labels_true, Hierarichial.labels_))\n",
    "print(\"Adj silhout score:\", metrics.silhouette_score(Feature_matrix, Hierarichial.labels_))\n",
    "print(\"Adj calinski score:\", metrics.calinski_harabaz_score(Feature_matrix, Hierarichial.labels_))  "
   ]
  },
  {
   "cell_type": "code",
   "execution_count": null,
   "metadata": {},
   "outputs": [
    {
     "data": {
      "text/plain": [
       "(array([0, 1, 2, 3, 4, 5], dtype=int64),\n",
       " array([12451,    15,    14,     1,     2,    17], dtype=int64))"
      ]
     },
     "execution_count": 12,
     "metadata": {},
     "output_type": "execute_result"
    }
   ],
   "source": [
    "Hierarichial= AgglomerativeClustering(n_clusters=6,linkage='average').fit(Feature_matrix)\n",
    "np.unique(Hierarichial.labels_,return_counts=True)"
   ]
  },
  {
   "cell_type": "code",
   "execution_count": null,
   "metadata": {},
   "outputs": [
    {
     "name": "stdout",
     "output_type": "stream",
     "text": [
      "Hierarichial-Average\n",
      "Adj rand score: 0.0624993160665\n",
      "Adj mutual score: 0.029379323776\n",
      "Adj homogenity score: 0.0305018321652\n",
      "Adj complteness score: 0.468888223802\n",
      "Adj v_measure score: 0.0572776719751\n",
      "Adj silhout score: 0.906486222776\n",
      "Adj calinski score: 351.195394432\n"
     ]
    }
   ],
   "source": [
    "print(\"Hierarichial-Average\")\n",
    "print(\"Adj rand score:\", metrics.adjusted_rand_score(Labels_true, Hierarichial.labels_))\n",
    "print(\"Adj mutual score:\", metrics.adjusted_mutual_info_score(Labels_true, Hierarichial.labels_))\n",
    "print(\"Adj homogenity score:\", metrics.homogeneity_score(Labels_true, Hierarichial.labels_))\n",
    "print(\"Adj complteness score:\", metrics.completeness_score(Labels_true, Hierarichial.labels_))\n",
    "print(\"Adj v_measure score:\", metrics.v_measure_score(Labels_true, Hierarichial.labels_))\n",
    "print(\"Adj silhout score:\", metrics.silhouette_score(Feature_matrix, Hierarichial.labels_))\n",
    "print(\"Adj calinski score:\", metrics.calinski_harabaz_score(Feature_matrix, Hierarichial.labels_))  "
   ]
  },
  {
   "cell_type": "code",
   "execution_count": null,
   "metadata": {},
   "outputs": [
    {
     "data": {
      "text/plain": [
       "(array([0, 1, 2, 3, 4, 5], dtype=int64),\n",
       " array([12253,    75,    69,    82,    12,     9], dtype=int64))"
      ]
     },
     "execution_count": 14,
     "metadata": {},
     "output_type": "execute_result"
    }
   ],
   "source": [
    "Hierarichial= AgglomerativeClustering(n_clusters=6,linkage='complete').fit(Feature_matrix)\n",
    "np.unique(Hierarichial.labels_,return_counts=True)"
   ]
  },
  {
   "cell_type": "code",
   "execution_count": null,
   "metadata": {},
   "outputs": [
    {
     "name": "stdout",
     "output_type": "stream",
     "text": [
      "Hierarichial-complete\n",
      "Adj rand score: 0.285788429432\n",
      "Adj mutual score: 0.133761285719\n",
      "Adj homogenity score: 0.135246906528\n",
      "Adj complteness score: 0.515873850107\n",
      "Adj v_measure score: 0.214308457148\n",
      "Adj silhout score: 0.901559317218\n",
      "Adj calinski score: 1087.38953446\n"
     ]
    }
   ],
   "source": [
    "print(\"Hierarichial-complete\")\n",
    "print(\"Adj rand score:\", metrics.adjusted_rand_score(Labels_true, Hierarichial.labels_))\n",
    "print(\"Adj mutual score:\", metrics.adjusted_mutual_info_score(Labels_true, Hierarichial.labels_))\n",
    "print(\"Adj homogenity score:\", metrics.homogeneity_score(Labels_true, Hierarichial.labels_))\n",
    "print(\"Adj complteness score:\", metrics.completeness_score(Labels_true, Hierarichial.labels_))\n",
    "print(\"Adj v_measure score:\", metrics.v_measure_score(Labels_true, Hierarichial.labels_))\n",
    "print(\"Adj silhout score:\", metrics.silhouette_score(Feature_matrix, Hierarichial.labels_))\n",
    "print(\"Adj calinski score:\", metrics.calinski_harabaz_score(Feature_matrix, Hierarichial.labels_))  "
   ]
  },
  {
   "cell_type": "code",
   "execution_count": null,
   "metadata": {},
   "outputs": [
    {
     "data": {
      "text/plain": [
       "(array([  0,   1,   2,   3,   4,   5,   6,   7,   8,   9,  10,  11,  12,\n",
       "         13,  14,  15,  16,  17,  18,  19,  20,  21,  22,  23,  24,  25,\n",
       "         26,  27,  28,  29,  30,  31,  32,  33,  34,  35,  36,  37,  38,\n",
       "         39,  40,  41,  42,  43,  44,  45,  46,  47,  48,  49,  50,  51,\n",
       "         52,  53,  54,  55,  56,  57,  58,  59,  60,  61,  62,  63,  64,\n",
       "         65,  66,  67,  68,  69,  70,  71,  72,  73,  74,  75,  76,  77,\n",
       "         78,  79,  80,  81,  82,  83,  84,  85,  86,  87,  88,  89,  90,\n",
       "         91,  92,  93,  94,  95,  96,  97,  98,  99, 100, 101, 102, 103,\n",
       "        104, 105, 106, 107, 108, 109, 110, 111, 112, 113, 114, 115, 116,\n",
       "        117, 118, 119, 120, 121, 122, 123, 124, 125, 126, 127, 128, 129,\n",
       "        130, 131, 132, 133, 134, 135, 136, 137, 138, 139, 140, 141, 142,\n",
       "        143, 144, 145, 146, 147, 148, 149, 150, 151, 152, 153, 154, 155,\n",
       "        156, 157, 158, 159, 160, 161, 162, 163, 164, 165, 166, 167, 168,\n",
       "        169, 170, 171, 172, 173, 174, 175, 176, 177, 178, 179, 180, 181,\n",
       "        182, 183, 184, 185, 186, 187, 188, 189, 190, 191, 192, 193, 194,\n",
       "        195, 196, 197, 198, 199, 200, 201, 202, 203, 204, 205, 206, 207,\n",
       "        208, 209, 210, 211, 212, 213, 214, 215, 216, 217, 218, 219, 220,\n",
       "        221, 222, 223, 224, 225, 226, 227, 228, 229, 230, 231, 232, 233,\n",
       "        234, 235, 236, 237, 238, 239, 240, 241, 242, 243, 244, 245, 246,\n",
       "        247, 248, 249, 250, 251, 252, 253, 254, 255, 256, 257, 258, 259,\n",
       "        260, 261, 262, 263, 264, 265, 266, 267, 268, 269, 270, 271, 272,\n",
       "        273, 274, 275, 276, 277, 278, 279, 280, 281, 282, 283, 284, 285,\n",
       "        286, 287, 288, 289, 290, 291, 292, 293, 294, 295, 296, 297, 298,\n",
       "        299, 300, 301, 302, 303, 304, 305, 306, 307, 308, 309, 310, 311,\n",
       "        312, 313, 314, 315, 316, 317, 318, 319, 320, 321, 322, 323, 324,\n",
       "        325, 326, 327, 328, 329, 330, 331, 332, 333, 334, 335, 336, 337,\n",
       "        338, 339, 340, 341, 342, 343, 344, 345, 346, 347, 348, 349, 350,\n",
       "        351, 352, 353, 354, 355, 356, 357, 358, 359, 360, 361, 362, 363,\n",
       "        364, 365, 366, 367, 368, 369, 370, 371, 372, 373, 374, 375, 376,\n",
       "        377, 378, 379, 380, 381, 382, 383, 384, 385, 386, 387, 388, 389,\n",
       "        390, 391, 392, 393, 394, 395, 396, 397, 398, 399, 400, 401, 402,\n",
       "        403, 404, 405, 406, 407, 408, 409, 410, 411, 412, 413, 414, 415,\n",
       "        416, 417, 418, 419, 420, 421, 422, 423, 424, 425, 426, 427, 428,\n",
       "        429, 430, 431, 432, 433, 434, 435, 436, 437, 438, 439, 440, 441,\n",
       "        442, 443, 444, 445, 446, 447, 448, 449, 450, 451, 452, 453, 454,\n",
       "        455, 456, 457, 458, 459, 460, 461, 462, 463, 464, 465, 466, 467,\n",
       "        468, 469, 470, 471, 472, 473, 474, 475, 476, 477, 478, 479, 480,\n",
       "        481, 482, 483, 484, 485, 486, 487, 488, 489, 490, 491, 492, 493,\n",
       "        494, 495, 496, 497, 498, 499, 500, 501, 502, 503, 504, 505, 506,\n",
       "        507, 508, 509, 510, 511, 512, 513, 514, 515, 516, 517, 518, 519,\n",
       "        520, 521, 522, 523, 524, 525, 526, 527, 528, 529, 530, 531, 532,\n",
       "        533, 534, 535, 536, 537, 538, 539, 540, 541, 542, 543, 544, 545,\n",
       "        546, 547, 548, 549, 550, 551, 552, 553, 554, 555, 556, 557, 558,\n",
       "        559, 560, 561, 562, 563, 564, 565, 566, 567, 568, 569, 570, 571,\n",
       "        572, 573, 574, 575, 576, 577, 578, 579, 580, 581, 582, 583, 584,\n",
       "        585, 586, 587, 588, 589, 590, 591, 592, 593, 594, 595, 596, 597,\n",
       "        598, 599, 600, 601, 602, 603, 604, 605, 606, 607, 608, 609, 610,\n",
       "        611, 612, 613, 614, 615, 616, 617, 618, 619, 620, 621, 622, 623,\n",
       "        624, 625, 626, 627, 628, 629, 630, 631, 632, 633, 634, 635, 636,\n",
       "        637, 638, 639, 640, 641, 642, 643, 644, 645, 646, 647, 648, 649,\n",
       "        650, 651, 652, 653, 654, 655, 656, 657, 658, 659, 660, 661, 662,\n",
       "        663, 664, 665, 666, 667, 668, 669, 670, 671, 672, 673, 674, 675,\n",
       "        676, 677, 678, 679, 680, 681, 682, 683, 684, 685, 686, 687, 688,\n",
       "        689, 690, 691, 692, 693, 694, 695, 696, 697, 698, 699, 700, 701,\n",
       "        702, 703, 704, 705, 706, 707, 708, 709, 710, 711, 712, 713, 714,\n",
       "        715, 716, 717, 718, 719, 720, 721, 722, 723, 724, 725, 726, 727,\n",
       "        728, 729, 730, 731, 732, 733, 734, 735, 736, 737, 738, 739, 740, 741], dtype=int64),\n",
       " array([11155,   116,    27,    20,    19,    18,    15,    15,    14,\n",
       "           13,    13,    12,    12,    12,    12,    12,    11,    11,\n",
       "           10,    10,    10,     9,     9,     9,     9,     8,     6,\n",
       "            5,     5,     4,     4,     4,     4,     3,     3,     3,\n",
       "            3,     3,     3,     3,     3,     3,     3,     3,     3,\n",
       "            3,     3,     3,     3,     3,     2,     2,     2,     2,\n",
       "            2,     2,     2,     2,     2,     2,     2,     2,     2,\n",
       "            2,     2,     2,     2,     2,     2,     2,     2,     2,\n",
       "            2,     2,     2,     2,     2,     2,     2,     2,     2,\n",
       "            2,     2,     2,     2,     2,     2,     2,     2,     2,\n",
       "            2,     2,     2,     2,     2,     2,     2,     2,     2,\n",
       "            2,     2,     2,     2,     2,     2,     2,     2,     2,\n",
       "            2,     2,     2,     2,     2,     2,     2,     2,     2,\n",
       "            2,     2,     2,     2,     2,     2,     2,     2,     2,\n",
       "            2,     2,     2,     2,     2,     2,     2,     2,     2,\n",
       "            2,     2,     2,     2,     2,     2,     2,     2,     2,\n",
       "            2,     2,     2,     2,     2,     2,     2,     2,     2,\n",
       "            2,     2,     2,     2,     2,     2,     2,     2,     2,\n",
       "            2,     2,     2,     2,     2,     2,     2,     2,     2,\n",
       "            2,     2,     2,     2,     2,     2,     2,     2,     2,\n",
       "            2,     2,     2,     2,     2,     2,     2,     2,     2,\n",
       "            2,     2,     1,     1,     1,     1,     1,     1,     1,\n",
       "            1,     1,     1,     1,     1,     1,     1,     1,     1,\n",
       "            1,     1,     1,     1,     1,     1,     1,     1,     1,\n",
       "            1,     1,     1,     1,     1,     1,     1,     1,     1,\n",
       "            1,     1,     1,     1,     1,     1,     1,     1,     1,\n",
       "            1,     1,     1,     1,     1,     1,     1,     1,     1,\n",
       "            1,     1,     1,     1,     1,     1,     1,     1,     1,\n",
       "            1,     1,     1,     1,     1,     1,     1,     1,     1,\n",
       "            1,     1,     1,     1,     1,     1,     1,     1,     1,\n",
       "            1,     1,     1,     1,     1,     1,     1,     1,     1,\n",
       "            1,     1,     1,     1,     1,     1,     1,     1,     1,\n",
       "            1,     1,     1,     1,     1,     1,     1,     1,     1,\n",
       "            1,     1,     1,     1,     1,     1,     1,     1,     1,\n",
       "            1,     1,     1,     1,     1,     1,     1,     1,     1,\n",
       "            1,     1,     1,     1,     1,     1,     1,     1,     1,\n",
       "            1,     1,     1,     1,     1,     1,     1,     1,     1,\n",
       "            1,     1,     1,     1,     1,     1,     1,     1,     1,\n",
       "            1,     1,     1,     1,     1,     1,     1,     1,     1,\n",
       "            1,     1,     1,     1,     1,     1,     1,     1,     1,\n",
       "            1,     1,     1,     1,     1,     1,     1,     1,     1,\n",
       "            1,     1,     3,     1,     1,     1,     1,     1,     1,\n",
       "            1,     1,     1,     1,     1,     1,     1,     1,     1,\n",
       "            1,     1,     1,     1,     1,     1,     1,     1,     1,\n",
       "            1,     1,     1,     1,     1,     1,     1,     1,     1,\n",
       "            1,     1,     1,     1,     1,     1,     1,     1,     1,\n",
       "            1,     1,     1,     1,     1,     1,     1,     1,     1,\n",
       "            1,     1,     1,     1,     1,     1,     1,     1,     1,\n",
       "            1,     1,     1,     1,     1,     1,     1,     1,     1,\n",
       "            1,     1,     1,     1,     1,     1,     1,     1,     1,\n",
       "            1,     1,     1,     1,     1,     1,     1,     1,     1,\n",
       "            1,     1,     1,     1,     1,     1,     1,     1,     2,\n",
       "            1,     1,     1,     1,     1,     1,     1,     1,     1,\n",
       "            1,     1,     1,     1,     1,     1,     1,     1,     1,\n",
       "            1,     1,     1,     1,     1,     1,     1,     1,     1,\n",
       "            1,     1,     1,     1,     1,     1,     1,     1,     1,\n",
       "            1,     1,     1,     1,     1,     1,     1,     1,     1,\n",
       "            1,     1,     1,     1,     1,     1,     1,     1,     1,\n",
       "            1,     1,     1,     1,     1,     1,     1,     1,     1,\n",
       "            1,     1,     1,     1,     1,     1,     1,     1,     1,\n",
       "            1,     1,     1,     1,     1,     1,     1,     1,     1,\n",
       "            1,     1,     1,     1,     1,     1,     1,     1,     1,\n",
       "            1,     1,     1,     1,     1,     1,     1,     1,     1,\n",
       "            1,     1,     1,     1,     1,     1,     1,     1,     1,\n",
       "            1,     1,     1,     1,     1,     1,     1,     1,     1,\n",
       "            1,     1,     1,     1,     1,     1,     1,     1,     1,\n",
       "            1,     1,     1,     1,     1,     1,     1,     1,     1,\n",
       "            1,     1,     1,     1,     1,     1,     1,     1,     1,\n",
       "            1,     1,     1,     1,     1,     1,     1,     1,     1,\n",
       "            1,     1,     1,     1,     1,     1,     1,     1,     1,\n",
       "            1,     1,     1,     1,     1,     1,     1,     1,     1,\n",
       "            1,     1,     1,     1,     1,     1,     1,     1,     1,\n",
       "            1,     1,     1,     1,     1,     1,     1,     1,     1,\n",
       "            1,     1,     1,     1,     1,     1,     1,     1,     1,\n",
       "            1,     1,     1,     1,     1,     1,     1,     1,     1,\n",
       "            1,     1,     1,     1,     1,     1,     1,     1,     1,\n",
       "            1,     1,     1,     1,     1,     1,     1,     1,     1,\n",
       "            1,     1,     1,     1,     1,     1,     1,     1,     1,\n",
       "            1,     1,     1,     1,     1,     1,     1,     1,     1,\n",
       "            1,     1,     1,     1,     1,     1,     1,     1,     1,\n",
       "            1,     1,     1,     1,     1,     1,     1,     1,     1,\n",
       "            1,     1,     1,     1,     1,     1,     1,     1,     1,\n",
       "            1,     1,     1,     1], dtype=int64))"
      ]
     },
     "execution_count": 16,
     "metadata": {},
     "output_type": "execute_result"
    }
   ],
   "source": [
    "Mean_shift=MeanShift().fit(Feature_matrix)\n",
    "np.unique(Mean_shift.labels_,return_counts=True)"
   ]
  },
  {
   "cell_type": "code",
   "execution_count": null,
   "metadata": {},
   "outputs": [
    {
     "name": "stdout",
     "output_type": "stream",
     "text": [
      "Mean_shift\n",
      "Adj rand score: 0.920548511072\n",
      "Adj mutual score: 0.4302084745\n",
      "Adj homogenity score: 0.936654699467\n",
      "Adj complteness score: 0.449810258122\n",
      "Adj v_measure score: 0.607757000755\n",
      "Adj silhout score: 0.951116853412\n",
      "Adj calinski score: 92723.2907135\n"
     ]
    }
   ],
   "source": [
    "print(\"Mean_shift\")\n",
    "print(\"Adj rand score:\", metrics.adjusted_rand_score(Labels_true, Mean_shift.labels_))\n",
    "print(\"Adj mutual score:\", metrics.adjusted_mutual_info_score(Labels_true, Mean_shift.labels_))\n",
    "print(\"Adj homogenity score:\", metrics.homogeneity_score(Labels_true, Mean_shift.labels_))\n",
    "print(\"Adj complteness score:\", metrics.completeness_score(Labels_true, Mean_shift.labels_))\n",
    "print(\"Adj v_measure score:\", metrics.v_measure_score(Labels_true, Mean_shift.labels_))\n",
    "print(\"Adj silhout score:\", metrics.silhouette_score(Feature_matrix, Mean_shift.labels_))\n",
    "print(\"Adj calinski score:\", metrics.calinski_harabaz_score(Feature_matrix, Mean_shift.labels_))  "
   ]
  },
  {
   "cell_type": "code",
   "execution_count": null,
   "metadata": {},
   "outputs": [
    {
     "data": {
      "text/plain": [
       "(array([-1,  0,  1,  2,  3,  4,  5,  6,  7,  8,  9, 10, 11, 12, 13, 14, 15,\n",
       "        16, 17, 18, 19, 20, 21, 22, 23, 24, 25, 26, 27, 28], dtype=int64),\n",
       " array([  912, 11149,   114,    19,    12,    13,    12,    20,    10,\n",
       "            5,    15,    12,    13,     9,    27,     9,     9,     8,\n",
       "           12,    11,    12,    15,    11,    18,    10,     9,    14,\n",
       "            9,     5,     6], dtype=int64))"
      ]
     },
     "execution_count": 18,
     "metadata": {},
     "output_type": "execute_result"
    }
   ],
   "source": [
    "dbscan=sklearn.cluster.DBSCAN(eps=0.01).fit(Feature_matrix)\n",
    "np.unique(dbscan.labels_,return_counts=True)"
   ]
  },
  {
   "cell_type": "code",
   "execution_count": null,
   "metadata": {},
   "outputs": [
    {
     "name": "stdout",
     "output_type": "stream",
     "text": [
      "dbscan\n",
      "Adj rand score: 0.916717159907\n",
      "Adj mutual score: 0.705003090745\n",
      "Adj homogenity score: 0.77060815728\n",
      "Adj complteness score: 0.707274926824\n",
      "Adj v_measure score: 0.737584500306\n",
      "Adj silhout score: 0.896997153371\n",
      "Adj calinski score: 221.813296337\n"
     ]
    }
   ],
   "source": [
    "print(\"dbscan\")\n",
    "print(\"Adj rand score:\", metrics.adjusted_rand_score(Labels_true, dbscan.labels_))\n",
    "print(\"Adj mutual score:\", metrics.adjusted_mutual_info_score(Labels_true, dbscan.labels_))\n",
    "print(\"Adj homogenity score:\", metrics.homogeneity_score(Labels_true, dbscan.labels_))\n",
    "print(\"Adj complteness score:\", metrics.completeness_score(Labels_true, dbscan.labels_))\n",
    "print(\"Adj v_measure score:\", metrics.v_measure_score(Labels_true, dbscan.labels_))\n",
    "print(\"Adj silhout score:\", metrics.silhouette_score(Feature_matrix, dbscan.labels_))\n",
    "print(\"Adj calinski score:\", metrics.calinski_harabaz_score(Feature_matrix, dbscan.labels_))  "
   ]
  },
  {
   "cell_type": "code",
   "execution_count": null,
   "metadata": {},
   "outputs": [
    {
     "data": {
      "text/plain": [
       "(array([  0,   1,   2,   3,   4,   5,   6,   7,   8,   9,  10,  11,  12,\n",
       "         13,  14,  15,  16,  17,  18,  19,  20,  21,  22,  23,  24,  25,\n",
       "         26,  27,  28,  29,  30,  31,  32,  33,  34,  35,  36,  37,  38,\n",
       "         39,  40,  41,  42,  43,  44,  45,  46,  47,  48,  49,  50,  51,\n",
       "         52,  53,  54,  55,  56,  57,  58,  59,  60,  61,  62,  63,  64,\n",
       "         65,  67,  68,  69,  70,  71,  72,  73,  74,  75,  76,  77,  78,\n",
       "         80,  81,  82,  83,  84,  85,  86,  87,  88,  89,  90,  91,  92,\n",
       "         93,  94,  95,  96,  97,  98,  99, 100, 101, 102, 103, 104, 105,\n",
       "        106, 107, 108, 109, 110, 111, 112, 113, 114, 115, 116, 117, 118,\n",
       "        119, 120, 121, 122, 123, 124, 125, 126, 127, 128, 129, 130, 131,\n",
       "        132, 133, 134, 135, 136, 137, 138, 139, 140, 141, 142, 143, 144,\n",
       "        145, 146, 147, 148, 149, 150, 151, 152, 153, 154, 155, 156, 157,\n",
       "        158, 159, 160, 161, 162, 163, 164, 165, 167, 168, 169, 170, 171,\n",
       "        172, 173, 174, 175, 176, 177, 178, 179, 180, 181, 182, 183, 184,\n",
       "        185, 186, 187, 188, 189, 190, 191, 193, 194, 195, 196, 197, 198,\n",
       "        199, 200, 201, 202, 203, 204, 205, 206, 207, 208, 209, 210, 211,\n",
       "        212, 213, 214, 215, 216, 217, 218, 219, 220, 221, 222, 223, 224,\n",
       "        225, 226, 227, 228, 229, 230, 231, 232, 233, 234, 235, 236, 237,\n",
       "        238, 239, 240, 241, 242, 243, 244, 245, 246, 247, 248, 249, 250,\n",
       "        251, 252, 253, 254, 255, 256, 257, 258, 259, 260, 261, 262, 263,\n",
       "        264, 265, 266, 267, 268, 269, 270, 271, 272, 273, 274, 275, 276,\n",
       "        277, 278, 280, 282, 283, 284, 285, 286, 287, 288, 289, 290, 291,\n",
       "        292, 293, 294, 295, 296, 297, 298, 299, 300, 301, 302, 303, 304,\n",
       "        305, 306, 307, 308, 309, 310, 311, 312, 313, 314, 315, 316, 317,\n",
       "        318, 319, 320, 321, 322, 323, 324, 325, 326, 327, 328, 330, 331,\n",
       "        332, 333, 334, 335, 336, 337, 338, 339, 340, 341, 342, 344, 345,\n",
       "        346, 347, 348, 349, 351, 352, 353, 354, 355, 356, 357, 358, 359,\n",
       "        360, 361, 362, 363, 364, 365, 366, 367, 368, 369, 370, 371, 372,\n",
       "        373, 374, 375, 376, 377, 378, 379, 380, 381, 382, 383, 384, 385,\n",
       "        386, 387, 388, 389, 390, 391, 392, 393, 394, 395, 396, 397, 398,\n",
       "        399, 400, 401, 402, 403, 404, 405, 406, 407, 408, 409, 410, 411,\n",
       "        412, 413, 414, 415, 416, 417, 418, 419, 420, 421, 422, 423, 424,\n",
       "        425, 426, 427, 428, 429, 430, 431, 432, 433, 434, 435, 436, 437,\n",
       "        438, 439, 440, 441, 442, 443, 446, 448, 449, 450, 451, 452, 453,\n",
       "        454, 455, 457, 458, 459, 460, 461, 462, 463, 464, 465, 466, 467,\n",
       "        468, 469, 470, 471, 472, 473, 474, 475, 476, 477, 478, 479, 481,\n",
       "        482, 483, 484, 485, 486, 487, 488, 489, 490, 491, 492, 493, 494,\n",
       "        495, 496, 497, 498, 499, 500, 501, 502, 503, 504, 505, 506, 507,\n",
       "        508, 509, 510, 511, 512, 513, 514, 515, 516, 517, 518, 519, 520,\n",
       "        521, 522, 525, 526, 527, 529, 530, 531, 533, 534, 535, 536, 537,\n",
       "        538, 539, 541, 542, 543, 544, 545, 546, 547, 548, 549, 550, 551,\n",
       "        552, 553, 554, 555, 556, 557, 558, 559, 560, 561, 562, 563, 564,\n",
       "        565, 566, 567, 568, 569, 570, 571, 572, 573, 574, 575, 576, 577,\n",
       "        578, 579, 580, 581, 582, 584, 585, 586, 587, 588, 589, 590, 591,\n",
       "        592, 593, 594, 595, 596, 597, 598, 599, 600, 601, 603, 604, 605,\n",
       "        606, 607, 608, 609, 610, 611, 612, 613, 614, 615, 616, 617, 618,\n",
       "        619, 620, 621, 622, 623, 624, 625, 626, 627, 628, 629, 630, 631,\n",
       "        632, 633, 635, 636, 637, 638, 639, 640, 641, 642, 643, 644, 646,\n",
       "        647, 648, 649, 650, 651, 652, 653, 654, 655, 656, 657, 658, 659,\n",
       "        660, 662, 663, 664, 665, 666, 667, 669, 670, 671, 672, 673, 674,\n",
       "        675, 677, 678, 679, 681, 682, 683, 684, 685, 686, 687, 688, 689,\n",
       "        690, 691, 692, 693, 694, 696, 697, 699, 701, 703, 704, 705, 706,\n",
       "        707, 708, 709]),\n",
       " array([    1,     5,     1,     1,     1,    14,     2,     1,     2,\n",
       "            1,     2,     1,     2,     1,     1,     1,     1,     1,\n",
       "            1,     1,     1,     1,     1,     2,     1,     3,     2,\n",
       "            2,     1,     1,     1,     2,     1,     1,     2,     2,\n",
       "            2,     1,     2,     1,     1,     1,     1,     1,     1,\n",
       "            1,     1,     1,     1,     2,     1,     1,     1,     1,\n",
       "            1,     1,     1,     1,     1,     2,     1,     1,     1,\n",
       "            1,     1,     1,    11,     4,     1,     1,     2,     1,\n",
       "            1,     2,     1,     1,     1,     1,     1,     1,     1,\n",
       "            1,     2,     1,     1,     1,     1,     1,    12,     3,\n",
       "            1,     2,     1,     1,     1,     2,     2,     1,     2,\n",
       "            1,     1,     1,     1,     1,     1,     1,     1,     1,\n",
       "            2,     3,     1,     1,     1,     2,     1,     1,     2,\n",
       "            2,     1,     1,     2,     1,     1,     3,     1,     2,\n",
       "            1,     1,     1,     1,     1,     1,     1,     1,     1,\n",
       "            1,     2,     1,     1,     1,     1,     2,     2,     1,\n",
       "            1,     1,     1,     1,     1,     1,     1,     1,     1,\n",
       "            1,     1,     1,     2,     1,     1,     2,     1,     1,\n",
       "           10,     1,     1,     1,     1,     1,     1,     1,     1,\n",
       "            1,     1,     1,     1,     2,     1,     1,     2,     1,\n",
       "            1,     1,     1,     1,     1,     1,     1,     1,     1,\n",
       "            1,     1,     1,     2,     1,     1,     1,     2,     1,\n",
       "            1,     1,     1,     1,     1,     1,     1,     1,     1,\n",
       "            5,     1,     1,     1,     1,     1,     1,     1,     1,\n",
       "            1,     1,     1,     3,     9,     2,     7,     1,     1,\n",
       "            2,     8,     1,     1,     2,     1,     3,     1,     2,\n",
       "            1,     3,     1,     1,     1,     2,     1,     1,     2,\n",
       "            1,     1,     1,     2,     1,     2,     2,     1,     1,\n",
       "            2,     1,     1,     1,     1,     1,     2,     2,     1,\n",
       "            1,     4,     1,     2,     1,     1,    11,     2,     1,\n",
       "            1,     3,     1,     1,     1,     6,     2,    14,     1,\n",
       "            4,     1,     1,     2,     1,     1,     1,     1,     1,\n",
       "            1,     1,     2,     2,     1,     2,     2,     1,     2,\n",
       "            1,     1,     1,     3,    11,     2,     1,     3,     1,\n",
       "            2,     2,     1,     2,     1,     2,     1,     1,     1,\n",
       "            1,     1,     1,     3,     2,     2,     1,     1,     2,\n",
       "            2,     1,     1,     1,     1,     1,     1,     1,     1,\n",
       "            1,     3,     2,     8,     1,     1,    12,     2,     1,\n",
       "            2,     4,     1,     2,     1,     1,     2, 11214,   123,\n",
       "            2,    15,     9,    13,    15,    12,     2,     1,     4,\n",
       "           13,     2,     2,     2,     1,     2,     2,     1,     1,\n",
       "            6,     3,    15,     2,     2,     2,     1,     6,     1,\n",
       "            2,     1,     1,     1,     2,     4,     1,     1,     3,\n",
       "            1,     2,     2,     1,     1,     5,     1,     1,     3,\n",
       "            1,     1,     1,     5,     1,     1,     1,     2,     1,\n",
       "            1,     1,     2,     1,     1,     2,     2,     1,     1,\n",
       "            1,     1,     1,     1,     1,     1,     1,     1,     1,\n",
       "            2,     3,     1,     1,     1,     1,     1,     1,     1,\n",
       "            1,     1,     1,     6,     1,     1,     2,     2,     1,\n",
       "            2,     1,     1,     1,     1,     1,     1,     2,     1,\n",
       "            1,     1,     2,     1,     1,     1,     2,     1,     1,\n",
       "            1,     2,     1,     2,     1,     1,     1,     1,     1,\n",
       "            1,     1,     1,     2,     9,     2,     2,     1,     2,\n",
       "            1,     1,     1,     1,     1,     1,     1,     1,     1,\n",
       "            1,     1,     2,     1,     1,     2,     2,     1,     1,\n",
       "            1,     1,     1,     1,     1,     1,     1,     1,     1,\n",
       "            1,     1,     1,     2,     1,     1,     1,     1,     1,\n",
       "            1,     2,     2,     1,     4,     1,     2,     2,     2,\n",
       "            1,     1,     2,     2,     2,     1,     6,     1,     2,\n",
       "            1,     1,     1,     2,     2,     1,     1,     2,     1,\n",
       "            1,     1,     1,     1,     1,     1,     1,     1,     1,\n",
       "            1,     1,     1,     1,     1,     1,     1,     1,     1,\n",
       "            1,     7,     1,     1,     1,     1,     8,     1,     1,\n",
       "            2,     1,     1,     1,     1,     1,     1,     3,     3,\n",
       "            1,     1,     1,     2,     1,     1,     1,     1,     1,\n",
       "            1,     1,     2,     2,     1,     1,     1,     1,     1,\n",
       "            1,     1,     2,     1,     1,     2,     1,     1,     1,\n",
       "            1,     1,     1,     1,     4,     1,     1,     1,     1,\n",
       "            1,     1,     1,     7,     1,     2,     1,     1,     2,\n",
       "            1,     1,     1,     1,     1,     1,     2,     1,    15,\n",
       "            1,     1,     1,     1,     2,     1,     2,     1,     1,\n",
       "            1,     1,     1,     1,     1,     1,     1,     1,     1,\n",
       "            1,     1,     1,     1,     1,     1,     1,     1,     1,\n",
       "            1,     1,     1,     1,     3,     6,     1,     2,     2,\n",
       "            1,     1,     1,     1,     1,     1,     1,     1,     4,\n",
       "            2,     2,     1,     2], dtype=int64))"
      ]
     },
     "execution_count": 20,
     "metadata": {},
     "output_type": "execute_result"
    }
   ],
   "source": [
    "BIRCH=sklearn.cluster.Birch(branching_factor=50, n_clusters=None, threshold=0.01,compute_labels=True).fit(Feature_matrix)\n",
    "np.unique(BIRCH.labels_,return_counts=True)"
   ]
  },
  {
   "cell_type": "code",
   "execution_count": null,
   "metadata": {},
   "outputs": [
    {
     "name": "stdout",
     "output_type": "stream",
     "text": [
      "BIRCH\n",
      "Adj rand score: 0.892249680758\n",
      "Adj mutual score: 0.418798100954\n",
      "Adj homogenity score: 0.870385441264\n",
      "Adj complteness score: 0.438520266917\n",
      "Adj v_measure score: 0.583207260291\n",
      "Adj silhout score: 0.940693563081\n",
      "Adj calinski score: 4713.92249351\n"
     ]
    }
   ],
   "source": [
    "print(\"BIRCH\")\n",
    "print(\"Adj rand score:\", metrics.adjusted_rand_score(Labels_true, BIRCH.labels_))\n",
    "print(\"Adj mutual score:\", metrics.adjusted_mutual_info_score(Labels_true, BIRCH.labels_))\n",
    "print(\"Adj homogenity score:\", metrics.homogeneity_score(Labels_true, BIRCH.labels_))\n",
    "print(\"Adj complteness score:\", metrics.completeness_score(Labels_true, BIRCH.labels_))\n",
    "print(\"Adj v_measure score:\", metrics.v_measure_score(Labels_true, BIRCH.labels_))\n",
    "print(\"Adj silhout score:\", metrics.silhouette_score(Feature_matrix, BIRCH.labels_))\n",
    "print(\"Adj calinski score:\", metrics.calinski_harabaz_score(Feature_matrix, BIRCH.labels_))  "
   ]
  },
  {
   "cell_type": "code",
   "execution_count": null,
   "metadata": {},
   "outputs": [
    {
     "data": {
      "text/plain": [
       "(array([0, 1, 2, 3, 4, 5], dtype=int64),\n",
       " array([11262,   239,   240,   437,   115,   207], dtype=int64))"
      ]
     },
     "execution_count": 22,
     "metadata": {},
     "output_type": "execute_result"
    }
   ],
   "source": [
    "GM=sklearn.mixture.GaussianMixture(n_components=6).fit(Feature_matrix)\n",
    "np.unique(GM.predict(Feature_matrix),return_counts=True)"
   ]
  },
  {
   "cell_type": "code",
   "execution_count": null,
   "metadata": {},
   "outputs": [
    {
     "name": "stdout",
     "output_type": "stream",
     "text": [
      "GM\n",
      "Adj rand score: 0.96850058194\n",
      "Adj mutual score: 0.675351451274\n",
      "Adj homogenity score: 0.678110127629\n",
      "Adj complteness score: 0.675924135491\n",
      "Adj v_measure score: 0.677015366995\n"
     ]
    }
   ],
   "source": [
    "print(\"GM\")\n",
    "print(\"Adj rand score:\", metrics.adjusted_rand_score(Labels_true, GM.predict(Feature_matrix)))\n",
    "print(\"Adj mutual score:\", metrics.adjusted_mutual_info_score(Labels_true, GM.predict(Feature_matrix)))\n",
    "print(\"Adj homogenity score:\", metrics.homogeneity_score(Labels_true, GM.predict(Feature_matrix)))\n",
    "print(\"Adj complteness score:\", metrics.completeness_score(Labels_true, GM.predict(Feature_matrix)))\n",
    "print(\"Adj v_measure score:\", metrics.v_measure_score(Labels_true,GM.predict(Feature_matrix)))\n",
    "print(\"Adj silhout score:\", metrics.silhouette_score(Feature_matrix, GM.predict(Feature_matrix)))\n",
    "print(\"Adj calinski score:\", metrics.calinski_harabaz_score(Feature_matrix, GM.predict(Feature_matrix))) "
   ]
  }
 ],
 "metadata": {
  "kernelspec": {
   "display_name": "Python 3",
   "language": "python",
   "name": "python3"
  },
  "language_info": {
   "codemirror_mode": {
    "name": "ipython",
    "version": 3
   },
   "file_extension": ".py",
   "mimetype": "text/x-python",
   "name": "python",
   "nbconvert_exporter": "python",
   "pygments_lexer": "ipython3",
   "version": "3.6.2"
  }
 },
 "nbformat": 4,
 "nbformat_minor": 2
}
