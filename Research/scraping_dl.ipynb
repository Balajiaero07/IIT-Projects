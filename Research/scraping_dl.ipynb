{
 "cells": [
  {
   "cell_type": "code",
   "execution_count": 54,
   "metadata": {},
   "outputs": [
    {
     "data": {
      "text/plain": [
       "'Here is some simple content for this page.'"
      ]
     },
     "execution_count": 54,
     "metadata": {},
     "output_type": "execute_result"
    }
   ],
   "source": [
    "import requests\n",
    "from bs4 import BeautifulSoup\n",
    "import pandas as pd\n",
    "\n",
    "page = requests.get(\"http://dataquestio.github.io/web-scraping-pages/simple.html\")\n",
    "page\n",
    "page.status_code\n",
    "page.content\n",
    "soup = BeautifulSoup(page.content, 'html.parser')\n",
    "list(soup.children)\n",
    "[type(item) for item in list(soup.children)]\n",
    "html = list(soup.children)[2]\n",
    "list(html.children)[4]\n",
    "body = list(html.children)[3]\n",
    "list(body.children)\n",
    "p = list(body.children)[1]\n",
    "p.get_text()\n",
    "\n"
   ]
  },
  {
   "cell_type": "code",
   "execution_count": 32,
   "metadata": {},
   "outputs": [
    {
     "data": {
      "text/plain": [
       "'Here is some simple content for this page.'"
      ]
     },
     "execution_count": 32,
     "metadata": {},
     "output_type": "execute_result"
    }
   ],
   "source": [
    "soup = BeautifulSoup(page.content, 'html.parser')\n",
    "soup.find_all('p')\n",
    "soup.find_all('p')[0].get_text()\n",
    "\n"
   ]
  },
  {
   "cell_type": "code",
   "execution_count": 55,
   "metadata": {},
   "outputs": [
    {
     "data": {
      "text/plain": [
       "[<p class=\"inner-text first-item\" id=\"first\">\n",
       "                 First paragraph.\n",
       "             </p>, <p class=\"inner-text\">\n",
       "                 Second paragraph.\n",
       "             </p>]"
      ]
     },
     "execution_count": 55,
     "metadata": {},
     "output_type": "execute_result"
    }
   ],
   "source": [
    "page = requests.get(\"http://dataquestio.github.io/web-scraping-pages/ids_and_classes.html\")\n",
    "soup = BeautifulSoup(page.content, 'html.parser')\n",
    "soup\n",
    "soup.find_all('p', class_='outer-text')\n",
    "soup.select(\"div p\")\n"
   ]
  },
  {
   "cell_type": "code",
   "execution_count": 57,
   "metadata": {},
   "outputs": [
    {
     "name": "stdout",
     "output_type": "stream",
     "text": [
      "Overnight\n",
      "Rain\n",
      "Low: 47 °F\n",
      "Overnight: Rain.  Low around 47. Southwest wind around 10 mph.  Chance of precipitation is 80%. New precipitation amounts of less than a tenth of an inch possible. \n"
     ]
    },
    {
     "data": {
      "text/html": [
       "<div>\n",
       "<style>\n",
       "    .dataframe thead tr:only-child th {\n",
       "        text-align: right;\n",
       "    }\n",
       "\n",
       "    .dataframe thead th {\n",
       "        text-align: left;\n",
       "    }\n",
       "\n",
       "    .dataframe tbody tr th {\n",
       "        vertical-align: top;\n",
       "    }\n",
       "</style>\n",
       "<table border=\"1\" class=\"dataframe\">\n",
       "  <thead>\n",
       "    <tr style=\"text-align: right;\">\n",
       "      <th></th>\n",
       "      <th>desc</th>\n",
       "      <th>period</th>\n",
       "      <th>short_desc</th>\n",
       "      <th>temp</th>\n",
       "    </tr>\n",
       "  </thead>\n",
       "  <tbody>\n",
       "    <tr>\n",
       "      <th>0</th>\n",
       "      <td>Overnight: Rain.  Low around 47. Southwest win...</td>\n",
       "      <td>Overnight</td>\n",
       "      <td>Rain</td>\n",
       "      <td>Low: 47 °F</td>\n",
       "    </tr>\n",
       "    <tr>\n",
       "      <th>1</th>\n",
       "      <td>Monday: Rain before 10am, then a chance of sho...</td>\n",
       "      <td>Monday</td>\n",
       "      <td>Showers thenChanceShowers andBreezy</td>\n",
       "      <td>High: 55 °F</td>\n",
       "    </tr>\n",
       "    <tr>\n",
       "      <th>2</th>\n",
       "      <td>Monday Night: A 30 percent chance of showers b...</td>\n",
       "      <td>MondayNight</td>\n",
       "      <td>ChanceShowers thenPartly Cloudyand Breezy</td>\n",
       "      <td>Low: 43 °F</td>\n",
       "    </tr>\n",
       "    <tr>\n",
       "      <th>3</th>\n",
       "      <td>Tuesday: Sunny, with a high near 59. North win...</td>\n",
       "      <td>Tuesday</td>\n",
       "      <td>Sunny</td>\n",
       "      <td>High: 59 °F</td>\n",
       "    </tr>\n",
       "    <tr>\n",
       "      <th>4</th>\n",
       "      <td>Tuesday Night: Mostly clear, with a low around...</td>\n",
       "      <td>TuesdayNight</td>\n",
       "      <td>Mostly Clear</td>\n",
       "      <td>Low: 46 °F</td>\n",
       "    </tr>\n",
       "    <tr>\n",
       "      <th>5</th>\n",
       "      <td>Wednesday: A 30 percent chance of rain after 4...</td>\n",
       "      <td>Wednesday</td>\n",
       "      <td>Partly Sunnythen ChanceRain</td>\n",
       "      <td>High: 57 °F</td>\n",
       "    </tr>\n",
       "    <tr>\n",
       "      <th>6</th>\n",
       "      <td>Wednesday Night: Rain, mainly after 10pm.  Low...</td>\n",
       "      <td>WednesdayNight</td>\n",
       "      <td>Rain</td>\n",
       "      <td>Low: 52 °F</td>\n",
       "    </tr>\n",
       "    <tr>\n",
       "      <th>7</th>\n",
       "      <td>Thursday: Rain.  Mostly cloudy, with a high ne...</td>\n",
       "      <td>Thursday</td>\n",
       "      <td>Rain</td>\n",
       "      <td>High: 54 °F</td>\n",
       "    </tr>\n",
       "    <tr>\n",
       "      <th>8</th>\n",
       "      <td>Thursday Night: Showers likely.  Mostly cloudy...</td>\n",
       "      <td>ThursdayNight</td>\n",
       "      <td>ShowersLikely</td>\n",
       "      <td>Low: 48 °F</td>\n",
       "    </tr>\n",
       "  </tbody>\n",
       "</table>\n",
       "</div>"
      ],
      "text/plain": [
       "                                                desc          period  \\\n",
       "0  Overnight: Rain.  Low around 47. Southwest win...       Overnight   \n",
       "1  Monday: Rain before 10am, then a chance of sho...          Monday   \n",
       "2  Monday Night: A 30 percent chance of showers b...     MondayNight   \n",
       "3  Tuesday: Sunny, with a high near 59. North win...         Tuesday   \n",
       "4  Tuesday Night: Mostly clear, with a low around...    TuesdayNight   \n",
       "5  Wednesday: A 30 percent chance of rain after 4...       Wednesday   \n",
       "6  Wednesday Night: Rain, mainly after 10pm.  Low...  WednesdayNight   \n",
       "7  Thursday: Rain.  Mostly cloudy, with a high ne...        Thursday   \n",
       "8  Thursday Night: Showers likely.  Mostly cloudy...   ThursdayNight   \n",
       "\n",
       "                                  short_desc         temp  \n",
       "0                                       Rain   Low: 47 °F  \n",
       "1        Showers thenChanceShowers andBreezy  High: 55 °F  \n",
       "2  ChanceShowers thenPartly Cloudyand Breezy   Low: 43 °F  \n",
       "3                                      Sunny  High: 59 °F  \n",
       "4                               Mostly Clear   Low: 46 °F  \n",
       "5                Partly Sunnythen ChanceRain  High: 57 °F  \n",
       "6                                       Rain   Low: 52 °F  \n",
       "7                                       Rain  High: 54 °F  \n",
       "8                              ShowersLikely   Low: 48 °F  "
      ]
     },
     "execution_count": 57,
     "metadata": {},
     "output_type": "execute_result"
    }
   ],
   "source": [
    "page = requests.get(\"http://forecast.weather.gov/MapClick.php?lat=37.7772&lon=-122.4168\")\n",
    "soup = BeautifulSoup(page.content, 'html.parser')\n",
    "seven_day = soup.find(id=\"seven-day-forecast\")\n",
    "forecast_items = seven_day.find_all(class_=\"tombstone-container\")\n",
    "tonight = forecast_items[0]\n",
    "period = tonight.find(class_=\"period-name\").get_text()\n",
    "short_desc = tonight.find(class_=\"short-desc\").get_text()\n",
    "temp = tonight.find(class_=\"temp\").get_text()\n",
    "print(period)\n",
    "print(short_desc)\n",
    "print(temp)\n",
    "img = tonight.find(\"img\")\n",
    "desc = img['title']\n",
    "print(desc)\n",
    "period_tags = seven_day.select(\".tombstone-container  .period-name\")\n",
    "periods = [pt.get_text() for pt in period_tags]\n",
    "short_descs = [sd.get_text() for sd in seven_day.select(\".tombstone-container .short-desc\")]\n",
    "temps = [t.get_text() for t in seven_day.select(\".tombstone-container .temp\")]\n",
    "descs = [d[\"title\"] for d in seven_day.select(\".tombstone-container img\")]\n",
    "weather = pd.DataFrame({\n",
    "        \"period\": periods, \n",
    "        \"short_desc\": short_descs, \n",
    "        \"temp\": temps, \n",
    "        \"desc\":descs\n",
    "    })\n",
    "weather"
   ]
  }
 ],
 "metadata": {
  "kernelspec": {
   "display_name": "Python 3",
   "language": "python",
   "name": "python3"
  },
  "language_info": {
   "codemirror_mode": {
    "name": "ipython",
    "version": 3
   },
   "file_extension": ".py",
   "mimetype": "text/x-python",
   "name": "python",
   "nbconvert_exporter": "python",
   "pygments_lexer": "ipython3",
   "version": "3.6.2"
  }
 },
 "nbformat": 4,
 "nbformat_minor": 2
}
