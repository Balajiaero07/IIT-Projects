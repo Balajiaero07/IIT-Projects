{
 "cells": [
  {
   "cell_type": "code",
   "execution_count": 14,
   "metadata": {
    "collapsed": true
   },
   "outputs": [],
   "source": [
    "import numpy as np\n",
    "import matplotlib.pyplot as plt\n",
    "from matplotlib.collections import LineCollection\n",
    "import matplotlib.pyplot as plt\n",
    "import random\n",
    "# main program\n",
    "goal_x=0\n",
    "goal_y=0\n",
    "dx=0.025\n",
    "dy=0.025"
   ]
  },
  {
   "cell_type": "code",
   "execution_count": 15,
   "metadata": {
    "collapsed": true,
    "scrolled": true
   },
   "outputs": [],
   "source": [
    "def environment(state_action):\n",
    "    if state_action[2] == 1:\n",
    "        new_state=[state_action[0],state_action[1]+dy]\n",
    "    elif state_action[3]== 1:\n",
    "        new_state=[state_action[0]+dx,state_action[1]]      \n",
    "    elif state_action[4]== 1:\n",
    "        new_state=[state_action[0]-dx,state_action[1]]\n",
    "    elif state_action[5]== 1:\n",
    "        new_state=[state_action[0],state_action[1]-dy]  \n",
    "    reward=new_state[0]**2+new_state[1]**2\n",
    "    return (new_state,reward)"
   ]
  },
  {
   "cell_type": "code",
   "execution_count": 16,
   "metadata": {
    "collapsed": true
   },
   "outputs": [],
   "source": [
    "state_action= [.5,.5,0,1,0,0]"
   ]
  },
  {
   "cell_type": "code",
   "execution_count": 6,
   "metadata": {
    "collapsed": true
   },
   "outputs": [],
   "source": [
    "new_state_reward=environment(state_action)"
   ]
  },
  {
   "cell_type": "code",
   "execution_count": 7,
   "metadata": {},
   "outputs": [
    {
     "name": "stdout",
     "output_type": "stream",
     "text": [
      "([0.525, 0.5], 0.525625)\n"
     ]
    }
   ],
   "source": [
    "print(new_state_reward)"
   ]
  },
  {
   "cell_type": "code",
   "execution_count": 8,
   "metadata": {},
   "outputs": [
    {
     "name": "stdout",
     "output_type": "stream",
     "text": [
      "[0.525, 0.5]\n"
     ]
    }
   ],
   "source": [
    "print(new_state_reward[0])"
   ]
  },
  {
   "cell_type": "code",
   "execution_count": null,
   "metadata": {
    "collapsed": true
   },
   "outputs": [],
   "source": []
  },
  {
   "cell_type": "code",
   "execution_count": null,
   "metadata": {
    "collapsed": true
   },
   "outputs": [],
   "source": [
    "    # States after hitting wall remains unchanged  \n",
    "    if new_state[0]>=1|new_state[0]<= -1:\n",
    "        break\n",
    "    if new_state[1]>=1|new_state[1]<= -1:\n",
    "        break "
   ]
  },
  {
   "cell_type": "code",
   "execution_count": 9,
   "metadata": {
    "collapsed": true
   },
   "outputs": [],
   "source": [
    "new_state=new_state_reward[0]"
   ]
  },
  {
   "cell_type": "code",
   "execution_count": 11,
   "metadata": {
    "collapsed": true
   },
   "outputs": [],
   "source": [
    "A1 = [1,0,0,0]\n",
    "A2 = [0,1,0,0]\n",
    "A3 = [0,0,1,0]\n",
    "A4 = [0,0,0,1]\n",
    "action1 = np.concatenate((new_state,A1),axis=0)\n",
    "action2 = np.concatenate((new_state,A2),axis=0) \n",
    "action3 = np.concatenate((new_state,A3),axis=0)\n",
    "action4 = np.concatenate((new_state,A4),axis=0)"
   ]
  },
  {
   "cell_type": "code",
   "execution_count": 33,
   "metadata": {
    "collapsed": true
   },
   "outputs": [],
   "source": [
    "theta=[0.1,0.5,0,0,0,0]"
   ]
  },
  {
   "cell_type": "code",
   "execution_count": 12,
   "metadata": {},
   "outputs": [
    {
     "name": "stdout",
     "output_type": "stream",
     "text": [
      "[0.525 0.5   1.    0.    0.    0.   ]\n"
     ]
    }
   ],
   "source": [
    "print(action1)"
   ]
  },
  {
   "cell_type": "code",
   "execution_count": 1,
   "metadata": {
    "collapsed": true
   },
   "outputs": [],
   "source": [
    "def rollout_pi (new_state):\n",
    "    A1 = [1,0,0,0]\n",
    "    A2 = [0,1,0,0]\n",
    "    A3 = [0,0,1,0]\n",
    "    A4 = [0,0,0,1]\n",
    "    st_action1 = np.concatenate((new_state,A1),axis=0)\n",
    "    st_action2 = np.concatenate((new_state,A2),axis=0) \n",
    "    st_action3 = np.concatenate((new_state,A3),axis=0)\n",
    "    st_action4 = np.concatenate((new_state,A4),axis=0)\n"
   ]
  },
  {
   "cell_type": "code",
   "execution_count": 15,
   "metadata": {},
   "outputs": [
    {
     "name": "stdout",
     "output_type": "stream",
     "text": [
      "0\n",
      "1\n"
     ]
    },
    {
     "ename": "KeyboardInterrupt",
     "evalue": "",
     "output_type": "error",
     "traceback": [
      "\u001b[1;31m---------------------------------------------------------------------------\u001b[0m",
      "\u001b[1;31mKeyboardInterrupt\u001b[0m                         Traceback (most recent call last)",
      "\u001b[1;32m<ipython-input-15-1d709c273887>\u001b[0m in \u001b[0;36m<module>\u001b[1;34m()\u001b[0m\n\u001b[0;32m     55\u001b[0m                         \u001b[1;32mbreak\u001b[0m\u001b[1;33m\u001b[0m\u001b[0m\n\u001b[0;32m     56\u001b[0m                 \u001b[1;32melse\u001b[0m\u001b[1;33m:\u001b[0m\u001b[1;33m\u001b[0m\u001b[0m\n\u001b[1;32m---> 57\u001b[1;33m                     \u001b[0mstate_new\u001b[0m \u001b[1;33m=\u001b[0m \u001b[0menvironment\u001b[0m\u001b[1;33m(\u001b[0m\u001b[0mstate_action\u001b[0m\u001b[1;33m)\u001b[0m\u001b[1;33m\u001b[0m\u001b[0m\n\u001b[0m",
      "\u001b[1;31mKeyboardInterrupt\u001b[0m: "
     ]
    }
   ],
   "source": [
    "import numpy as np\n",
    "import matplotlib.pyplot as plt\n",
    "from matplotlib.collections import LineCollection\n",
    "import matplotlib.pyplot as plt\n",
    "import random\n",
    "# main program\n",
    "goal_x=0\n",
    "goal_y=0\n",
    "dx=0.025\n",
    "dy=0.025\n",
    "epsilon_value = 0.1   # assume\n",
    "alpha = 0.5  #learning rate\n",
    "gamma = 0.9  #discount rate  \n",
    "episodes = 5000 \n",
    "runs = 50  \n",
    "M = 10000\n",
    "\n",
    "for r in range(runs):\n",
    "    print(r)\n",
    "    for e in range(episodes):\n",
    "    # defining starting points\n",
    "        start_x =np.random.uniform(-1,1)\n",
    "        start_y =np.random.uniform(-1,1)\n",
    "\n",
    "    # discretising the action as north,east,west,south\n",
    "        act_sel=np.random.choice([0,1, 2, 3])\n",
    "        if act_sel == 0:\n",
    "            a1=1\n",
    "            a2=0\n",
    "            a3=0\n",
    "            a4=0\n",
    "        elif act_sel == 1:\n",
    "            a1=0\n",
    "            a2=1\n",
    "            a3=0\n",
    "            a4=0        \n",
    "        elif act_sel == 2:\n",
    "            a1=0\n",
    "            a2=0\n",
    "            a3=1\n",
    "            a4=0        \n",
    "        elif act_sel == 3:\n",
    "            a1=0\n",
    "            a2=0\n",
    "            a3=0\n",
    "            a4=1\n",
    "\n",
    "            x=start_x\n",
    "            y=start_y\n",
    "            state_action= [x,y,a1,a2,a3,a4]\n",
    "            G = 0\n",
    "            \n",
    "            for k in range(M):\n",
    "                if x == goal_x and y == goal_y: \n",
    "                        break\n",
    "                else:\n",
    "                    state_new = environment(state_action)                                "
   ]
  },
  {
   "cell_type": "code",
   "execution_count": null,
   "metadata": {
    "collapsed": true
   },
   "outputs": [],
   "source": [
    "plt.plot(avg_G)\n",
    "plt.show()"
   ]
  },
  {
   "cell_type": "code",
   "execution_count": 16,
   "metadata": {},
   "outputs": [
    {
     "name": "stdout",
     "output_type": "stream",
     "text": [
      "([-0.6138873704346144, -0.9541679372216308], 1.2872941560009075)\n"
     ]
    }
   ],
   "source": [
    "print(state_new)"
   ]
  },
  {
   "cell_type": "code",
   "execution_count": null,
   "metadata": {
    "collapsed": true
   },
   "outputs": [],
   "source": [
    "plt.plot(avg_steps)\n",
    "plt.show()"
   ]
  }
 ],
 "metadata": {
  "kernelspec": {
   "display_name": "Python 3",
   "language": "python",
   "name": "python3"
  },
  "language_info": {
   "codemirror_mode": {
    "name": "ipython",
    "version": 3
   },
   "file_extension": ".py",
   "mimetype": "text/x-python",
   "name": "python",
   "nbconvert_exporter": "python",
   "pygments_lexer": "ipython3",
   "version": "3.6.2"
  }
 },
 "nbformat": 4,
 "nbformat_minor": 2
}
